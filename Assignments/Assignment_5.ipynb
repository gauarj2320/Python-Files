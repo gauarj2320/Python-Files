{
 "cells": [
  {
   "cell_type": "markdown",
   "metadata": {},
   "source": [
    "### <span style=\"color:orange\">More on Iterative Control Statements</span>\n",
    "1. Write a program to print MySirG N times on the screen\n",
    "2. Write a program to print the first N natural numbers.\n",
    "3. Write a program to print the first N natural numbers in reverse order\n",
    "4. Write a program to print the first N odd natural numbers\n",
    "5. Write a program to print the first N odd natural numbers in reverse order.\n",
    "6. Write a program to print the first N even natural numbers\n",
    "7. Write a program to print the first N even natural numbers in reverse order\n",
    "8. Write a program to print squares of the first N natural numbers\n",
    "9. Write a program to print cubes of the first N natural numbers\n",
    "10. Write a program to print a table of N."
   ]
  },
  {
   "cell_type": "code",
   "execution_count": 1,
   "metadata": {},
   "outputs": [
    {
     "name": "stdout",
     "output_type": "stream",
     "text": [
      "\"MySirG\"\n",
      "\"MySirG\"\n",
      "\"MySirG\"\n",
      "\"MySirG\"\n"
     ]
    }
   ],
   "source": [
    "#Q1.\n",
    "n=int(input(\"Enter value of n\"))\n",
    "for i in range(1,n+1):\n",
    "    print('''\"MySirG\"''')"
   ]
  },
  {
   "cell_type": "code",
   "execution_count": 2,
   "metadata": {},
   "outputs": [
    {
     "name": "stdout",
     "output_type": "stream",
     "text": [
      "1,2,3,4,5,6,7,8,9,10,11,12,13,14,15,16,17,18,19,20,21,22,23,"
     ]
    }
   ],
   "source": [
    "#Q2.\n",
    "n=int(input(\"Enter value of n\"))\n",
    "for i in range(1,n+1):\n",
    "    print(i,end=',')"
   ]
  },
  {
   "cell_type": "code",
   "execution_count": 8,
   "metadata": {},
   "outputs": [
    {
     "name": "stdout",
     "output_type": "stream",
     "text": [
      "26,25,24,23,22,21,20,19,18,17,16,15,14,13,12,11,10,9,8,7,6,5,4,3,2,1,"
     ]
    }
   ],
   "source": [
    "# Q3.\n",
    "n=int(input(\"Enter value of n\"))\n",
    "for i in range(1,n+1):\n",
    "    print(n+1-i,end=',')"
   ]
  },
  {
   "cell_type": "code",
   "execution_count": 4,
   "metadata": {},
   "outputs": [
    {
     "name": "stdout",
     "output_type": "stream",
     "text": [
      "1,3,5,7,9,11,13,"
     ]
    }
   ],
   "source": [
    "#Q4.\n",
    "n=int(input(\"Enter value of n\"))\n",
    "for i in range(1,n+1):\n",
    "    print(2*i-1,end=',')"
   ]
  },
  {
   "cell_type": "code",
   "execution_count": 11,
   "metadata": {},
   "outputs": [
    {
     "name": "stdout",
     "output_type": "stream",
     "text": [
      "11,9,7,5,3,1,"
     ]
    }
   ],
   "source": [
    "#Q5.\n",
    "n=int(input(\"Enter value of n\"))\n",
    "for i in range(1,n+1):\n",
    "    print(((2*(n-1)+1)-2*i+2),end=',')"
   ]
  },
  {
   "cell_type": "code",
   "execution_count": 14,
   "metadata": {},
   "outputs": [
    {
     "name": "stdout",
     "output_type": "stream",
     "text": [
      "2,4,6,8,10,12,14,"
     ]
    }
   ],
   "source": [
    "#Q6.\n",
    "n=int(input(\"Enter value of n\"))\n",
    "for i in range(1,n+1):\n",
    "    print(2*i,end=',')"
   ]
  },
  {
   "cell_type": "code",
   "execution_count": 15,
   "metadata": {},
   "outputs": [
    {
     "name": "stdout",
     "output_type": "stream",
     "text": [
      "14,12,10,8,6,4,2,"
     ]
    }
   ],
   "source": [
    "#Q7.\n",
    "n=int(input(\"Enter value of n\"))\n",
    "for i in range(1,n+1):\n",
    "    print(-2*i+2+2*n,end=',')"
   ]
  },
  {
   "cell_type": "code",
   "execution_count": 18,
   "metadata": {},
   "outputs": [
    {
     "name": "stdout",
     "output_type": "stream",
     "text": [
      "49,36,25,16,9,4,1,"
     ]
    }
   ],
   "source": [
    "#Q8.\n",
    "n=int(input(\"Enter value of n\"))\n",
    "for i in range(n,0,-1):\n",
    "    print(i*i,end=',')"
   ]
  },
  {
   "cell_type": "code",
   "execution_count": 19,
   "metadata": {},
   "outputs": [
    {
     "name": "stdout",
     "output_type": "stream",
     "text": [
      "512,343,216,125,64,27,8,1,"
     ]
    }
   ],
   "source": [
    "#Q9.\n",
    "n=int(input(\"Enter value of n\"))\n",
    "for i in range(n,0,-1):\n",
    "    print(i*i*i,end=',')"
   ]
  },
  {
   "cell_type": "code",
   "execution_count": 20,
   "metadata": {},
   "outputs": [
    {
     "name": "stdout",
     "output_type": "stream",
     "text": [
      "5X1==5\n",
      "5X2==10\n",
      "5X3==15\n",
      "5X4==20\n",
      "5X5==25\n",
      "5X6==30\n",
      "5X7==35\n",
      "5X8==40\n",
      "5X9==45\n",
      "5X10==50\n",
      "5X11==55\n",
      "5X12==60\n",
      "5X13==65\n",
      "5X14==70\n",
      "5X15==75\n",
      "5X16==80\n",
      "5X17==85\n",
      "5X18==90\n",
      "5X19==95\n",
      "5X20==100\n"
     ]
    }
   ],
   "source": [
    "n=int(input(\"Enter value of n\"))\n",
    "for i in range(1,n+1):\n",
    "    print(f\"5X{i}=={5*i}\")"
   ]
  }
 ],
 "metadata": {
  "kernelspec": {
   "display_name": "Python 3",
   "language": "python",
   "name": "python3"
  },
  "language_info": {
   "codemirror_mode": {
    "name": "ipython",
    "version": 3
   },
   "file_extension": ".py",
   "mimetype": "text/x-python",
   "name": "python",
   "nbconvert_exporter": "python",
   "pygments_lexer": "ipython3",
   "version": "3.11.2"
  }
 },
 "nbformat": 4,
 "nbformat_minor": 2
}
