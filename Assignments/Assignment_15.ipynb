{
 "cells": [
  {
   "cell_type": "code",
   "execution_count": 2,
   "metadata": {},
   "outputs": [
    {
     "name": "stdout",
     "output_type": "stream",
     "text": [
      "Sum: 15\n"
     ]
    }
   ],
   "source": [
    "# Q1. Write a recursive python function to calculate sum of first N natural numbers\n",
    "def sum_num(n):\n",
    "    if n==1:\n",
    "        return 1\n",
    "    return n+sum_num(n-1)\n",
    "\n",
    "s=sum_num(5)\n",
    "print(\"Sum:\",s)"
   ]
  },
  {
   "cell_type": "code",
   "execution_count": 6,
   "metadata": {},
   "outputs": [
    {
     "name": "stdout",
     "output_type": "stream",
     "text": [
      "Sum: 25\n"
     ]
    }
   ],
   "source": [
    "#Q2. Write a recursive python function to calculate sum of first N odd natural numbers\n",
    "def odd_num(n):\n",
    "    if n==1:\n",
    "        return 1\n",
    "    return (2*n-1)+odd_num(n-1)\n",
    "\n",
    "s=odd_num(5)\n",
    "print(\"Sum:\",s)"
   ]
  },
  {
   "cell_type": "code",
   "execution_count": 9,
   "metadata": {},
   "outputs": [
    {
     "name": "stdout",
     "output_type": "stream",
     "text": [
      "Sum: 30\n"
     ]
    }
   ],
   "source": [
    "#Q3. Write a recursive python function to calculate sum of first N even natural numbers\n",
    "def even_num(n):\n",
    "    if n==0:\n",
    "        return 0\n",
    "    return (2*n)+even_num(n-1)\n",
    "\n",
    "s=even_num(5)\n",
    "print(\"Sum:\",s)"
   ]
  },
  {
   "cell_type": "code",
   "execution_count": 11,
   "metadata": {},
   "outputs": [
    {
     "name": "stdout",
     "output_type": "stream",
     "text": [
      "Sum: 55\n"
     ]
    }
   ],
   "source": [
    "#Q4, Write a recursive python function to calculate sum of squares of first N natural numbers\n",
    "def square_num(n):\n",
    "    if n==1:\n",
    "        return 1\n",
    "    return (n**2)+square_num(n-1)\n",
    "\n",
    "s=square_num(5)\n",
    "print(\"Sum:\",s)"
   ]
  },
  {
   "cell_type": "code",
   "execution_count": 13,
   "metadata": {},
   "outputs": [
    {
     "name": "stdout",
     "output_type": "stream",
     "text": [
      "Sum: 36\n"
     ]
    }
   ],
   "source": [
    "#Q5. Write a recursive python function to calculate sum of cubes of first N natural numbers\n",
    "def cube_num(n):\n",
    "    if n==1:\n",
    "        return 1\n",
    "    return (n**3)+cube_num(n-1)\n",
    "\n",
    "s=cube_num(3)\n",
    "print(\"Sum:\",s)"
   ]
  },
  {
   "cell_type": "code",
   "execution_count": 14,
   "metadata": {},
   "outputs": [
    {
     "name": "stdout",
     "output_type": "stream",
     "text": [
      "factorial 120\n"
     ]
    }
   ],
   "source": [
    "# Q6.Write a recursive python function to calculate the factorial of a number\n",
    "def fact(n):\n",
    "    if n==1:\n",
    "        return 1\n",
    "    return n*fact(n-1)\n",
    "f=fact(5)\n",
    "print(\"factorial\",f)"
   ]
  },
  {
   "cell_type": "code",
   "execution_count": 5,
   "metadata": {},
   "outputs": [
    {
     "name": "stdout",
     "output_type": "stream",
     "text": [
      "Sum of digits of 123 is 6\n"
     ]
    }
   ],
   "source": [
    "#Q7. Write a recursive python function to calculate sum of the digits of a given number\n",
    "def digits(n):\n",
    "    if n==0:\n",
    "        return 0\n",
    "    return n%10+digits(n//10)\n",
    "d=digits(123)\n",
    "print(\"Sum of digits of 123 is\",d)"
   ]
  },
  {
   "cell_type": "code",
   "execution_count": 11,
   "metadata": {},
   "outputs": [
    {
     "name": "stdout",
     "output_type": "stream",
     "text": [
      "Binary: 1000011"
     ]
    }
   ],
   "source": [
    "#Q8. Write a recursive python function to print binary of a given decimal number.\n",
    "def bin(n):\n",
    "    if n>0:\n",
    "        bin(n//2)\n",
    "        print(n%2,end='')\n",
    "\n",
    "print(\"Binary:\",end=' ')\n",
    "bin(67)"
   ]
  },
  {
   "cell_type": "code",
   "execution_count": 15,
   "metadata": {},
   "outputs": [
    {
     "name": "stdout",
     "output_type": "stream",
     "text": [
      "Octal: 14"
     ]
    }
   ],
   "source": [
    "#Q9. Write a recursive python function to print octal of a given decimal number\n",
    "def octal(n):\n",
    "    if n>0:\n",
    "        bin(n//8)\n",
    "        print(n%8,end='')\n",
    "\n",
    "print(\"Octal:\",end=' ')\n",
    "octal(12)"
   ]
  },
  {
   "cell_type": "code",
   "execution_count": 16,
   "metadata": {},
   "outputs": [
    {
     "name": "stdout",
     "output_type": "stream",
     "text": [
      "The 5th term of the Fibonacci series is: 5\n"
     ]
    }
   ],
   "source": [
    "#Q10. Write a recursive python function to find the Nth term of the Fibonacci series.,\n",
    "def fibonacci(n):\n",
    "    if n <= 0:\n",
    "        return 0\n",
    "    elif n == 1:\n",
    "        return 1\n",
    "    else:\n",
    "        return fibonacci(n-1) + fibonacci(n-2)\n",
    "\n",
    "# Example usage:\n",
    "N = int(input(\"Enter the term number (N) to find in Fibonacci series: \"))\n",
    "result = fibonacci(N)\n",
    "print(f\"The {N}th term of the Fibonacci series is: {result}\")\n"
   ]
  },
  {
   "cell_type": "code",
   "execution_count": 17,
   "metadata": {},
   "outputs": [
    {
     "name": "stdout",
     "output_type": "stream",
     "text": [
      "1,2,3,4,5,6,7,8,9,10,"
     ]
    }
   ],
   "source": [
    "#Q11. Write a recursive python function to print first N natural numbers\n",
    "def prn(n):\n",
    "    if n>0:\n",
    "        prn(n-1)\n",
    "        print(n,end=',')\n",
    "prn(10)"
   ]
  },
  {
   "cell_type": "code",
   "execution_count": 19,
   "metadata": {},
   "outputs": [
    {
     "name": "stdout",
     "output_type": "stream",
     "text": [
      "10,9,8,7,6,5,4,3,2,1,"
     ]
    }
   ],
   "source": [
    "# Q12.Write a recursive python function to print first N natural numbers in reverse order\n",
    "def prn_rev(n):\n",
    "    if n>0:\n",
    "        print(n,end=',')\n",
    "        prn_rev(n-1)\n",
    "        \n",
    "prn_rev(10)"
   ]
  },
  {
   "cell_type": "code",
   "execution_count": 20,
   "metadata": {},
   "outputs": [
    {
     "name": "stdout",
     "output_type": "stream",
     "text": [
      "1,3,5,7,9,"
     ]
    }
   ],
   "source": [
    "#Q13. Write a recursive python function to print first N odd natural numbers\n",
    "def prn_odd(n):\n",
    "    if n>0:\n",
    "        prn_odd(n-1)\n",
    "        print(2*n-1,end=',')\n",
    "        \n",
    "prn_odd(5)"
   ]
  },
  {
   "cell_type": "code",
   "execution_count": 21,
   "metadata": {},
   "outputs": [
    {
     "name": "stdout",
     "output_type": "stream",
     "text": [
      "9,7,5,3,1,"
     ]
    }
   ],
   "source": [
    "#Q14. Write a recursive python function to print first N odd natural numbers in reverse order\n",
    "def prn_odd_rev(n):\n",
    "    if n>0:\n",
    "        print(2*n-1,end=',')\n",
    "        prn_odd_rev(n-1)\n",
    "        \n",
    "prn_odd_rev(5)"
   ]
  },
  {
   "cell_type": "code",
   "execution_count": 22,
   "metadata": {},
   "outputs": [
    {
     "name": "stdout",
     "output_type": "stream",
     "text": [
      "2,4,6,8,10,"
     ]
    }
   ],
   "source": [
    "#Q15. Write a recursive python function to print first N even natural numbers\n",
    "def prn_even(n):\n",
    "    if n>0:\n",
    "        prn_even(n-1)\n",
    "        print(2*n,end=',')\n",
    "        \n",
    "prn_even(5)"
   ]
  },
  {
   "cell_type": "code",
   "execution_count": 23,
   "metadata": {},
   "outputs": [
    {
     "name": "stdout",
     "output_type": "stream",
     "text": [
      "10,8,6,4,2,"
     ]
    }
   ],
   "source": [
    "#Q16. Write a recursive python function to print first N even natural numbers in reverse order.\n",
    "def prn_even_rev(n):\n",
    "    if n>0:\n",
    "        print(2*n,end=',')\n",
    "        prn_even_rev(n-1)\n",
    "         \n",
    "prn_even_rev(5)"
   ]
  },
  {
   "cell_type": "code",
   "execution_count": 24,
   "metadata": {},
   "outputs": [
    {
     "name": "stdout",
     "output_type": "stream",
     "text": [
      "1,4,9,16,25,"
     ]
    }
   ],
   "source": [
    "#Q17. Write a recursive python function to print squares of first N natural numbers\n",
    "def prn_squ(n):\n",
    "    if n>0:\n",
    "        prn_squ(n-1)\n",
    "        print(n**2,end=',')\n",
    "        \n",
    "prn_squ(5)"
   ]
  },
  {
   "cell_type": "code",
   "execution_count": 25,
   "metadata": {},
   "outputs": [
    {
     "name": "stdout",
     "output_type": "stream",
     "text": [
      "1,8,27,64,125,"
     ]
    }
   ],
   "source": [
    "#Q18. Write a recursive python function to print cubes of first N natural numbers\n",
    "def prn_cube(n):\n",
    "    if n>0:\n",
    "        prn_cube(n-1)\n",
    "        print(n**3,end=',')\n",
    "        \n",
    "prn_cube(5)"
   ]
  },
  {
   "cell_type": "code",
   "execution_count": 27,
   "metadata": {},
   "outputs": [
    {
     "name": "stdout",
     "output_type": "stream",
     "text": [
      "5,10,15,20,25,30,35,40,45,50,"
     ]
    }
   ],
   "source": [
    "#Q19. Write a recursive python function to print first N multiples of a given number\n",
    "def prn_mul(n,a):\n",
    "    if n>0:\n",
    "        prn_mul(n-1,a)\n",
    "        print(a*n,end=',')\n",
    "prn_mul(10,5)"
   ]
  },
  {
   "cell_type": "code",
   "execution_count": 28,
   "metadata": {},
   "outputs": [
    {
     "name": "stdout",
     "output_type": "stream",
     "text": [
      "4321"
     ]
    }
   ],
   "source": [
    "#Q20. Write a recursive python function to print a number in reverse order.\n",
    "def rev(n):\n",
    "    if n>0:\n",
    "        print(n%10,end='')\n",
    "        rev(n//10)\n",
    "rev(1234)"
   ]
  }
 ],
 "metadata": {
  "kernelspec": {
   "display_name": "Python 3",
   "language": "python",
   "name": "python3"
  },
  "language_info": {
   "codemirror_mode": {
    "name": "ipython",
    "version": 3
   },
   "file_extension": ".py",
   "mimetype": "text/x-python",
   "name": "python",
   "nbconvert_exporter": "python",
   "pygments_lexer": "ipython3",
   "version": "3.11.2"
  }
 },
 "nbformat": 4,
 "nbformat_minor": 2
}
