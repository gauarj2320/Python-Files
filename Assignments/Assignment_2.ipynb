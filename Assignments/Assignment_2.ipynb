{
 "cells": [
  {
   "cell_type": "markdown",
   "metadata": {},
   "source": [
    "### <span style=\"color:orange\">Operators in Python Language</span>\n",
    "\n",
    "1. Write a program to print unit digit of a given number\n",
    "2. Write a program to print a given number without its last digit.\n",
    "3. Write a program to swap values of two int variables\n",
    "4. Write a program to swap values of two int variables without using a third variable.\n",
    "5. Write a program to input a three-digit number and display the sum of the digits.\n",
    "6. Write a program which takes a character as an input and displays its ASCII code.\n",
    "7. Write a program to find the position of first 1 in LSB.\n",
    "8. Write a program to check whether the given number is even or odd using a bitwise\n",
    "operator.\n",
    "9. Write a program to print size of an int, a float, a char and a double type variable\n",
    "10. Write a program to make the last digit of a number stored in a variable as zero.\n",
    "(Example - if x=2345 then make it x=2340)\n",
    "11. Write a program to input a number from the user and also input a digit. Append a\n",
    "digit in the number and print the resulting number. (Example - number=234 and\n",
    "digit=9 then the resulting number is 2349)\n",
    "12. Assume price of 1 USD is INR 76.23. Write a program to take the amount in INR and\n",
    "convert it into USD.\n",
    "13. Write a program to take a three-digit number from the user and rotate its digits by\n",
    "one position towards the right."
   ]
  },
  {
   "cell_type": "code",
   "execution_count": 1,
   "metadata": {},
   "outputs": [
    {
     "name": "stdout",
     "output_type": "stream",
     "text": [
      "Unit digit of 2345 is 5\n"
     ]
    }
   ],
   "source": [
    "#Q1.\n",
    "num=int(input(\"Enter a number:\"))\n",
    "print(f\"Unit digit of {num} is {(num%10)}\")"
   ]
  },
  {
   "cell_type": "code",
   "execution_count": 3,
   "metadata": {},
   "outputs": [
    {
     "name": "stdout",
     "output_type": "stream",
     "text": [
      "  23456 without it's last digit is 2345\n"
     ]
    }
   ],
   "source": [
    "#Q2.\n",
    "num=int(input(\"Enter a number:\"))\n",
    "print(f\"  {num} without it's last digit is {(num//10)}\")"
   ]
  },
  {
   "cell_type": "code",
   "execution_count": 6,
   "metadata": {},
   "outputs": [
    {
     "name": "stdout",
     "output_type": "stream",
     "text": [
      "Before swap: a=34 and b=29\n",
      "After swap: a=29 and b=34\n"
     ]
    }
   ],
   "source": [
    "#Q3.\n",
    "a=int(input(\"Enter num 1\"))\n",
    "b=int(input(\"Enter num 2\"))\n",
    "print(f\"Before swap: a={a} and b={b}\")\n",
    "swap=a\n",
    "a=b\n",
    "b=swap\n",
    "print(f\"After swap: a={a} and b={b}\")\n"
   ]
  },
  {
   "cell_type": "code",
   "execution_count": 7,
   "metadata": {},
   "outputs": [
    {
     "name": "stdout",
     "output_type": "stream",
     "text": [
      "Before swap: a=29 and b=34\n",
      "After swap: a=34 and b=29\n"
     ]
    }
   ],
   "source": [
    "#Q4.\n",
    "a=int(input(\"Enter num 1\"))\n",
    "b=int(input(\"Enter num 2\"))\n",
    "print(f\"Before swap: a={a} and b={b}\")\n",
    "a=a^b\n",
    "b=a^b\n",
    "a=a^b\n",
    "print(f\"After swap: a={a} and b={b}\")\n"
   ]
  },
  {
   "cell_type": "code",
   "execution_count": 18,
   "metadata": {},
   "outputs": [
    {
     "name": "stdout",
     "output_type": "stream",
     "text": [
      "8833 is not a three digit number\n"
     ]
    }
   ],
   "source": [
    "# Q5.\n",
    "num=int(input(\"Enter a three digit number:\"))\n",
    "if 100<num<999:\n",
    "    sum=int(num%10) + int((num/10)%10) +int(num/100)\n",
    "    print(f\"Sum of digits of {num} is {sum}\")\n",
    "else:\n",
    "    print(f\"{num} is not a three digit number\")"
   ]
  },
  {
   "cell_type": "code",
   "execution_count": 20,
   "metadata": {},
   "outputs": [
    {
     "name": "stdout",
     "output_type": "stream",
     "text": [
      "ASCII code of 'A' is:65\n"
     ]
    }
   ],
   "source": [
    "#Q6.\n",
    "char=input(\"Enter a character:\")\n",
    "print(f\"ASCII code of '{char}' is:{ord(char)}\")"
   ]
  },
  {
   "cell_type": "code",
   "execution_count": 23,
   "metadata": {},
   "outputs": [
    {
     "name": "stdout",
     "output_type": "stream",
     "text": [
      "The position of first 1 in LSB of 12 is 3\n"
     ]
    }
   ],
   "source": [
    "# Q7.\n",
    "num=int(input(\"Enter a number:\"))\n",
    "count=1\n",
    "new=num\n",
    "while(num&1==0):\n",
    "    num=num>>1\n",
    "    count+=1\n",
    "print(f\"The position of first 1 in LSB of {new} is {count}\")"
   ]
  },
  {
   "cell_type": "code",
   "execution_count": 24,
   "metadata": {},
   "outputs": [
    {
     "name": "stdout",
     "output_type": "stream",
     "text": [
      "5 is odd\n"
     ]
    }
   ],
   "source": [
    "#Q8.\n",
    "num=int(input(\"Enter a number:\"))\n",
    "if(num&1==1):\n",
    "    print(f\"{num} is odd\")\n",
    "else:\n",
    "    print(f\"{num} is even\")"
   ]
  },
  {
   "cell_type": "code",
   "execution_count": 26,
   "metadata": {},
   "outputs": [
    {
     "name": "stdout",
     "output_type": "stream",
     "text": [
      "28\n",
      "24\n",
      "52\n"
     ]
    }
   ],
   "source": [
    "#Q9.\n",
    "import sys\n",
    "print(sys.getsizeof(1))\n",
    "print(sys.getsizeof(2.34))\n",
    "print(sys.getsizeof(\"arj\"))"
   ]
  },
  {
   "cell_type": "code",
   "execution_count": 27,
   "metadata": {},
   "outputs": [
    {
     "name": "stdout",
     "output_type": "stream",
     "text": [
      "2345-->2340\n"
     ]
    }
   ],
   "source": [
    "#Q10.\n",
    "num=int(input(\"Enter a number\"))\n",
    "print(f\"{num}-->{(num//10)*10}\")"
   ]
  },
  {
   "cell_type": "code",
   "execution_count": 28,
   "metadata": {},
   "outputs": [
    {
     "name": "stdout",
     "output_type": "stream",
     "text": [
      "2345-->2349\n"
     ]
    }
   ],
   "source": [
    "#Q11.\n",
    "num=int(input(\"Enter a number\"))\n",
    "print(f\"{num}-->{(num//10)*10+9}\")"
   ]
  },
  {
   "cell_type": "code",
   "execution_count": 35,
   "metadata": {},
   "outputs": [
    {
     "name": "stdout",
     "output_type": "stream",
     "text": [
      "USD value of 100 rupees is 1.31 dollar\n"
     ]
    }
   ],
   "source": [
    "#Q12.\n",
    "inr=int(input(\"Enter value in INR:\"))\n",
    "print(f\"USD value of {inr} rupees is {inr*(1/76.23):.2f} dollar\")"
   ]
  },
  {
   "cell_type": "code",
   "execution_count": 36,
   "metadata": {},
   "outputs": [
    {
     "name": "stdout",
     "output_type": "stream",
     "text": [
      "Reversed of 123 is 321\n"
     ]
    }
   ],
   "source": [
    "#Q13.\n",
    "num=int(input(\"Enter a number:\"))\n",
    "if 99<num<1000:\n",
    "    str=str(num)\n",
    "    new_str=str[::-1]\n",
    "    print(f\"Reversed of {num} is {int(new_str)}\")\n",
    "\n",
    "\n"
   ]
  }
 ],
 "metadata": {
  "kernelspec": {
   "display_name": "Python 3",
   "language": "python",
   "name": "python3"
  },
  "language_info": {
   "codemirror_mode": {
    "name": "ipython",
    "version": 3
   },
   "file_extension": ".py",
   "mimetype": "text/x-python",
   "name": "python",
   "nbconvert_exporter": "python",
   "pygments_lexer": "ipython3",
   "version": "3.11.2"
  }
 },
 "nbformat": 4,
 "nbformat_minor": 2
}
