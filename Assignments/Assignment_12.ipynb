{
 "cells": [
  {
   "cell_type": "code",
   "execution_count": 2,
   "metadata": {},
   "outputs": [
    {
     "name": "stdout",
     "output_type": "stream",
     "text": [
      "Set: {'C', 'Matlab', 'Java', 'Flutter', 'Kotlin', 'Go', 'C++', 'Python', 'Pearl', 'Javascript', 'Rust', 'Dart'}\n"
     ]
    }
   ],
   "source": [
    "#Q1.Write a python program to store all the programming languages known to you using Set.\n",
    "s={\"Java\",\"C\",\"C++\",\"Python\",\"Flutter\",\"Dart\",\"Javascript\",\"Pearl\",\"Kotlin\",\"Go\",\"Rust\",\"Matlab\"}\n",
    "print(\"Set:\",s)"
   ]
  },
  {
   "cell_type": "code",
   "execution_count": 3,
   "metadata": {},
   "outputs": [
    {
     "name": "stdout",
     "output_type": "stream",
     "text": [
      "{48, 'Ryan Reynold', 'male'}\n"
     ]
    }
   ],
   "source": [
    "#Q2.Write a python program to store your own information {name, age, gender, so on..}\n",
    "s={\"Ryan Reynold\",48,'male'}\n",
    "print(s)"
   ]
  },
  {
   "cell_type": "code",
   "execution_count": 4,
   "metadata": {},
   "outputs": [
    {
     "name": "stdout",
     "output_type": "stream",
     "text": [
      "{48, 'Ryan Reynold', 'male'} <class 'set'>\n"
     ]
    }
   ],
   "source": [
    "#Q3.Write a python script to get the data type of a Set.\n",
    "s={\"Ryan Reynold\",48,'male'}\n",
    "print(s,type(s))"
   ]
  },
  {
   "cell_type": "code",
   "execution_count": 15,
   "metadata": {},
   "outputs": [
    {
     "name": "stdout",
     "output_type": "stream",
     "text": [
      "Python is present in set: {'Python', 'Django', 'Java'}\n"
     ]
    }
   ],
   "source": [
    "#Q4.Write a Python script to find if “Python” is present in the set thisset = {\"Java\",\"Python\", \"Django\"}\n",
    "s={\"Java\",\"Python\", \"Django\"}\n",
    "if \"Python\" in s:\n",
    "    print(\"Python is present in set:\",s)\n",
    "else:\n",
    "    print(\"Python is not present in set:\",s)\n"
   ]
  },
  {
   "cell_type": "code",
   "execution_count": 17,
   "metadata": {},
   "outputs": [
    {
     "name": "stdout",
     "output_type": "stream",
     "text": [
      "{'Python', 'C', 'NoSQL', 'Java', 'SQL', 'Cpp'}\n"
     ]
    }
   ],
   "source": [
    "\"\"\"Q5.Write a python program to add items from another set to the current set. \n",
    "thisset ={\"Java\", \"Python\", \"SQL\"}    secondset= {\"C\", \"Cpp\", \"NoSQL\"}\"\"\"\n",
    "thisset ={\"Java\", \"Python\", \"SQL\"}    \n",
    "secondset= {\"C\", \"Cpp\", \"NoSQL\"}\n",
    "u=thisset.union(secondset)\n",
    "print(u)"
   ]
  },
  {
   "cell_type": "code",
   "execution_count": 18,
   "metadata": {},
   "outputs": [
    {
     "name": "stdout",
     "output_type": "stream",
     "text": [
      "Updated set: {'C', 'Java', 'Python', 'Django', 'JavaScript'}\n"
     ]
    }
   ],
   "source": [
    "\"\"\"Q6.Write a python program to add elements of list to a set\n",
    "thisset = {\"Python\", \"Django\", \"JavaScript\"}\n",
    "mylist = [\"Java\", \"C\"]\"\"\"\n",
    "thisset = {\"Python\", \"Django\", \"JavaScript\"}\n",
    "mylist = [\"Java\", \"C\"]\n",
    "for x in mylist:\n",
    "    thisset.add(x)\n",
    "print(\"Updated set:\",thisset)"
   ]
  },
  {
   "cell_type": "code",
   "execution_count": 19,
   "metadata": {},
   "outputs": [
    {
     "name": "stdout",
     "output_type": "stream",
     "text": [
      "{'SQL', 'Django', 'JavaScript'}\n"
     ]
    }
   ],
   "source": [
    "\"\"\"Q7.Write a python program to remove last item of the given set\n",
    "thisset = {\"Python\", \"Django\", \"JavaScript\", “SQL”}\"\"\"\n",
    "thisset = {\"Python\", \"Django\", \"JavaScript\", \"SQL\"}\n",
    "thisset.pop()\n",
    "print(thisset)"
   ]
  },
  {
   "cell_type": "code",
   "execution_count": 20,
   "metadata": {},
   "outputs": [
    {
     "name": "stdout",
     "output_type": "stream",
     "text": [
      "set()\n"
     ]
    }
   ],
   "source": [
    "#Q8.Write a python program to delete the set completely.\n",
    "s={1,3+4j,9.39,\"Arj\"}\n",
    "s.clear()\n",
    "print(s)\n"
   ]
  },
  {
   "cell_type": "code",
   "execution_count": 21,
   "metadata": {},
   "outputs": [
    {
     "name": "stdout",
     "output_type": "stream",
     "text": [
      "Python\n",
      "SQL\n",
      "Django\n",
      "JavaScript\n"
     ]
    }
   ],
   "source": [
    "#Q9.Write a python program to loop through the set and print values\n",
    "thisset = {\"Python\", \"Django\", \"JavaScript\", \"SQL\"}\n",
    "for x in thisset:\n",
    "    print(x)\n"
   ]
  },
  {
   "cell_type": "code",
   "execution_count": 22,
   "metadata": {},
   "outputs": [
    {
     "name": "stdout",
     "output_type": "stream",
     "text": [
      "Max:1032\n",
      "Min: 1\n"
     ]
    }
   ],
   "source": [
    "#Q10.Write a python program to find the maximum and minimum value in a set\n",
    "s={1,24,202,193,302,1032}\n",
    "print(f\"Max:{max(s)}\")\n",
    "print(\"Min:\",min(s))"
   ]
  }
 ],
 "metadata": {
  "kernelspec": {
   "display_name": "Python 3",
   "language": "python",
   "name": "python3"
  },
  "language_info": {
   "codemirror_mode": {
    "name": "ipython",
    "version": 3
   },
   "file_extension": ".py",
   "mimetype": "text/x-python",
   "name": "python",
   "nbconvert_exporter": "python",
   "pygments_lexer": "ipython3",
   "version": "3.11.2"
  }
 },
 "nbformat": 4,
 "nbformat_minor": 2
}
