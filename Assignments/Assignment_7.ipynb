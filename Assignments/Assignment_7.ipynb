{
 "cells": [
  {
   "cell_type": "markdown",
   "metadata": {},
   "source": [
    "### <span style=\"color:orange\">Iterative Control Statements (Part - 2)</span>\n",
    "1. Write a program to find the Nth term of the Fibonnaci series.\n",
    "2. Write a program to print first N terms of Fibonacci series\n",
    "3. Write a program to check whether a given number is there in the Fibonacci\n",
    "series or not.\n",
    "4. Write a program to calculate HCF of two numbers\n",
    "5. Write a program to check whether two given numbers are co-prime\n",
    "numbers or not\n",
    "6. Write a program to print all Prime numbers under 100\n",
    "7. Write a program to print all Prime numbers between two given numbers\n",
    "8. Write a program to find next Prime number of a given number\n",
    "9. Write a program to check whether a given number is an Armstrong number\n",
    "or not\n",
    "10. Write a program to print all Armstrong numbers under 1000"
   ]
  },
  {
   "cell_type": "code",
   "execution_count": 18,
   "metadata": {},
   "outputs": [
    {
     "name": "stdout",
     "output_type": "stream",
     "text": [
      "4th term of fibonacci series is:2\n"
     ]
    }
   ],
   "source": [
    "#Q1\n",
    "t1=0\n",
    "t2=1\n",
    "n=int(input(\"Enter the term of fibonacci series you want:\"))\n",
    "if(1<=n<=2):\n",
    "    print(f\"{n}th term of fibonacci series is {t1}\") if n==1 else print(f\"{n}th term of fibonacci series is {t2}\")\n",
    "if(n>2):\n",
    "    for i in range(3,n+1):\n",
    "        new=t1+t2\n",
    "        t1=t2\n",
    "        t2=new\n",
    "    print(f\"{n}th term of fibonacci series is:{new}\")"
   ]
  },
  {
   "cell_type": "code",
   "execution_count": 28,
   "metadata": {},
   "outputs": [
    {
     "name": "stdout",
     "output_type": "stream",
     "text": [
      "Fibonacci with 9 terms:\n",
      "0,1,1,2,3,5,8,13,21,"
     ]
    }
   ],
   "source": [
    "#Q2\n",
    "t1=0\n",
    "t2=1\n",
    "n=int(input(\"Enter number of terms:\"))\n",
    "def fib(n):\n",
    "    t1=0\n",
    "    t2=1\n",
    "    for i in range(3,n+1):\n",
    "        new=t1+t2\n",
    "        t1=t2\n",
    "        t2=new\n",
    "    return new\n",
    "print(f\"Fibonacci with {n} terms:\")\n",
    "if 1<=n<=2:\n",
    "    print(t1) if n==1 else print(t1,t2,sep=',')\n",
    "if n>2:\n",
    "    print(t1,end=',')\n",
    "    print(t2,end=',')\n",
    "    i=3\n",
    "    while i<=n:\n",
    "        print(fib(i),end=',')\n",
    "        i+=1\n",
    "    \n"
   ]
  },
  {
   "cell_type": "code",
   "execution_count": 32,
   "metadata": {},
   "outputs": [
    {
     "name": "stdout",
     "output_type": "stream",
     "text": [
      "21 is a Fibonacci number\n"
     ]
    }
   ],
   "source": [
    "#Q3.\n",
    "def is_fib(n):\n",
    "    if n == 0 or n == 1:\n",
    "        print(f\"{n} is a Fibonacci number\")\n",
    "        return\n",
    "    \n",
    "    t1 = 0\n",
    "    t2 = 1\n",
    "    while t2 < n:\n",
    "        new = t1 + t2\n",
    "        if new == n:\n",
    "            print(f\"{n} is a Fibonacci number\")\n",
    "            return\n",
    "        t1 = t2\n",
    "        t2 = new\n",
    "    \n",
    "    print(f\"{n} is not a Fibonacci number\")\n",
    "\n",
    "num = int(input(\"Enter a number: \"))\n",
    "is_fib(num)\n"
   ]
  },
  {
   "cell_type": "code",
   "execution_count": 36,
   "metadata": {},
   "outputs": [
    {
     "name": "stdout",
     "output_type": "stream",
     "text": [
      "28 is the HCF of 140 and 84\n"
     ]
    }
   ],
   "source": [
    "#Q4.\n",
    "l=[int(n) for n in (input(\"Enter the numbers:\").split(','))]\n",
    "max=l[0] if l[0]>l[1] else l[1]\n",
    "min=l[0] if l[0]<l[1] else l[1]\n",
    "for i in range(min,0,-1):\n",
    "    if l[0]%i==0 and l[1]%i==0:\n",
    "        print(f\"{i} is the HCF of {l[0]} and {l[1]}\")\n",
    "        break"
   ]
  },
  {
   "cell_type": "code",
   "execution_count": 38,
   "metadata": {},
   "outputs": [
    {
     "name": "stdout",
     "output_type": "stream",
     "text": [
      "21 and 14 are not co-prime numbers\n"
     ]
    }
   ],
   "source": [
    "#Q5.\n",
    "l=[int(n) for n in (input(\"Enter the numbers:\").split(','))]\n",
    "max=l[0] if l[0]>l[1] else l[1]\n",
    "min=l[0] if l[0]<l[1] else l[1]\n",
    "for i in range(min,0,-1):\n",
    "    if l[0]%i==0 and l[1]%i==0:\n",
    "        hcf=i\n",
    "        break\n",
    "if hcf==1:\n",
    "    print(f\"{l[0]} and {l[1]} are co-prime numbers\")\n",
    "else:\n",
    "    print(f\"{l[0]} and {l[1]} are not co-prime numbers\")\n"
   ]
  },
  {
   "cell_type": "code",
   "execution_count": 9,
   "metadata": {},
   "outputs": [
    {
     "name": "stdout",
     "output_type": "stream",
     "text": [
      "All prime numbers less than 100 are:\n",
      "2,3,5,7,11,13,17,19,23,29,31,37,41,43,47,53,59,61,67,71,73,79,83,89,97,"
     ]
    }
   ],
   "source": [
    "#Q6.\n",
    "def isPrime(n):\n",
    "    if n<1:\n",
    "        return 0\n",
    "    if n==2:\n",
    "        return 1\n",
    "    m=2\n",
    "    while(m<=n/2):\n",
    "        if(n%m==0):\n",
    "            return 0\n",
    "        m+=1\n",
    "    else:\n",
    "        return 1\n",
    "i=2\n",
    "print(\"All prime numbers less than 100 are:\")\n",
    "while(i<101):\n",
    "    if(isPrime(i)==1):\n",
    "        print(i,end=',')\n",
    "    i+=1\n"
   ]
  },
  {
   "cell_type": "code",
   "execution_count": 11,
   "metadata": {},
   "outputs": [
    {
     "name": "stdout",
     "output_type": "stream",
     "text": [
      "All prime numbers between 56 and 79 are:\n",
      "59,61,67,71,73,"
     ]
    }
   ],
   "source": [
    "#Q7.\n",
    "def isPrime(n):\n",
    "    if n<1:\n",
    "        return 0\n",
    "    if n==2:\n",
    "        return 1\n",
    "    m=2\n",
    "    while(m<=n/2):\n",
    "        if(n%m==0):\n",
    "            return 0\n",
    "        m+=1\n",
    "    else:\n",
    "        return 1\n",
    "num1=int(input(\"Enter a number-1:\"))\n",
    "num2=int(input(\"Enter the number-2:\"))\n",
    "min,max=(num1,num2) if (num1<num2) else (num2,num1)\n",
    "l=min+1\n",
    "print(f\"All prime numbers between {min} and {max} are:\")\n",
    "while(min<l<max):\n",
    "    if(isPrime(l)==1):\n",
    "        print(f\"{l}\",end=',')\n",
    "    l+=1\n"
   ]
  },
  {
   "cell_type": "code",
   "execution_count": 16,
   "metadata": {},
   "outputs": [
    {
     "name": "stdout",
     "output_type": "stream",
     "text": [
      "The next prime number after 68 is 71\n"
     ]
    }
   ],
   "source": [
    "#Q8.\n",
    "num=int(input(\"Enter a number\"))\n",
    "l=num+1\n",
    "while(isPrime(l)!=1):\n",
    "    l+=1\n",
    "print(\"The next prime number after %d is %d\"%(num,l))\n",
    "def isPrime(n):\n",
    "    if n<1:\n",
    "        return 0\n",
    "    if n==2:\n",
    "        return 1\n",
    "    m=2\n",
    "    while(m<=n/2):\n",
    "        if(n%m==0):\n",
    "            return 0\n",
    "        m+=1\n",
    "    else:\n",
    "        return 1"
   ]
  },
  {
   "cell_type": "code",
   "execution_count": 20,
   "metadata": {},
   "outputs": [
    {
     "name": "stdout",
     "output_type": "stream",
     "text": [
      "9474 is an Armstrong number\n"
     ]
    }
   ],
   "source": [
    "#Q9.\n",
    "num=input(\"Enter a number\")\n",
    "l=len(num);\n",
    "digits=[int(int(x)**l) for x in num]\n",
    "if(sum(digits)==int(num)):\n",
    "    print(f\"{int(num)} is an Armstrong number\")\n",
    "else:\n",
    "    print(f\"{int(num)} is not an Armstrong number\")\n"
   ]
  },
  {
   "cell_type": "code",
   "execution_count": 22,
   "metadata": {},
   "outputs": [
    {
     "name": "stdout",
     "output_type": "stream",
     "text": [
      "Armstron numbers less than 1000 are:\n",
      "1,2,3,4,5,6,7,8,9,153,370,371,407,"
     ]
    }
   ],
   "source": [
    "def isArmstrong(num):\n",
    "    l=len(str(num))\n",
    "    digits=[int(int(x)**l) for x in str(num)]\n",
    "    if(sum(digits)==int(num)):\n",
    "        return 1\n",
    "    else:\n",
    "        return 0\n",
    "i=1\n",
    "print(\"Armstron numbers less than 1000 are:\")\n",
    "while(i<1000):\n",
    "    if(isArmstrong(i)==1):\n",
    "        print(i,end=',')\n",
    "    i+=1\n"
   ]
  }
 ],
 "metadata": {
  "kernelspec": {
   "display_name": "Python 3",
   "language": "python",
   "name": "python3"
  },
  "language_info": {
   "codemirror_mode": {
    "name": "ipython",
    "version": 3
   },
   "file_extension": ".py",
   "mimetype": "text/x-python",
   "name": "python",
   "nbconvert_exporter": "python",
   "pygments_lexer": "ipython3",
   "version": "3.11.2"
  }
 },
 "nbformat": 4,
 "nbformat_minor": 2
}
