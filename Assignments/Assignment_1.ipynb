{
 "cells": [
  {
   "cell_type": "code",
   "execution_count": 1,
   "metadata": {},
   "outputs": [
    {
     "name": "stdout",
     "output_type": "stream",
     "text": [
      "Hello,Arjun\n"
     ]
    }
   ],
   "source": [
    "# Q1.Write a program to print Hello Students on the screen.\n",
    "print(\"Hello,Arjun\")"
   ]
  },
  {
   "cell_type": "code",
   "execution_count": 2,
   "metadata": {},
   "outputs": [
    {
     "name": "stdout",
     "output_type": "stream",
     "text": [
      "Hello\n",
      "Students\n"
     ]
    }
   ],
   "source": [
    "#Write a program to print Hello in the first line and Students in the second line.\n",
    "print(\"Hello\\nStudents\")"
   ]
  },
  {
   "cell_type": "code",
   "execution_count": 3,
   "metadata": {},
   "outputs": [
    {
     "name": "stdout",
     "output_type": "stream",
     "text": [
      "\"MysirG\"\n"
     ]
    }
   ],
   "source": [
    "#Q3.Write a program to print “MySirG” on the screen. (Remember to print in double quotes)\n",
    "print('''\"MysirG\"''')"
   ]
  },
  {
   "cell_type": "code",
   "execution_count": 5,
   "metadata": {},
   "outputs": [
    {
     "name": "stdout",
     "output_type": "stream",
     "text": [
      "Area of circle is 28.26 having the 3\n"
     ]
    }
   ],
   "source": [
    "#Q4.WAP to find the area of the circle. Take radius of circle from user as input and print the result in below given format.\n",
    "r=int(input(\"Enter the radius of circle\"))\n",
    "print(f\"Area of circle is {3.14*r**2} having the {r}\" )"
   ]
  },
  {
   "cell_type": "code",
   "execution_count": 6,
   "metadata": {},
   "outputs": [
    {
     "name": "stdout",
     "output_type": "stream",
     "text": [
      "Length of string is 12\n"
     ]
    }
   ],
   "source": [
    "#Q5. WAP to calculate the length of String using printf function.\n",
    "str=input(\"Enter the string\")\n",
    "l=len(str)\n",
    "print(f\"Length of string is {l}\")"
   ]
  },
  {
   "cell_type": "code",
   "execution_count": 7,
   "metadata": {},
   "outputs": [
    {
     "name": "stdout",
     "output_type": "stream",
     "text": [
      "\"Arjunsingh Gautam\"\n"
     ]
    }
   ],
   "source": [
    "#Q6.WAP to print the name of the user in double quotes.\n",
    "name=input(\"Enter your name:\")\n",
    "print(f'''\"{name}\"''')"
   ]
  },
  {
   "cell_type": "code",
   "execution_count": 12,
   "metadata": {},
   "outputs": [
    {
     "name": "stdout",
     "output_type": "stream",
     "text": [
      "%d\n",
      "\\n\n",
      "\\\\\n"
     ]
    }
   ],
   "source": [
    "#Q7. WAP to print “%d” on the screen.\n",
    "#Q8. WAP to print “\\n” on the screen.\n",
    "#Q9. WAP to print “\\\\” on the screen.\n",
    "print(\"%d\")\n",
    "print(\"\\\\n\")\n",
    "print(\"\\\\\\\\\")"
   ]
  },
  {
   "cell_type": "code",
   "execution_count": 16,
   "metadata": {},
   "outputs": [
    {
     "name": "stdout",
     "output_type": "stream",
     "text": [
      "Day-12,Month-7,Year-2023\n"
     ]
    }
   ],
   "source": [
    "#Q10.WAP to take date as an input in below given format and convert the date format and display the result as given below.\n",
    "date=input(\"Enter the date\")\n",
    "l=date.split('/')\n",
    "d=int(l[0])\n",
    "m=int(l[1])\n",
    "y=int(l[2])\n",
    "print(f\"Day-{d},Month-{m},Year-{y}\")\n"
   ]
  },
  {
   "cell_type": "code",
   "execution_count": 17,
   "metadata": {},
   "outputs": [
    {
     "name": "stdout",
     "output_type": "stream",
     "text": [
      "12 hour and 45 Minutes \n"
     ]
    }
   ],
   "source": [
    "# WAP to take time as an input in below given format and convert the time format and display the result as given below.\n",
    "time=input(\"Enter time:\")\n",
    "t=time.split(':')\n",
    "print(f\"{t[0]} hour and {t[1]} Minutes \")\n"
   ]
  },
  {
   "cell_type": "code",
   "execution_count": null,
   "metadata": {},
   "outputs": [],
   "source": []
  }
 ],
 "metadata": {
  "kernelspec": {
   "display_name": "Python 3",
   "language": "python",
   "name": "python3"
  },
  "language_info": {
   "codemirror_mode": {
    "name": "ipython",
    "version": 3
   },
   "file_extension": ".py",
   "mimetype": "text/x-python",
   "name": "python",
   "nbconvert_exporter": "python",
   "pygments_lexer": "ipython3",
   "version": "3.11.2"
  }
 },
 "nbformat": 4,
 "nbformat_minor": 2
}
