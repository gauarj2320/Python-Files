{
 "cells": [
  {
   "cell_type": "code",
   "execution_count": 1,
   "metadata": {},
   "outputs": [
    {
     "name": "stdout",
     "output_type": "stream",
     "text": [
      "Arjun Arjun \"Arjun\" 1234\n"
     ]
    }
   ],
   "source": [
    "#Q1. Write a python script to create a String in 3 different possible ways\n",
    "s1=\"Arjun\"\n",
    "s2='Arjun'\n",
    "s3='''\"Arjun\"'''\n",
    "s4=str(1234)\n",
    "print(s1,s2,s3,s4,end='\\n') \n"
   ]
  },
  {
   "cell_type": "code",
   "execution_count": 2,
   "metadata": {},
   "outputs": [
    {
     "name": "stdout",
     "output_type": "stream",
     "text": [
      "iNeuro\n"
     ]
    }
   ],
   "source": [
    "\"\"\"Q2.Write a python script to Get the characters from the start to position 5 (Given String\n",
    "“iNeuron” using the slice syntax)\"\"\"\n",
    "s=\"iNeuron\"\n",
    "s1=s[:6:1]\n",
    "print(s1)"
   ]
  },
  {
   "cell_type": "code",
   "execution_count": 4,
   "metadata": {},
   "outputs": [
    {
     "name": "stdout",
     "output_type": "stream",
     "text": [
      "llo \n"
     ]
    }
   ],
   "source": [
    "\"\"\"Q3.Write a python script to Get the characters from position 2 to position 5 (Given String\n",
    "“Hello Learners” using the slice syntax)\"\"\"\n",
    "s=\"Hello Learners\"\n",
    "s1=s[2:6:1]\n",
    "print(s1)"
   ]
  },
  {
   "cell_type": "code",
   "execution_count": 5,
   "metadata": {},
   "outputs": [
    {
     "name": "stdout",
     "output_type": "stream",
     "text": [
      "Learning Python\n"
     ]
    }
   ],
   "source": [
    "\"\"\"Q4.Write a python script to demonstrate String Concatenation adding space in between (\n",
    "Given Strings a=”Learning” b=”Python” )\"\"\"\n",
    "\n",
    "a=\"Learning\" \n",
    "b=\"Python\"\n",
    "c=a+' '+b\n",
    "print(c)\n"
   ]
  },
  {
   "cell_type": "code",
   "execution_count": 6,
   "metadata": {},
   "outputs": [
    {
     "name": "stdout",
     "output_type": "stream",
     "text": [
      "Length of String: 7\n"
     ]
    }
   ],
   "source": [
    "\"\"\"Q5. Write a python script to get the count of total number of characters in String a=\n",
    "“iNeuron”\"\"\"\n",
    "s=\"iNeuron\"\n",
    "print(\"Length of String:\",len(s))"
   ]
  },
  {
   "cell_type": "code",
   "execution_count": 7,
   "metadata": {},
   "outputs": [
    {
     "name": "stdout",
     "output_type": "stream",
     "text": [
      "Reversed string: norueNi\n"
     ]
    }
   ],
   "source": [
    "#Q6.Write a python script to reverse a String. (“iNeuron”)\n",
    "s=\"iNeuron\"\n",
    "print(\"Reversed string:\",s[::-1])"
   ]
  },
  {
   "cell_type": "code",
   "execution_count": 8,
   "metadata": {},
   "outputs": [
    {
     "name": "stdout",
     "output_type": "stream",
     "text": [
      "hi is part of  hi how are you hi\n"
     ]
    }
   ],
   "source": [
    "#Q7. Write a python script to determine whether a string contains a specific substring\n",
    "a=\"hi how are you hi\" \n",
    "b=\"hi\" \n",
    "if b in a:\n",
    "    print(b,\"is part of \",a)\n",
    "else:\n",
    "    print(b,\"is not part of \",a)"
   ]
  },
  {
   "cell_type": "code",
   "execution_count": 22,
   "metadata": {},
   "outputs": [
    {
     "name": "stdout",
     "output_type": "stream",
     "text": [
      "'12939' containg all numeric characters\n"
     ]
    }
   ],
   "source": [
    "#Q8.Write a python script to check if a string contains only numbers.\n",
    "s=input(\"Enter a string having numbers only\")\n",
    "if s.isnumeric():\n",
    "    print(f\"'{s}' containg all numeric characters\")\n",
    "else:\n",
    "    print(f\"'{s}' does not containg all numeric characters\")"
   ]
  },
  {
   "cell_type": "code",
   "execution_count": 18,
   "metadata": {},
   "outputs": [
    {
     "name": "stdout",
     "output_type": "stream",
     "text": [
      "'abadkjc' containg all alphabet characters\n"
     ]
    }
   ],
   "source": [
    "#Write a python script to check if a string contains only characters of the alphabet.\n",
    "s=input(\"Enter a string having alphabets only\")\n",
    "if s.isalpha():\n",
    "    print(f\"'{s}' containg all alphabet characters\")\n",
    "else:\n",
    "    print(f\"'{s}' does not containg all alphabet characters\")"
   ]
  },
  {
   "cell_type": "code",
   "execution_count": 23,
   "metadata": {},
   "outputs": [
    {
     "name": "stdout",
     "output_type": "stream",
     "text": [
      "1283 <class 'str'>\n"
     ]
    }
   ],
   "source": [
    "#Q10 Write a python script to convert an integer to a string.\n",
    "num=1283\n",
    "s=str(num)\n",
    "print(s,type(s))"
   ]
  },
  {
   "cell_type": "code",
   "execution_count": null,
   "metadata": {},
   "outputs": [],
   "source": []
  }
 ],
 "metadata": {
  "kernelspec": {
   "display_name": "Python 3",
   "language": "python",
   "name": "python3"
  },
  "language_info": {
   "codemirror_mode": {
    "name": "ipython",
    "version": 3
   },
   "file_extension": ".py",
   "mimetype": "text/x-python",
   "name": "python",
   "nbconvert_exporter": "python",
   "pygments_lexer": "ipython3",
   "version": "3.11.2"
  }
 },
 "nbformat": 4,
 "nbformat_minor": 2
}
