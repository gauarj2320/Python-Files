{
 "cells": [
  {
   "cell_type": "code",
   "execution_count": 1,
   "metadata": {},
   "outputs": [
    {
     "name": "stdout",
     "output_type": "stream",
     "text": [
      "List is:['Java', 'Python', 'SQL', 'C']\n",
      "<class 'list'>\n"
     ]
    }
   ],
   "source": [
    "#Q1.Write a python script to store multiple items in a single variable ( Items are “Java”,“Python”, “SQL”, “C” ) using list\n",
    "l=[\"Java\",\"Python\",\"SQL\",\"C\"]\n",
    "print(f\"List is:{l}\")\n",
    "print(type(l))"
   ]
  },
  {
   "cell_type": "code",
   "execution_count": 3,
   "metadata": {},
   "outputs": [
    {
     "name": "stdout",
     "output_type": "stream",
     "text": [
      "<class 'list'>\n",
      "['a', True, (3+4j), 5.38, 48]\n",
      "Type of each element is:<class 'str'>\n",
      "Type of each element is:<class 'bool'>\n",
      "Type of each element is:<class 'complex'>\n",
      "Type of each element is:<class 'float'>\n",
      "Type of each element is:<class 'int'>\n"
     ]
    }
   ],
   "source": [
    "#Q2. Write a python script to get the data type of a list\n",
    "l=['a',True,(3+4j),5.38,48]\n",
    "print(type(l))\n",
    "print(l)\n",
    "for x in l:\n",
    "    print(f\"Type of each element is:{type(x)}\")"
   ]
  },
  {
   "cell_type": "code",
   "execution_count": 7,
   "metadata": {},
   "outputs": [
    {
     "name": "stdout",
     "output_type": "stream",
     "text": [
      "The Last element of list is: C\n"
     ]
    }
   ],
   "source": [
    "#Q3.#Write a python script to get the last item of the list ( mylist = [\"Java\", \"C\", \"Python\"])\n",
    "l=[\"Java\",\"Python\",\"C\"]\n",
    "print(\"The Last element of list is:\",l[len(l)-1])"
   ]
  },
  {
   "cell_type": "code",
   "execution_count": 1,
   "metadata": {},
   "outputs": [
    {
     "name": "stdout",
     "output_type": "stream",
     "text": [
      "List before: ['Java', 'SQL', 'C', 'Reactnative', 'Javascript', 'Python']\n",
      "List after: ['Java', 'NoSQL', 'C', 'Flutter', 'Javascript', 'Python']\n"
     ]
    }
   ],
   "source": [
    "#Q4 Write a python script to Change the values \"SQL\" and \"Reactnative\" with the values \"NoSQL\" and \"Flutter\" (List is thislist = [\"Java\", \"SQL\", \"C\", \"Reactnative\",\"Javascript\", \"Python\"]\n",
    "\n",
    "l = [\"Java\", \"SQL\", \"C\", \"Reactnative\", \"Javascript\", \"Python\"]\n",
    "print(\"List before:\", l)\n",
    "\n",
    "# Iterate over the list using indices\n",
    "for i in range(len(l)):\n",
    "    if l[i] == 'SQL':\n",
    "        l[i] = 'NoSQL'\n",
    "    elif l[i] == 'Reactnative':\n",
    "        l[i] = 'Flutter'\n",
    "\n",
    "print(\"List after:\", l)\n"
   ]
  },
  {
   "cell_type": "code",
   "execution_count": 2,
   "metadata": {},
   "outputs": [
    {
     "name": "stdout",
     "output_type": "stream",
     "text": [
      "Updated List:['Java', 'SQL', 'C', 'Reactnative', 'Python']\n"
     ]
    }
   ],
   "source": [
    "\"\"\"Q5.Write a python script to add an item to the end of the list (item “Python”. (mylist =\n",
    "[\"Java\", \"SQL\", \"C\", \"Reactnative\"]\"\"\"\n",
    "l=[\"Java\", \"SQL\", \"C\", \"Reactnative\"]\n",
    "l.append(\"Python\")\n",
    "print(f\"Updated List:{l}\")"
   ]
  },
  {
   "cell_type": "code",
   "execution_count": 5,
   "metadata": {},
   "outputs": [
    {
     "name": "stdout",
     "output_type": "stream",
     "text": [
      "Updated List: ['Java', 'Python', 'SQL', ['C', 'Cpp', 'NoSQL']]\n"
     ]
    }
   ],
   "source": [
    "\"\"\"Q6.Write a python program to append elements from another list to the current list.(\n",
    "firstlist = [\"Java\", \"Python\", \"SQL\"]\n",
    "secondlist = [\"C\", \"Cpp\", \"NoSQL\"] )\"\"\"\n",
    "#M-1\n",
    "firstlist = [\"Java\", \"Python\", \"SQL\"]\n",
    "secondlist = [\"C\", \"Cpp\", \"NoSQL\"] \n",
    "\"\"\" firstlist=firstlist+secondlist \"\"\" #list concatenation\n",
    "\"\"\" print(\"Updated List:\",firstlist) \"\"\"\n",
    "#M-2\n",
    "\"\"\" for x in secondlist:\n",
    "    firstlist.append(x)\n",
    "print(\"Updated List:\",firstlist) \"\"\"\n",
    "#M-3\n",
    "firstlist.append(secondlist)\n",
    "print(\"Updated List:\",firstlist) #here list as an element will get appended"
   ]
  },
  {
   "cell_type": "code",
   "execution_count": 9,
   "metadata": {},
   "outputs": [
    {
     "name": "stdout",
     "output_type": "stream",
     "text": [
      "List elements:\n",
      "0 Java ,1 SQL ,2 C ,3 Reactnative ,4 Javascript ,5 Python ,"
     ]
    }
   ],
   "source": [
    "\"\"\"Q7.Write a python program to Print all items by referring to their index number (thislist =\n",
    "[\"Java\", \"SQL\", \"C\", \"Reactnative\", \"Javascript\", \"Python\"]\"\"\"\n",
    "thislist =[\"Java\", \"SQL\", \"C\", \"Reactnative\", \"Javascript\", \"Python\"]\n",
    "i=0\n",
    "print(\"List elements:\")\n",
    "while i<len(thislist):\n",
    "    print(i,thislist[i],end=' ,')\n",
    "    i+=1\n"
   ]
  },
  {
   "cell_type": "code",
   "execution_count": 10,
   "metadata": {},
   "outputs": [
    {
     "name": "stdout",
     "output_type": "stream",
     "text": [
      "Sorted List:['C', 'Java', 'Javascript', 'Python', 'Reactjs', 'SQL']\n"
     ]
    }
   ],
   "source": [
    "\"\"\"Q8.Write a python program to sort the list alphanumerically thislist = [\"Java\", \"SQL\",\n",
    "\"C\", \"Reactjs\", \"Javascript\", \"Python\"]\"\"\"\n",
    "thislist = [\"Java\", \"SQL\",\n",
    "\"C\", \"Reactjs\", \"Javascript\", \"Python\"]\n",
    "l=sorted(thislist)\n",
    "print(f\"Sorted List:{l}\")"
   ]
  },
  {
   "cell_type": "code",
   "execution_count": 11,
   "metadata": {},
   "outputs": [
    {
     "name": "stdout",
     "output_type": "stream",
     "text": [
      "City List:['Nagpur', 'Pune', 'Mumbai', 'Nashik', 'Kolkata', 'Kanpur']\n"
     ]
    }
   ],
   "source": [
    "#Q9.Write a Python script to create a list of city names taken from the user.\n",
    "city=input(\"Enter City names sep by comma:\")\n",
    "city_list=[x for x in city.split(',')]\n",
    "print(f\"City List:{city_list}\")"
   ]
  },
  {
   "cell_type": "code",
   "execution_count": 12,
   "metadata": {},
   "outputs": [
    {
     "name": "stdout",
     "output_type": "stream",
     "text": [
      "Digit List:[1, 9, 2, 8, 3, 9, 2]\n"
     ]
    }
   ],
   "source": [
    "\"\"\"Q10.Write a Python script to create a list, where each element of the list is a digit of a\n",
    "given number.\"\"\"\n",
    "num=input(\"Enter a number\")\n",
    "digit_list=[int(x) for x in num]\n",
    "print(f\"Digit List:{digit_list}\")"
   ]
  },
  {
   "cell_type": "code",
   "execution_count": 13,
   "metadata": {},
   "outputs": [
    {
     "name": "stdout",
     "output_type": "stream",
     "text": [
      "[1, 2, 3, 4, 5, 6, 7]\n"
     ]
    }
   ],
   "source": [
    "#Q11.Write a Python script to create a list of first N natural numbers\n",
    "n=int(input(\"Enter a number:\"))\n",
    "num_list=[x for x in range(1,n+1)]\n",
    "print(num_list)\n"
   ]
  },
  {
   "cell_type": "code",
   "execution_count": 15,
   "metadata": {},
   "outputs": [
    {
     "name": "stdout",
     "output_type": "stream",
     "text": [
      "[1, 3, 5, 7, 9]\n"
     ]
    }
   ],
   "source": [
    "#Q12. Write a Python script to create a list of first N odd natural numbers.\n",
    "n=int(input(\"Enter a number:\"))\n",
    "num_list=[2*x-1 for x in range(1,n+1)]\n",
    "print(num_list)"
   ]
  },
  {
   "cell_type": "code",
   "execution_count": 16,
   "metadata": {},
   "outputs": [
    {
     "name": "stdout",
     "output_type": "stream",
     "text": [
      "[2, 4, 6, 8, 10, 12]\n"
     ]
    }
   ],
   "source": [
    "#Q13. Write a Python script to create a list of first N even natural numbers\n",
    "n=int(input(\"Enter a number:\"))\n",
    "num_list=[2*x for x in range(1,n+1)]\n",
    "print(num_list)"
   ]
  },
  {
   "cell_type": "code",
   "execution_count": 18,
   "metadata": {},
   "outputs": [
    {
     "name": "stdout",
     "output_type": "stream",
     "text": [
      "[1, 39, 48, 383, 494, 1923]\n",
      "Max number in list:1923\n"
     ]
    }
   ],
   "source": [
    "#Q14.Write a Python script to find the greatest number in a given list of numbers.\n",
    "n=[int(x) for x in (input('enter a number of list ').split(','))]\n",
    "print(n)\n",
    "print(f\"Max number in list:{max(n)}\")"
   ]
  },
  {
   "cell_type": "code",
   "execution_count": 19,
   "metadata": {},
   "outputs": [
    {
     "name": "stdout",
     "output_type": "stream",
     "text": [
      "[1, 23, 493, 392, -19, 3932]\n",
      "Min number in list:-19\n"
     ]
    }
   ],
   "source": [
    "#Q15.Write a Python script to find the smallest number in a given list of numbers.\n",
    "n=[int(x) for x in (input('enter a number of list ').split(','))]\n",
    "print(n)\n",
    "print(f\"Min number in list:{min(n)}\")"
   ]
  },
  {
   "cell_type": "code",
   "execution_count": 20,
   "metadata": {},
   "outputs": [
    {
     "name": "stdout",
     "output_type": "stream",
     "text": [
      "[1, 293, 29]\n",
      "Sum of numbers:323\n"
     ]
    }
   ],
   "source": [
    "#Q16. Write a Python script to calculate the sum of elements in a given list of numbers\n",
    "n=[int(x) for x in (input('enter a number of list ').split(','))]\n",
    "print(n)\n",
    "print(f\"Sum of numbers:{sum(n)}\")"
   ]
  },
  {
   "cell_type": "code",
   "execution_count": 26,
   "metadata": {},
   "outputs": [
    {
     "name": "stdout",
     "output_type": "stream",
     "text": [
      "Updated List:[10, 20]\n"
     ]
    }
   ],
   "source": [
    "#Q17.Write a Python script to remove all non int values from a list\n",
    "l=[10,20,'A',3+1j,True]\n",
    "for x in l[:]: # l[:] shallow copy of list l\n",
    "    if type(x)!=type(1):\n",
    "        l.remove(x)\n",
    "print(f'Updated List:{l}')\n"
   ]
  },
  {
   "cell_type": "code",
   "execution_count": 28,
   "metadata": {},
   "outputs": [
    {
     "name": "stdout",
     "output_type": "stream",
     "text": [
      "1 occurs 1 times in list\n",
      "39 occurs 2 times in list\n",
      "43 occurs 2 times in list\n",
      "45 occurs 1 times in list\n",
      "23 occurs 4 times in list\n",
      "29 occurs 1 times in list\n"
     ]
    }
   ],
   "source": [
    "\"\"\"Q18.Write a Python script to print distinct elements along with their frequencies of\n",
    "occurrence in the list.\"\"\"\n",
    "l=[int(x) for x in input().split(',')]\n",
    "s=set(l)\n",
    "for x in s:\n",
    "    print(f\"{x} occurs {l.count(x)} times in list\")"
   ]
  },
  {
   "cell_type": "code",
   "execution_count": 30,
   "metadata": {},
   "outputs": [
    {
     "name": "stdout",
     "output_type": "stream",
     "text": [
      "Index:0 Value:1\n",
      "Index:1 Value:23\n",
      "Index:2 Value:43\n",
      "Index:3 Value:29\n",
      "Index:4 Value:23\n",
      "Index:5 Value:39\n",
      "Index:6 Value:2921\n"
     ]
    }
   ],
   "source": [
    "\"\"\"Q19.Write a Python script to print indices of all occurrences of a given element in a given\n",
    "list.\"\"\"\n",
    "l=[int(x) for x in input().split(',')]\n",
    "i=0\n",
    "while i<len(l):\n",
    "    print(f\"Index:{i} Value:{l[i]}\")\n",
    "    i+=1\n"
   ]
  },
  {
   "cell_type": "code",
   "execution_count": 33,
   "metadata": {},
   "outputs": [
    {
     "name": "stdout",
     "output_type": "stream",
     "text": [
      "Sorted List:[1, 3, 4, 39, 92, 2292]\n"
     ]
    }
   ],
   "source": [
    "#Q20.Write a python script to sort a list.\n",
    "l=[int(x) for x in input().split(',')]\n",
    "print(f\"Sorted List:{sorted(l)}\")"
   ]
  }
 ],
 "metadata": {
  "kernelspec": {
   "display_name": "Python 3",
   "language": "python",
   "name": "python3"
  },
  "language_info": {
   "codemirror_mode": {
    "name": "ipython",
    "version": 3
   },
   "file_extension": ".py",
   "mimetype": "text/x-python",
   "name": "python",
   "nbconvert_exporter": "python",
   "pygments_lexer": "ipython3",
   "version": "3.11.2"
  }
 },
 "nbformat": 4,
 "nbformat_minor": 2
}
