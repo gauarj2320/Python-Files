{
 "cells": [
  {
   "cell_type": "code",
   "execution_count": 1,
   "metadata": {},
   "outputs": [
    {
     "name": "stdout",
     "output_type": "stream",
     "text": [
      "MysirG\n"
     ]
    }
   ],
   "source": [
    "#Q1.Write a python program to create a simple function which prints “MySirG” .\n",
    "def prnt():\n",
    "    print(\"MysirG\")\n",
    "prnt()"
   ]
  },
  {
   "cell_type": "code",
   "execution_count": 2,
   "metadata": {},
   "outputs": [
    {
     "name": "stdout",
     "output_type": "stream",
     "text": [
      "Sum of 4 and 5 is 9\n"
     ]
    }
   ],
   "source": [
    "#Q2. Write a python program to create a function which expects two arguments and print them in the function body.\n",
    "def add(a,b):\n",
    "    print(f\"Sum of {a} and {b} is {a+b}\")\n",
    "add(4,5)"
   ]
  },
  {
   "cell_type": "code",
   "execution_count": 3,
   "metadata": {},
   "outputs": [
    {
     "name": "stdout",
     "output_type": "stream",
     "text": [
      "Sum of (2, 3, 4, 5, 6) is 20\n",
      "Sum of (1, 2, 3, 4, 5, 6, 7, 8, 9) is 45\n"
     ]
    }
   ],
   "source": [
    "#Q3. Write a python program to create a function which expects an unknown number of arguments.\n",
    "def var_func(*t):\n",
    "    print(f\"Sum of {t} is {sum(t)}\")\n",
    "var_func(2,3,4,5,6)\n",
    "var_func(1,2,3,4,5,6,7,8,9)\n"
   ]
  },
  {
   "cell_type": "code",
   "execution_count": 4,
   "metadata": {},
   "outputs": [
    {
     "name": "stdout",
     "output_type": "stream",
     "text": [
      "Sum is 80\n"
     ]
    }
   ],
   "source": [
    "#Q4. Write a python program to create a function which expects kwargs arguments.\n",
    "def add(a,b,c):\n",
    "    print(f\"Sum is {a+b+c}\")\n",
    "add(a=30,c=40,b=10)\n"
   ]
  },
  {
   "cell_type": "code",
   "execution_count": 5,
   "metadata": {},
   "outputs": [
    {
     "name": "stdout",
     "output_type": "stream",
     "text": [
      "Elements: 1\n",
      "Elements: aj\n",
      "Elements: True\n",
      "Elements: (3+4j)\n"
     ]
    }
   ],
   "source": [
    "#Q5. Write a python program to create a function which expects a list as an argument\n",
    "def elm(a):\n",
    "    for x in a:\n",
    "        print(\"Elements:\",x)\n",
    "l=[1,\"aj\",True,3+4j]\n",
    "elm(l)"
   ]
  },
  {
   "cell_type": "code",
   "execution_count": 6,
   "metadata": {},
   "outputs": [
    {
     "name": "stdout",
     "output_type": "stream",
     "text": [
      "Max of args is 92\n"
     ]
    }
   ],
   "source": [
    "#Q6. Write a python program to create a function that finds a maximum of four numbers.\n",
    "def max_num(a,b,c,d):\n",
    "    l=[a,b,c,d]\n",
    "    print(\"Max of args is\",max(l))\n",
    "max_num(3,19,49,92)\n"
   ]
  },
  {
   "cell_type": "code",
   "execution_count": 7,
   "metadata": {},
   "outputs": [
    {
     "name": "stdout",
     "output_type": "stream",
     "text": [
      "Sum of elements: 300\n"
     ]
    }
   ],
   "source": [
    "#Q7. Write a python program to sum all the numbers in a list.\n",
    "def sum_list(a):\n",
    "    print(\"Sum of elements:\",sum(a))\n",
    "sum_list([1,32,43,19,192,13])"
   ]
  },
  {
   "cell_type": "code",
   "execution_count": 8,
   "metadata": {},
   "outputs": [
    {
     "name": "stdout",
     "output_type": "stream",
     "text": [
      "Product of elements: 120\n"
     ]
    }
   ],
   "source": [
    "#Q8. Write a python program to multiply all the numbers in a list\n",
    "def mul_list(a):\n",
    "    mul=1\n",
    "    for x in a:\n",
    "        mul*=x\n",
    "    print(\"Product of elements:\",mul)\n",
    "mul_list([1,2,3,4,5])"
   ]
  },
  {
   "cell_type": "code",
   "execution_count": 10,
   "metadata": {},
   "outputs": [
    {
     "name": "stdout",
     "output_type": "stream",
     "text": [
      "101 is not a two digit number\n"
     ]
    }
   ],
   "source": [
    "#Q9. Write a python program to create a function to check whether a number falls in a given range.\n",
    "def num_range(a):\n",
    "    if 10<a<99:\n",
    "        print(f\"{a} is a two digit number\")\n",
    "    else:\n",
    "        print(f\"{a} is not a two digit number\")\n",
    "num_range(101)"
   ]
  },
  {
   "cell_type": "code",
   "execution_count": 11,
   "metadata": {},
   "outputs": [
    {
     "name": "stdout",
     "output_type": "stream",
     "text": [
      "5 is odd\n"
     ]
    }
   ],
   "source": [
    "#Q10. Write a python program to create a function to check whether a given number is even or odd.\n",
    "def check(num):\n",
    "    print(f\"{num} is even\") if num%2==0 else print(f\"{num} is odd\")\n",
    "check(5)"
   ]
  },
  {
   "cell_type": "code",
   "execution_count": 16,
   "metadata": {},
   "outputs": [
    {
     "name": "stdout",
     "output_type": "stream",
     "text": [
      "Updated List: [1, 2, 4, 5, 3]\n",
      "Updated List: [1, 3, 4, 2, 5]\n"
     ]
    }
   ],
   "source": [
    "\"\"\"Q11.Write a python program to create a function that takes a list and returns a new list\n",
    "with the original list's unique elements.\"\"\"\n",
    "def edit(a):\n",
    "    for x in a[:]:\n",
    "        if a.count(x)>1:\n",
    "            a.remove(x)\n",
    "        else:\n",
    "            pass\n",
    "    print(\"Updated List:\",a)\n",
    "edit([1,3,4,1,4,2,4,5,3])\n",
    "\n",
    "#M-2:\n",
    "def get_unique_elements(lst):\n",
    "    seen = set()  # To track elements that have been seen\n",
    "    unique_elements = []\n",
    "\n",
    "    for item in lst:\n",
    "        if item not in seen:\n",
    "            unique_elements.append(item)\n",
    "            seen.add(item)\n",
    "    \n",
    "    return unique_elements\n",
    "\n",
    "# Test the function\n",
    "result = get_unique_elements([1, 3, 4, 1, 4, 2, 4, 5, 3])\n",
    "print(\"Updated List:\", result)\n"
   ]
  },
  {
   "cell_type": "markdown",
   "metadata": {},
   "source": [
    "1. Efficiency:\n",
    "\n",
    "- Original Approach: The a.count(x) method scans the list every time to count occurrences of x, leading to O(n^2) time complexity. Removing items from the list during iteration can also lead to inefficiency and unintended side effects.\n",
    "- Improved Approach: The set provides O(1) average time complexity for lookups, and the overall time complexity of this approach is O(n). It only requires a single pass through the list and is more efficient.\n",
    "2. Correctness:\n",
    "\n",
    "- Original Approach: Modifying the list while iterating over it can cause issues, especially when elements are removed. This approach might miss some duplicates or behave unpredictably because it modifies the list size during iteration.\n",
    "- Improved Approach: Builds a new list with unique elements in a predictable manner. It correctly maintains the unique elements without modifying the list during iteration.\n",
    "3. Code Clarity and Maintainability:\n",
    "\n",
    "- Original Approach: The use of list methods like count() and remove() makes the code less clear and harder to maintain. It's also more error-prone.\n",
    "- Improved Approach: The logic is clear and straightforward. Using a set for tracking and a new list for unique elements makes the code easier to understand and maintain.\n",
    "4. Side Effects:\n",
    "\n",
    "- Original Approach: The original list a is modified in place, which could have unintended consequences if the original list is used elsewhere.\n",
    "- Improved Approach: The improved approach does not modify the original list but instead constructs and returns a new list with unique elements."
   ]
  },
  {
   "cell_type": "code",
   "execution_count": 29,
   "metadata": {},
   "outputs": [
    {
     "name": "stdout",
     "output_type": "stream",
     "text": [
      "58 is not a prime number\n"
     ]
    }
   ],
   "source": [
    "\"\"\"Q12.Write a python program to create a function that takes a number as a parameter and\n",
    "checks if the number is prime or not.\"\"\"\n",
    "import math\n",
    "\n",
    "def prime(a):\n",
    "    if a <= 1:\n",
    "        print(f\"{a} is not a prime number\")\n",
    "        return\n",
    "    \n",
    "    for i in range(2, int(math.sqrt(a)) + 1):\n",
    "        if a % i == 0:\n",
    "            print(f\"{a} is not a prime number\")\n",
    "            return\n",
    "    \n",
    "    print(f\"{a} is a prime number\")\n",
    "\n",
    "num = int(input(\"Enter a number: \"))\n",
    "prime(num)\n"
   ]
  },
  {
   "cell_type": "code",
   "execution_count": 32,
   "metadata": {},
   "outputs": [
    {
     "name": "stdout",
     "output_type": "stream",
     "text": [
      "Even element in list: 2\n",
      "Even element in list: 4\n",
      "Even element in list: 6\n",
      "Even element in list: 8\n"
     ]
    }
   ],
   "source": [
    "\"\"\"Q13.Write a python program to create a function that prints the even numbers from a\n",
    "given list.Sample List : [1, 2, 3, 4, 5, 6, 7, 8, 9]\"\"\"\n",
    "def even(l):\n",
    "    s=set(l)\n",
    "    for x in s:\n",
    "        if x%2==0:\n",
    "            print(f\"Even element in list:\",x)\n",
    "even([1, 2, 3, 4, 5, 6, 7, 8, 9])"
   ]
  },
  {
   "cell_type": "code",
   "execution_count": 33,
   "metadata": {},
   "outputs": [
    {
     "name": "stdout",
     "output_type": "stream",
     "text": [
      "eye is a palindrome\n"
     ]
    }
   ],
   "source": [
    "\"\"\"Q14.Write a python program to create a function that checks whether a passed string is\n",
    "palindrome or not.\"\"\"\n",
    "def palindrome(s):\n",
    "    if s==s[::-1]:\n",
    "        print(f\"{s} is a palindrome\")\n",
    "palindrome(\"eye\")"
   ]
  },
  {
   "cell_type": "code",
   "execution_count": 34,
   "metadata": {},
   "outputs": [
    {
     "name": "stdout",
     "output_type": "stream",
     "text": [
      "Min of the numbers: -192\n"
     ]
    }
   ],
   "source": [
    "#Q15.Write a python program to create a function to find the Min of three numbers.\n",
    "def min_num(*t):\n",
    "    print(\"Min of the numbers:\",min(t))\n",
    "min_num(1,49,-19,93,193,-192)"
   ]
  },
  {
   "cell_type": "code",
   "execution_count": 39,
   "metadata": {},
   "outputs": [
    {
     "name": "stdout",
     "output_type": "stream",
     "text": [
      "List is: [1, 4, 9, 16, 25, 36, 49, 64, 81, 100, 121, 144, 169, 196, 225, 256, 289, 324, 361, 400, 441, 484, 529, 576, 625, 676, 729, 784, 841, 900]\n"
     ]
    }
   ],
   "source": [
    "\"\"\"Q16.Write a python program to create a function and print a list where the values are\n",
    "square of numbers between 1 and 30.\"\"\"\n",
    "def square_list(a,b):\n",
    "    l=[x**2 for x in range(a,b+1)]\n",
    "    print(\"List is:\",l)\n",
    "a=int(input(\"Enter a num:\"))\n",
    "b=int(input(\"Enter a num:\"))\n",
    "square_list(a,b)"
   ]
  },
  {
   "cell_type": "code",
   "execution_count": 40,
   "metadata": {},
   "outputs": [
    {
     "name": "stdout",
     "output_type": "stream",
     "text": [
      "Yes 19 is a natural number\n",
      "Checking if it is prime\n",
      "19 is a prime number\n"
     ]
    }
   ],
   "source": [
    "#Q17. Write a python program to access a function inside a function\n",
    "def prime(a):\n",
    "    if a <= 1:\n",
    "        print(f\"{a} is not a prime number\")\n",
    "        return\n",
    "    \n",
    "    for i in range(2, int(math.sqrt(a)) + 1):\n",
    "        if a % i == 0:\n",
    "            print(f\"{a} is not a prime number\")\n",
    "            return\n",
    "    \n",
    "    print(f\"{a} is a prime number\")\n",
    "\n",
    "def natural(a):\n",
    "    if a>0:\n",
    "        print(f\"Yes {a} is a natural number\")\n",
    "        print(\"Checking if it is prime\")\n",
    "        prime(a)\n",
    "\n",
    "natural(19)"
   ]
  },
  {
   "cell_type": "code",
   "execution_count": 44,
   "metadata": {},
   "outputs": [
    {
     "name": "stdout",
     "output_type": "stream",
     "text": [
      "Number of lowercase letter in Arjun is 4\n",
      "Number of uppercase letter in Arjun is 1\n"
     ]
    }
   ],
   "source": [
    "\"\"\"Q18.Write a python program to create a function that accepts a string and calculate the\n",
    "number of upper case letters and lower case letters.\"\"\"\n",
    "def counter(a):\n",
    "    uppercase=[]\n",
    "    lowercase=[]\n",
    "    for x in a:\n",
    "        if 96<ord(x)<123:\n",
    "            lowercase.append(x)\n",
    "        else:\n",
    "            uppercase.append(x)\n",
    "    print(f\"Number of lowercase letter in {a} is {len(lowercase)}\")\n",
    "    print(f'Number of uppercase letter in {a} is {len(uppercase)}')\n",
    "\n",
    "counter(\"Arjun\")"
   ]
  },
  {
   "cell_type": "code",
   "execution_count": 50,
   "metadata": {},
   "outputs": [
    {
     "name": "stdout",
     "output_type": "stream",
     "text": [
      "\"The quick brown fox jumps over a lazy dog\" is a pangram\n"
     ]
    }
   ],
   "source": [
    "\"\"\"Q19.Write a python program to create a function to check whether a string is a pangram or not.\"\"\"\n",
    "def pangram(a):\n",
    "    letter=set()\n",
    "    for x in a.lower():\n",
    "        if 96<ord(x)<123:\n",
    "            letter.add(x)\n",
    "    if len(letter)==26:\n",
    "        print(f\"\\\"{a}\\\" is a pangram\")\n",
    "pangram(\"The quick brown fox jumps over a lazy dog\")\n"
   ]
  },
  {
   "cell_type": "code",
   "execution_count": 52,
   "metadata": {},
   "outputs": [
    {
     "name": "stdout",
     "output_type": "stream",
     "text": [
      "\"silent\" is an anagram of \"listen\"\n"
     ]
    }
   ],
   "source": [
    "\"\"\"Q20.Write a python program to create a function to check whether a string is an anagram\n",
    "or not.\"\"\"\n",
    "def anagram(a, b):\n",
    "    # Normalize by converting to lowercase and sorting the characters\n",
    "    if sorted(a.lower()) == sorted(b.lower()):\n",
    "        print(f'\"{a}\" is an anagram of \"{b}\"')\n",
    "    else:\n",
    "        print(f'\"{a}\" is not an anagram of \"{b}\"')\n",
    "\n",
    "# Example usage\n",
    "anagram(\"silent\", \"listen\")\n"
   ]
  }
 ],
 "metadata": {
  "kernelspec": {
   "display_name": "Python 3",
   "language": "python",
   "name": "python3"
  },
  "language_info": {
   "codemirror_mode": {
    "name": "ipython",
    "version": 3
   },
   "file_extension": ".py",
   "mimetype": "text/x-python",
   "name": "python",
   "nbconvert_exporter": "python",
   "pygments_lexer": "ipython3",
   "version": "3.11.2"
  }
 },
 "nbformat": 4,
 "nbformat_minor": 2
}
