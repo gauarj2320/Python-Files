{
 "cells": [
  {
   "cell_type": "markdown",
   "metadata": {},
   "source": [
    "### <span style=\"color:orange\">Decision Control Statements</span>\n",
    "\n",
    "1. Write a program to check whether a given number is positive or non-positive.\n",
    "2. Write a program to check whether a given number is divisible by 5 or not\n",
    "3. Write a program to check whether a given number is an even number or an odd\n",
    "number.\n",
    "4. Write a program to check whether a given number is an even number or an odd\n",
    "number without using % operator.\n",
    "5. Write a program to check whether a given number is a three-digit number or not.\n",
    "6. Write a program to print greater between two numbers. Print one number of both are\n",
    "the same.\n",
    "7. Write a program to check whether roots of a given quadratic equation are real &\n",
    "distinct, real & equal or imaginary roots\n",
    "8. Write a program to check whether a given year is a leap year or not.\n",
    "9. Write a program to find the greatest among three given numbers. Print number once\n",
    "if the greatest number appears two or three times.\n",
    "10. Write a program which takes the cost price and selling price of a product from the\n",
    "user. Now calculate and print profit or loss percentage.\n",
    "11. Write a program to take marks of 5 subjects from the user. Assume marks are given\n",
    "out of 100 and passing marks is 33. Now display whether the candidate passed the\n",
    "examination or failed.\n",
    "12. Write a program to check whether a given alphabet is in uppercase or lowercase.\n",
    "13. Write a program to check whether a given number is divisible by 3 and divisible by 2.\n",
    "14. Write a program to check whether a given number is divisible by 7 or divisible by 3.\n",
    "15. Write a program to check whether a given number is positive, negative or zero.\n",
    "16. Write a program to check whether a given character is an alphabet (uppercase), an\n",
    "alphabet (lower case), a digit or a special character.\n",
    "17. Write a program which takes the length of the sides of a triangle as an input. Display\n",
    "whether the triangle is valid or not.\n",
    "18. Write a program which takes the month number as an input and display number of\n",
    "days in that month"
   ]
  },
  {
   "cell_type": "code",
   "execution_count": 2,
   "metadata": {},
   "outputs": [
    {
     "name": "stdout",
     "output_type": "stream",
     "text": [
      "82 is positive\n"
     ]
    }
   ],
   "source": [
    "#Q1.\n",
    "num=int(input(\"Enter a number:\"))\n",
    "if num>0:\n",
    "    print(f\"{num} is positive\")\n",
    "else:\n",
    "    print(f\"{num} is non-positive\")"
   ]
  },
  {
   "cell_type": "code",
   "execution_count": 3,
   "metadata": {},
   "outputs": [
    {
     "name": "stdout",
     "output_type": "stream",
     "text": [
      "36 is not divisible by 5\n"
     ]
    }
   ],
   "source": [
    "#Q2.\n",
    "num=int(input(\"Enter a number\"))\n",
    "print(f\"{num} is divisible by 5\")if num%5==0 else print(f\"{num} is not divisible by 5\")"
   ]
  },
  {
   "cell_type": "code",
   "execution_count": 6,
   "metadata": {},
   "outputs": [
    {
     "name": "stdout",
     "output_type": "stream",
     "text": [
      "29 is odd\n"
     ]
    }
   ],
   "source": [
    "#Q3.\n",
    "num=int(input(\"Enter a number:\"))\n",
    "print(\"{num} is even\") if num%2==0 else print(f\"{num} is odd\")\n"
   ]
  },
  {
   "cell_type": "code",
   "execution_count": 7,
   "metadata": {},
   "outputs": [
    {
     "name": "stdout",
     "output_type": "stream",
     "text": [
      "86 is even\n"
     ]
    }
   ],
   "source": [
    "#Q4.\n",
    "num=int(input(\"Enter a number:\"))\n",
    "print(\"{num} is odd\") if num&1==1 else print(f\"{num} is even\")"
   ]
  },
  {
   "cell_type": "code",
   "execution_count": 10,
   "metadata": {},
   "outputs": [
    {
     "name": "stdout",
     "output_type": "stream",
     "text": [
      "29 is not a three digit number\n"
     ]
    }
   ],
   "source": [
    "#Q5.\n",
    "num=int(input(\"Enter a number:\"))\n",
    "print(f\"{num} is three digit number\") if 99<num<1000 else print(f\"{num} is not a three digit number\")"
   ]
  },
  {
   "cell_type": "code",
   "execution_count": 16,
   "metadata": {},
   "outputs": [
    {
     "name": "stdout",
     "output_type": "stream",
     "text": [
      "[1, 19, 393, 1929, 4829]\n",
      "Max number is 4829\n"
     ]
    }
   ],
   "source": [
    "#Q6.\n",
    "l=[int(num) for num in (input(\"Enter the numbers\")).split(',')]\n",
    "sorted_list=sorted(l)\n",
    "m=len(l)\n",
    "print(sorted_list)\n",
    "print(f\"Max number is {sorted_list[m-1]}\")"
   ]
  },
  {
   "cell_type": "code",
   "execution_count": 21,
   "metadata": {},
   "outputs": [
    {
     "name": "stdout",
     "output_type": "stream",
     "text": [
      "Quadratic eqn 1x^2+5x+6 has real roots and unqual roots\n"
     ]
    }
   ],
   "source": [
    "#Q7.\n",
    "coefficients=(input(\"Enter coefficients in a,b,c order\"))\n",
    "l=[int(n) for n in coefficients.split(',')]\n",
    "d=l[1]**2 - 4*l[0]*l[2]\n",
    "if d>0:\n",
    "    print(f\"Quadratic eqn {l[0]}x^2+{l[1]}x+{l[2]} has real roots and unqual roots\")\n",
    "elif d==0:\n",
    "    print(f\"Quadratic eqn {l[0]}x^2+{l[1]}x+{l[2]} has real roots and equal roots\")\n",
    "else:\n",
    "    print(f\"Quadratic eqn {l[0]}x^2+{l[1]}x+{l[2]} has imaginary roots\")"
   ]
  },
  {
   "cell_type": "code",
   "execution_count": 26,
   "metadata": {},
   "outputs": [
    {
     "name": "stdout",
     "output_type": "stream",
     "text": [
      "2010 is not a leap year\n"
     ]
    }
   ],
   "source": [
    "#Q8.\n",
    "year=int(input(\"Enter the year\"))\n",
    "if(year%100==0):\n",
    "    if(year%400==0):\n",
    "        print(\"%d is a leap year\"%year)\n",
    "    else:\n",
    "        print(\"%d is not a leap year\"%year)\n",
    "else:\n",
    "    if(year%4==0):\n",
    "        print(\"%d is a leap year\"%year)\n",
    "    else:\n",
    "        print(\"%d is not a leap year\"%year)\n"
   ]
  },
  {
   "cell_type": "code",
   "execution_count": 31,
   "metadata": {},
   "outputs": [
    {
     "name": "stdout",
     "output_type": "stream",
     "text": [
      "[5, 93, 202]\n",
      "202 is greatest number\n"
     ]
    }
   ],
   "source": [
    "#Q9.\n",
    "l=[int(n) for n in (input(\"Enter the numbers\").split(','))]\n",
    "max=0\n",
    "if l[0]>l[1]:\n",
    "    max=l[0]\n",
    "else:\n",
    "    max=l[1]\n",
    "if max>l[2]:\n",
    "    pass\n",
    "else:\n",
    "    max=l[2]\n",
    "print(l)\n",
    "print(f\"{max} is greatest number\")\n"
   ]
  },
  {
   "cell_type": "code",
   "execution_count": 35,
   "metadata": {},
   "outputs": [
    {
     "name": "stdout",
     "output_type": "stream",
     "text": [
      "There is a loss with loss percetange:-33.33\n"
     ]
    }
   ],
   "source": [
    "#Q10.\n",
    "cost_price=int(input(\"Enter the cost price:\"))\n",
    "selling_price=int(input(\"Enter the selling prince\"))\n",
    "profit_loss=cost_price-selling_price\n",
    "if profit_loss>0:\n",
    "    print(f\"There is a profit with profit percetange:{100*profit_loss/selling_price}\")\n",
    "elif profit_loss==0:\n",
    "    print(\"No profit or loss\")\n",
    "else:  \n",
    "    print(f\"There is a loss with loss percetange:{100*profit_loss/selling_price:.2f}\")  "
   ]
  },
  {
   "cell_type": "code",
   "execution_count": 38,
   "metadata": {},
   "outputs": [
    {
     "name": "stdout",
     "output_type": "stream",
     "text": [
      "You are fail in Subject-0\n",
      "You are pass in Subject-1\n",
      "You are fail in Subject-2\n",
      "You are pass in Subject-3\n",
      "You are pass in Subject-4\n"
     ]
    }
   ],
   "source": [
    "#Q11.\n",
    "marks=[int(n) for n in (input(\"Enter marks of 5 subject\").split(','))]\n",
    "i=0\n",
    "while(i<5):\n",
    "    if marks[i]<33:\n",
    "        print(f\"You are fail in Subject-{i}\")\n",
    "    else:\n",
    "        print(f\"You are pass in Subject-{i}\")\n",
    "    i+=1"
   ]
  },
  {
   "cell_type": "code",
   "execution_count": 40,
   "metadata": {},
   "outputs": [
    {
     "name": "stdout",
     "output_type": "stream",
     "text": [
      "'a' is a lower case letter\n"
     ]
    }
   ],
   "source": [
    "#Q12.\n",
    "char=input(\"Enter a character\")\n",
    "if 64<ord(char)<91:\n",
    "    print(f\"'{char}' is a upper case letter\")\n",
    "elif 96<ord(char)<123:\n",
    "    print(f\"'{char}' is a lower case letter\")\n",
    "else:\n",
    "    print(\"Not a alphabet\")"
   ]
  },
  {
   "cell_type": "code",
   "execution_count": 43,
   "metadata": {},
   "outputs": [
    {
     "name": "stdout",
     "output_type": "stream",
     "text": [
      "6 is divisible by 2 and 3\n"
     ]
    }
   ],
   "source": [
    "#Q13.\n",
    "num=int(input(\"Enter a number:\"))\n",
    "if num%3==0 and num%2==0:\n",
    "    print(f\"{num} is divisible by 2 and 3\")\n",
    "else:\n",
    "    print(f\"{num} is not divisible by 2 and 3\")"
   ]
  },
  {
   "cell_type": "code",
   "execution_count": 46,
   "metadata": {},
   "outputs": [
    {
     "name": "stdout",
     "output_type": "stream",
     "text": [
      "32 is not divisible by 3 or 7\n"
     ]
    }
   ],
   "source": [
    "#Q14.\n",
    "num=int(input(\"Enter a number:\"))\n",
    "if num%3==0 or num%7==0:\n",
    "    print(f\"{num} is divisible by 3 or 7\")\n",
    "else:\n",
    "    print(f\"{num} is not divisible by 3 or 7\")"
   ]
  },
  {
   "cell_type": "code",
   "execution_count": 47,
   "metadata": {},
   "outputs": [
    {
     "name": "stdout",
     "output_type": "stream",
     "text": [
      "-19 is negative\n"
     ]
    }
   ],
   "source": [
    "#Q15.\n",
    "num=int(input(\"Enter a number:\"))\n",
    "if num>0:\n",
    "    print(f\"{num} is positive\")\n",
    "elif num==0:\n",
    "    print(f\"{num} is zero\")\n",
    "else:\n",
    "    print(f\"{num} is negative\")\n"
   ]
  },
  {
   "cell_type": "code",
   "execution_count": 48,
   "metadata": {},
   "outputs": [
    {
     "name": "stdout",
     "output_type": "stream",
     "text": [
      "0 is a digit\n"
     ]
    }
   ],
   "source": [
    "#Q16.\n",
    "char=input(\"Enter a character\")\n",
    "if 64<ord(char)<91:\n",
    "    print(f\"'{char}' is a upper case letter\")\n",
    "elif 96<ord(char)<123:\n",
    "    print(f\"'{char}' is a lower case letter\")\n",
    "elif 47<ord(char)<58:\n",
    "    print(f\"{char} is a digit\")\n",
    "else:\n",
    "    print(F\"{char} is a special character\")"
   ]
  },
  {
   "cell_type": "code",
   "execution_count": 51,
   "metadata": {},
   "outputs": [
    {
     "name": "stdout",
     "output_type": "stream",
     "text": [
      "It is a triangle with sides [4, 5, 2]\n"
     ]
    }
   ],
   "source": [
    "l=[int(n) for n in (input(\"Enter the lengths\").split(','))]\n",
    "if (l[0]+l[1]>l[2] and l[1]+l[2]>l[0] and l[2]+l[0]>l[1]):\n",
    "    print(f\"It is a triangle with sides {l}\")\n",
    "else:\n",
    "    print(\"Not a triangle\")"
   ]
  },
  {
   "cell_type": "code",
   "execution_count": 53,
   "metadata": {},
   "outputs": [
    {
     "name": "stdout",
     "output_type": "stream",
     "text": [
      "12 has 31 days\n"
     ]
    }
   ],
   "source": [
    "month=int(input(\"ENter month number:\"))\n",
    "if 0<month<13:\n",
    "    if month==4 or month==6 or month==9 or month==11:\n",
    "        print(f\"{month} has 30 days\")\n",
    "    elif month==2:\n",
    "        print(f\"{month} has 29 if it is leap year and 28 days for normal year\")\n",
    "    else:\n",
    "        print(f\"{month} has 31 days\")\n",
    "else:\n",
    "    print(\"Enter a valid number\")"
   ]
  }
 ],
 "metadata": {
  "kernelspec": {
   "display_name": "Python 3",
   "language": "python",
   "name": "python3"
  },
  "language_info": {
   "codemirror_mode": {
    "name": "ipython",
    "version": 3
   },
   "file_extension": ".py",
   "mimetype": "text/x-python",
   "name": "python",
   "nbconvert_exporter": "python",
   "pygments_lexer": "ipython3",
   "version": "3.11.2"
  }
 },
 "nbformat": 4,
 "nbformat_minor": 2
}
