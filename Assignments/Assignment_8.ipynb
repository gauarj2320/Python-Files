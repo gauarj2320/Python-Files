{
 "cells": [
  {
   "cell_type": "markdown",
   "metadata": {},
   "source": [
    "### <span style=\"color:orange\">Match Statement</span>\n",
    "1. Write a python script to display the number of days in a given month number.\n",
    "2. Write a menu driven program to perform following operations - Addition, Subtraction,\n",
    "Multiplication, Division\n",
    "3. \"\"\"Write a menu driven program with the following options:\n",
    "a. Check whether a given set of three numbers are lengths of an isosceles\n",
    "triangle or not\n",
    "b. Check whether a given set of three numbers are lengths of sides of a right\n",
    "angled triangle or not\n",
    "c. Check whether a given set of three numbers are equilateral triangle or not\n",
    "d. Exit.\"\"\"\n",
    "\n",
    "4. Write a program which takes user’s age and display the category of person. Age below 10 years- Kid, Age below 20 - Teen, Age below 40 - young, Age below 60 - Experienced, Age above or equal 60 - Senior Citizen\n",
    "\n",
    "5. Write a program which takes a number from user. Print Saurabh Shukla if the number is even, print Prateek Jain if the number is negative odd number and print Aditya Choudhary if number is positive odd number.\n",
    "\n",
    "6. Write a python program to check whether a given string is a multiword string or single word string using match case statement\n",
    "\n",
    "7. Write a python program to check whether a given number is positive, negative or zero using match case statement\n",
    "\n",
    "8. Write a python script to check whether two given strings are identical, first string comes before the second in dictionary order or first string comes after the second\n",
    "string in dictionary order using match case statement\n",
    "\n",
    "9. Write a python script to check whether a given year is\n",
    "a. Non century leap year\n",
    "b. Century leap year\n",
    "c. Non century non leap year\n",
    "d. Century non leap year\n",
    "\n",
    "10. Write a program to display day name on the basis of user’s liking of a colour. Ask\n",
    "user for his favorite colour. User can answer in a sentence like “I like red colour”.\n",
    "Assuming all colour name entered by user is in lowercase. Use match case to display\n",
    "day name associated with the colour.\n",
    "a. Yellow - Monday\n",
    "b. Blue - Tuesday\n",
    "c. Orange - Wednesday\n",
    "d. White - Thursday\n",
    "e. Black - Friday\n",
    "f. Red - Saturday\n",
    "g. All other colours - Sunday"
   ]
  },
  {
   "cell_type": "code",
   "execution_count": 3,
   "metadata": {},
   "outputs": [
    {
     "name": "stdout",
     "output_type": "stream",
     "text": [
      "Month-2 has 29 days if year is a leap year or else has 28 days\n"
     ]
    }
   ],
   "source": [
    "#Q1.\n",
    "month=int(input(\"Enter the number of the month\"))\n",
    "match month in (1,3,5,7,8,10,12):\n",
    "    case 1:\n",
    "        print(f\"Month-{month} has 31 days\")\n",
    "match month in (4,6,9,11):\n",
    "    case 1:\n",
    "        print(f\"Month-{month} has 30 days\")\n",
    "match month==2:\n",
    "    case 1:\n",
    "        print(f\"Month-{month} has 29 days if year is a leap year or else has 28 days\")"
   ]
  },
  {
   "cell_type": "code",
   "execution_count": 7,
   "metadata": {},
   "outputs": [
    {
     "name": "stdout",
     "output_type": "stream",
     "text": [
      "Press '1' for addition\n",
      "Press '2' for subtraction\n",
      "Press '3' for multiplication\n",
      "Press '4' for division\n",
      "Press 'e' to exit\n",
      "Product is 42.00\n",
      "Press '1' for addition\n",
      "Press '2' for subtraction\n",
      "Press '3' for multiplication\n",
      "Press '4' for division\n",
      "Press 'e' to exit\n",
      "Exiting the program. Goodbye!\n"
     ]
    }
   ],
   "source": [
    "# Q2. making this program to understand how to use match statement\n",
    "while True:\n",
    "    print(\"\"\"\\\n",
    "Press '1' for addition\n",
    "Press '2' for subtraction\n",
    "Press '3' for multiplication\n",
    "Press '4' for division\n",
    "Press 'e' to exit\"\"\")\n",
    "\n",
    "    option = input(\"Enter your chosen option: \").strip().lower()\n",
    "\n",
    "    if option == 'e':\n",
    "        print(\"Exiting the program. Goodbye!\")\n",
    "        break\n",
    "\n",
    "    # Check if the option is a valid integer\n",
    "    if option.isdigit():\n",
    "        option = int(option)\n",
    "    else:\n",
    "        print(\"Invalid input. Please enter a number or 'e' to exit.\")\n",
    "        continue\n",
    "\n",
    "    match option:\n",
    "        case 1:\n",
    "            num_1 = float(input(\"Enter your first number: \"))\n",
    "            num_2 = float(input(\"Enter your second number: \"))\n",
    "            result = num_1 + num_2\n",
    "            print(f\"Sum is {result:.2f}\")\n",
    "        case 2:\n",
    "            num_1 = float(input(\"Enter your first number: \"))\n",
    "            num_2 = float(input(\"Enter your second number: \"))\n",
    "            result = num_1 - num_2\n",
    "            print(f\"Subtraction result is {result:.2f}\")\n",
    "        case 3:\n",
    "            num_1 = float(input(\"Enter your first number: \"))\n",
    "            num_2 = float(input(\"Enter your second number: \"))\n",
    "            result = num_1 * num_2\n",
    "            print(f\"Product is {result:.2f}\")\n",
    "        case 4:\n",
    "            num_1 = float(input(\"Enter your first number: \"))\n",
    "            num_2 = float(input(\"Enter your second number: \"))\n",
    "            if num_2 == 0:\n",
    "                print(\"Error: Division by zero is not allowed.\")\n",
    "            else:\n",
    "                result = num_1 / num_2\n",
    "                print(f\"Result is {result:.2f}\")\n",
    "        case _:\n",
    "            print(\"Invalid option. Please choose a valid option.\")\n"
   ]
  },
  {
   "cell_type": "code",
   "execution_count": 3,
   "metadata": {},
   "outputs": [
    {
     "name": "stdout",
     "output_type": "stream",
     "text": [
      "Isosceles Triangle with sides [3, 3, 5]\n"
     ]
    }
   ],
   "source": [
    "#Q3.\n",
    "sides=[int(x) for x in input(\"Enter  the side lengths\").split(',')]\n",
    "if (sides[0]==sides[1] or sides[1]==sides[2] or sides[2]==sides[0]):\n",
    "    opt=1\n",
    "if (sides[0]==sides[1]==sides[2]):\n",
    "    opt=2\n",
    "if (sides[0]**2 +sides[1]**2==sides[2]**2 or sides[0]**2 +sides[2]**2==sides[1]**2 or sides[2]**2 +sides[1]**2==sides[0]**2):\n",
    "    opt=3\n",
    "match opt:\n",
    "    case 1:\n",
    "        print(f\"Isosceles Triangle with sides {sides}\")\n",
    "    case 2:\n",
    "        print(f\"Equilateral Triangel with sides {sides}\")\n",
    "    case 3:\n",
    "        print(f\"Right Angle Triangle with sides {sides}\")"
   ]
  },
  {
   "cell_type": "code",
   "execution_count": 6,
   "metadata": {},
   "outputs": [
    {
     "name": "stdout",
     "output_type": "stream",
     "text": [
      "Senior Citizen\n"
     ]
    }
   ],
   "source": [
    "#Q4.\n",
    "age=int(input(\"Enter your age:\"))\n",
    "match age in range(1,10):\n",
    "    case 1:\n",
    "        print(\"Kid\")\n",
    "match age in range(10,20):\n",
    "    case 1:\n",
    "        print(\"Teen\")\n",
    "match age in range(20,40):\n",
    "    case 1:\n",
    "        print(\"Young\")\n",
    "match age in range(40,60):\n",
    "    case 1:\n",
    "        print(\"Experienced\")\n",
    "match age:\n",
    "    case age if age>=60:\n",
    "        print(\"Senior Citizen\")\n",
    "\n",
    "\"\"\" match age:\n",
    "    case age if age<10:\n",
    "        print(\"Kid\")\n",
    "    case age if age<20:\n",
    "        print(\"Teen\") \"\"\"\n",
    "    \n",
    "    # case _ if age < 10:: This checks if the value of age is less than 10. The underscore _ is used as a wildcard that matches any value, and the if clause acts as a guard to further refine the condition\n",
    "    "
   ]
  },
  {
   "cell_type": "code",
   "execution_count": 9,
   "metadata": {},
   "outputs": [
    {
     "name": "stdout",
     "output_type": "stream",
     "text": [
      "Arjun\n"
     ]
    }
   ],
   "source": [
    "#Q5.\n",
    "num=int(input(\"Enter a number:\"))\n",
    "match num:\n",
    "    case _ if (num%2==0):\n",
    "        print(\"Arjun\")\n",
    "    case _ if(num%2!=0 and num<0):\n",
    "        print(\"Ashish\")\n",
    "    case _ if(num%2!=0 and num>0):\n",
    "        print(\"Anuj\")"
   ]
  },
  {
   "cell_type": "code",
   "execution_count": 17,
   "metadata": {},
   "outputs": [
    {
     "name": "stdout",
     "output_type": "stream",
     "text": [
      "arjunala:Single word string\n"
     ]
    }
   ],
   "source": [
    "#Q6.\n",
    "str=input(\"Enter something\")\n",
    "match str:\n",
    "    case _ if(' ' not in str):\n",
    "        print(f\"{str}:Single word string\")\n",
    "    case _ if(' ' in str):\n",
    "        print(f\"{str}:Multiword string\")\n"
   ]
  },
  {
   "cell_type": "code",
   "execution_count": 20,
   "metadata": {},
   "outputs": [
    {
     "name": "stdout",
     "output_type": "stream",
     "text": [
      "-87 is negative\n"
     ]
    }
   ],
   "source": [
    "#Q7.\n",
    "num=int(input(\"Enter a number:\"))\n",
    "match num:\n",
    "    case _ if num<0:\n",
    "        print(f\"{num} is negative\")\n",
    "    case _ if num>0:\n",
    "        print(f\"{num} is positive\")\n",
    "    case _:\n",
    "        print(f\"{num} is zero\")\n"
   ]
  },
  {
   "cell_type": "code",
   "execution_count": 23,
   "metadata": {},
   "outputs": [
    {
     "name": "stdout",
     "output_type": "stream",
     "text": [
      "arjun is greater than anuj alphabetically\n"
     ]
    }
   ],
   "source": [
    "#Q8.\n",
    "str=[x for x in input(\"Enter the strings separated by comma:\").split(\",\")]\n",
    "match str:\n",
    "    case _ if str[0]==str[1]:\n",
    "        print(f\"{str[0]} and {str[1]} are equal\")\n",
    "    case _ if str[0]> str[1]:\n",
    "        print(f\"{str[0]} is greater than {str[1]}  alphabetically\")\n",
    "    case _:\n",
    "        print(f\"{str[1]} is greater than {str[0]} alphabetically\")\n"
   ]
  },
  {
   "cell_type": "code",
   "execution_count": 28,
   "metadata": {},
   "outputs": [
    {
     "name": "stdout",
     "output_type": "stream",
     "text": [
      "2010 is a non century non leap year\n"
     ]
    }
   ],
   "source": [
    "#Q9.\n",
    "year=int(input(\"Enter a year:\"))\n",
    "match year:\n",
    "    case _ if(year%100==0 and year%400==0):\n",
    "        print(f\"{year} is a century leap year\")\n",
    "    case _ if(year%100!=0 and year%4!=0):\n",
    "        print(f\"{year} is a non century non leap year\")\n",
    "    case _ if(year%100==0 and year%400!=0):\n",
    "        print(f\"{year} century non leap year\")\n",
    "    case _ if(year%400!=0 and year%4==0):\n",
    "        print(f\"{year} non century leap year\")"
   ]
  },
  {
   "cell_type": "code",
   "execution_count": 30,
   "metadata": {},
   "outputs": [
    {
     "name": "stdout",
     "output_type": "stream",
     "text": [
      "monday\n"
     ]
    }
   ],
   "source": [
    "#Q10.\n",
    "l1=('yellow','blue','orange','white','black','red')\n",
    "x=input(\"what is your fav colour\")\n",
    "for colour in l1:\n",
    "    if colour in x:\n",
    "        c=colour\n",
    "        break\n",
    "else:\n",
    "    c=\"other\"\n",
    "\n",
    "match c:\n",
    "    case \"yellow\":\n",
    "        print(\"monday\")\n",
    "    case \"blue\":\n",
    "        print(\"tuesday\")\n",
    "    case \"orange\":\n",
    "        print(\"wed\")\n",
    "    case \"white\":\n",
    "        print(\"thurs\")\n",
    "    case \"black\":\n",
    "        print(\"friday\")\n",
    "    case \"red\":\n",
    "        print(\"saturday\")\n",
    "    case \"other\":\n",
    "        print(\"sunday\")"
   ]
  }
 ],
 "metadata": {
  "kernelspec": {
   "display_name": "Python 3",
   "language": "python",
   "name": "python3"
  },
  "language_info": {
   "codemirror_mode": {
    "name": "ipython",
    "version": 3
   },
   "file_extension": ".py",
   "mimetype": "text/x-python",
   "name": "python",
   "nbconvert_exporter": "python",
   "pygments_lexer": "ipython3",
   "version": "3.11.2"
  }
 },
 "nbformat": 4,
 "nbformat_minor": 2
}
