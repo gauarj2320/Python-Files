{
 "cells": [
  {
   "cell_type": "markdown",
   "metadata": {},
   "source": [
    "### Use any loop\n",
    "\n",
    "1. Write a program to calculate sum of first N natural numbers\n",
    "2. Write a program to calculate sum of first N even natural numbers\n",
    "3. Write a program to calculate sum of first N odd natural numbers\n",
    "4. Write a program to calculate sum of squares of first N natural numbers\n",
    "5. Write a program to calculate sum of cubes of first N natural numbers\n",
    "6. Write a program to calculate factorial of a number\n",
    "7. Write a program to count digits in a given number\n",
    "8. Write a program to check whether a given number is a Prime number or\n",
    "not\n",
    "9. Write a program to calculate LCM of two numbers\n",
    "10. Write a program to reverse a given number"
   ]
  },
  {
   "cell_type": "code",
   "execution_count": 4,
   "metadata": {},
   "outputs": [
    {
     "name": "stdout",
     "output_type": "stream",
     "text": [
      "Sum of first 10 natural numbers is:55\n"
     ]
    }
   ],
   "source": [
    "# Q1\n",
    "n=int(input(\"Enter value of n:\"))\n",
    "sum=0\n",
    "for i in range(1,n+1):\n",
    "    sum+=i\n",
    "print(f\"Sum of first {n} natural numbers is:{sum}\")\n",
    "\n"
   ]
  },
  {
   "cell_type": "code",
   "execution_count": 8,
   "metadata": {},
   "outputs": [
    {
     "name": "stdout",
     "output_type": "stream",
     "text": [
      "Sum of first 5 even numbers is:30\n"
     ]
    }
   ],
   "source": [
    "# Q2\n",
    "n=int(input(\"Enter value of n:\"))\n",
    "sum=0\n",
    "for i in range(1,n+1):\n",
    "    sum+=2*i\n",
    "print(f\"Sum of first {n} even numbers is:{sum}\")"
   ]
  },
  {
   "cell_type": "code",
   "execution_count": 9,
   "metadata": {},
   "outputs": [
    {
     "name": "stdout",
     "output_type": "stream",
     "text": [
      "Sum of first 4 odd numbers is:16\n"
     ]
    }
   ],
   "source": [
    "# Q3\n",
    "n=int(input(\"Enter value of n:\"))\n",
    "sum=0\n",
    "for i in range(1,n+1):\n",
    "    sum+=(2*i-1)\n",
    "print(f\"Sum of first {n} odd numbers is:{sum}\")"
   ]
  },
  {
   "cell_type": "code",
   "execution_count": 10,
   "metadata": {},
   "outputs": [
    {
     "name": "stdout",
     "output_type": "stream",
     "text": [
      "Sum of first 4 natural numbers squares is:30\n"
     ]
    }
   ],
   "source": [
    "# Q4\n",
    "n=int(input(\"Enter value of n:\"))\n",
    "sum=0\n",
    "for i in range(1,n+1):\n",
    "    sum+=i*i\n",
    "print(f\"Sum of first {n} natural numbers squares is:{sum}\")"
   ]
  },
  {
   "cell_type": "code",
   "execution_count": 11,
   "metadata": {},
   "outputs": [
    {
     "name": "stdout",
     "output_type": "stream",
     "text": [
      "Sum of first 3 natural number's cube is:36\n"
     ]
    }
   ],
   "source": [
    "# Q5\n",
    "n=int(input(\"Enter value of n:\"))\n",
    "sum=0\n",
    "for i in range(1,n+1):\n",
    "    sum+=i*i*i\n",
    "print(f\"Sum of first {n} natural number's cube is:{sum}\")"
   ]
  },
  {
   "cell_type": "code",
   "execution_count": 14,
   "metadata": {},
   "outputs": [
    {
     "name": "stdout",
     "output_type": "stream",
     "text": [
      "Factorial of 6 is:720\n"
     ]
    }
   ],
   "source": [
    "# Q6\n",
    "n=int(input(\"Enter value of n:\"))\n",
    "factorial=1\n",
    "for i in range(1,n+1):\n",
    "    factorial*=i\n",
    "print(f\"Factorial of {n} is:{factorial}\")"
   ]
  },
  {
   "cell_type": "code",
   "execution_count": 15,
   "metadata": {},
   "outputs": [
    {
     "name": "stdout",
     "output_type": "stream",
     "text": [
      "Number of digits in 15854 is:5\n"
     ]
    }
   ],
   "source": [
    "# Q7\n",
    "n=int(input(\"Enter a number:\"))\n",
    "count=0\n",
    "new=n\n",
    "while(new!=0):\n",
    "    new=new//10\n",
    "    count+=1\n",
    "print(f\"Number of digits in {n} is:{count}\")"
   ]
  },
  {
   "cell_type": "code",
   "execution_count": 18,
   "metadata": {},
   "outputs": [
    {
     "name": "stdout",
     "output_type": "stream",
     "text": [
      "8 is not a prime number\n"
     ]
    }
   ],
   "source": [
    "# Q8\n",
    "n=int(input(\"Enter the number:\"))\n",
    "factorial=1\n",
    "for i in range(2,(n//2 +1)):\n",
    "    if n%i==0:\n",
    "        print(f\"{n} is not a prime number\")\n",
    "        break\n",
    "else:\n",
    "    print(f\"{n} is a prime number\")"
   ]
  },
  {
   "cell_type": "code",
   "execution_count": 26,
   "metadata": {},
   "outputs": [
    {
     "name": "stdout",
     "output_type": "stream",
     "text": [
      "LCM of 6 and 8 is 24\n"
     ]
    }
   ],
   "source": [
    "#Q9\n",
    "l=[int(n) for n in (input(\"Enter two numbers:\").split(','))]\n",
    "max=l[0] if l[0]>l[1] else l[1]\n",
    "min=l[0] if l[0]<l[1] else l[1]\n",
    "lcm=max\n",
    "while(True):\n",
    "    if lcm%max==0 and lcm%min==0:\n",
    "        print(f\"LCM of {l[0]} and {l[1]} is {lcm}\")\n",
    "        break\n",
    "    lcm+=1"
   ]
  },
  {
   "cell_type": "code",
   "execution_count": 29,
   "metadata": {},
   "outputs": [
    {
     "name": "stdout",
     "output_type": "stream",
     "text": [
      "Reverse of 123456789 is 987654321\n"
     ]
    }
   ],
   "source": [
    "#Q10\n",
    "n=int(input(\"Enter a number\"))\n",
    "new=n\n",
    "rev=0\n",
    "while(new!=0):\n",
    "    r=int(new%10)\n",
    "    rev=rev*10 +r\n",
    "    new=new//10\n",
    "print(f\"Reverse of {n} is {rev}\")\n"
   ]
  }
 ],
 "metadata": {
  "kernelspec": {
   "display_name": "Python 3",
   "language": "python",
   "name": "python3"
  },
  "language_info": {
   "codemirror_mode": {
    "name": "ipython",
    "version": 3
   },
   "file_extension": ".py",
   "mimetype": "text/x-python",
   "name": "python",
   "nbconvert_exporter": "python",
   "pygments_lexer": "ipython3",
   "version": "3.11.2"
  }
 },
 "nbformat": 4,
 "nbformat_minor": 2
}
