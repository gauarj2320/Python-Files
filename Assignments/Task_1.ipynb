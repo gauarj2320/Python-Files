{
 "cells": [
  {
   "cell_type": "markdown",
   "id": "f2a714e2",
   "metadata": {},
   "source": [
    "# Task : Session 1\n",
    "Solve these questions own your own and try to test yourself what you have learned in the session.\n"
   ]
  },
  {
   "cell_type": "markdown",
   "id": "e052104c",
   "metadata": {},
   "source": [
    "### Q1 :- Print the given strings as per stated format.\n",
    "\n",
    "**Given strings**: \n",
    "```\n",
    "\"Data\" \"Science\" \"Mentorship\" \"Program\" \n",
    "\"By\" \"CampusX\"\n",
    "```\n",
    "**Output**: \n",
    "``` \n",
    "Data-Science-Mentorship-Program-started-By-CampusX\n",
    "```\n",
    "\n",
    "Concept- [Seperator and End]"
   ]
  },
  {
   "cell_type": "code",
   "execution_count": 6,
   "id": "cffc2141",
   "metadata": {},
   "outputs": [
    {
     "name": "stdout",
     "output_type": "stream",
     "text": [
      "Data-Science-Mentorship-Program-By-CampusX\n"
     ]
    }
   ],
   "source": [
    "# Solution\n",
    "print(\"Data\", \"Science\" ,\"Mentorship\", \"Program\", \"By\", \"CampusX\",sep='-')\n"
   ]
  },
  {
   "cell_type": "markdown",
   "id": "9c20294f",
   "metadata": {},
   "source": [
    "### Q2:- Write a program that will convert celsius value to fahrenheit."
   ]
  },
  {
   "cell_type": "markdown",
   "id": "3874a682",
   "metadata": {},
   "source": []
  }
 ],
 "metadata": {
  "kernelspec": {
   "display_name": "Python 3",
   "language": "python",
   "name": "python3"
  },
  "language_info": {
   "codemirror_mode": {
    "name": "ipython",
    "version": 3
   },
   "file_extension": ".py",
   "mimetype": "text/x-python",
   "name": "python",
   "nbconvert_exporter": "python",
   "pygments_lexer": "ipython3",
   "version": "3.13.2"
  }
 },
 "nbformat": 4,
 "nbformat_minor": 5
}
