{
 "cells": [
  {
   "cell_type": "markdown",
   "metadata": {},
   "source": [
    "### <span style=\"color:orange\">Iterative Control Statements</span>\n",
    "1. Write a program to print MySirG 5 times on the screen\n",
    "2. Write a program to print the first 10 natural numbers.\n",
    "3. Write a program to print the first 10 natural numbers in reverse order\n",
    "4. Write a program to print the first 10 odd natural numbers\n",
    "5. Write a program to print the first 10 odd natural numbers in reverse order.\n",
    "6. Write a program to print the first 10 even natural numbers\n",
    "7. Write a program to print the first 10 even natural numbers in reverse order\n",
    "8. Write a program to print squares of the first 10 natural numbers\n",
    "9. Write a program to print cubes of the first 10 natural numbers\n",
    "10. Write a program to print a table of 5."
   ]
  },
  {
   "cell_type": "code",
   "execution_count": 1,
   "metadata": {},
   "outputs": [
    {
     "name": "stdout",
     "output_type": "stream",
     "text": [
      "\"MySirG\"\n",
      "\"MySirG\"\n",
      "\"MySirG\"\n",
      "\"MySirG\"\n",
      "\"MySirG\"\n"
     ]
    }
   ],
   "source": [
    "#Q1.\n",
    "for i in range(1,6):\n",
    "    print('''\"MySirG\"''')"
   ]
  },
  {
   "cell_type": "code",
   "execution_count": 3,
   "metadata": {},
   "outputs": [
    {
     "name": "stdout",
     "output_type": "stream",
     "text": [
      "1,2,3,4,5,6,7,8,9,10,"
     ]
    }
   ],
   "source": [
    "#Q2.\n",
    "for i in range(1,11):\n",
    "    print(i,end=',')"
   ]
  },
  {
   "cell_type": "code",
   "execution_count": 4,
   "metadata": {},
   "outputs": [
    {
     "name": "stdout",
     "output_type": "stream",
     "text": [
      "10,9,8,7,6,5,4,3,2,1,"
     ]
    }
   ],
   "source": [
    "# Q3.\n",
    "for i in range(1,11):\n",
    "    print(11-i,end=',')"
   ]
  },
  {
   "cell_type": "code",
   "execution_count": 11,
   "metadata": {},
   "outputs": [
    {
     "name": "stdout",
     "output_type": "stream",
     "text": [
      "1,3,5,7,9,11,13,15,17,19,"
     ]
    }
   ],
   "source": [
    "#Q4.\n",
    "for i in range(1,11):\n",
    "    print(2*i-1,end=',')"
   ]
  },
  {
   "cell_type": "code",
   "execution_count": 12,
   "metadata": {},
   "outputs": [
    {
     "name": "stdout",
     "output_type": "stream",
     "text": [
      "19,17,15,13,11,9,7,5,3,1,"
     ]
    }
   ],
   "source": [
    "#Q5.\n",
    "for i in range(1,11):\n",
    "    print(-2*i+21,end=',')"
   ]
  },
  {
   "cell_type": "code",
   "execution_count": 7,
   "metadata": {},
   "outputs": [
    {
     "name": "stdout",
     "output_type": "stream",
     "text": [
      "2,4,6,8,10,12,14,16,18,20,"
     ]
    }
   ],
   "source": [
    "#Q6.\n",
    "for i in range(1,11):\n",
    "    print(2*i,end=',')"
   ]
  },
  {
   "cell_type": "code",
   "execution_count": 8,
   "metadata": {},
   "outputs": [
    {
     "name": "stdout",
     "output_type": "stream",
     "text": [
      "20,18,16,14,12,10,8,6,4,2,"
     ]
    }
   ],
   "source": [
    "#Q7.\n",
    "for i in range(1,11):\n",
    "    print(-2*i+22,end=',')"
   ]
  },
  {
   "cell_type": "code",
   "execution_count": 13,
   "metadata": {},
   "outputs": [
    {
     "name": "stdout",
     "output_type": "stream",
     "text": [
      "1,4,9,16,25,36,49,64,81,100,"
     ]
    }
   ],
   "source": [
    "#Q8.\n",
    "for i in range(1,11):\n",
    "    print(i*i,end=',')"
   ]
  },
  {
   "cell_type": "code",
   "execution_count": 14,
   "metadata": {},
   "outputs": [
    {
     "name": "stdout",
     "output_type": "stream",
     "text": [
      "1,8,27,64,125,216,343,512,729,1000,"
     ]
    }
   ],
   "source": [
    "#Q9.\n",
    "for i in range(1,11):\n",
    "    print(i*i*i,end=',')"
   ]
  },
  {
   "cell_type": "code",
   "execution_count": 15,
   "metadata": {},
   "outputs": [
    {
     "name": "stdout",
     "output_type": "stream",
     "text": [
      "5X1==5\n",
      "5X2==10\n",
      "5X3==15\n",
      "5X4==20\n",
      "5X5==25\n",
      "5X6==30\n",
      "5X7==35\n",
      "5X8==40\n",
      "5X9==45\n",
      "5X10==50\n"
     ]
    }
   ],
   "source": [
    "#Q10.\n",
    "for i in range(1,11):\n",
    "    print(f\"5X{i}=={5*i}\")"
   ]
  }
 ],
 "metadata": {
  "kernelspec": {
   "display_name": "Python 3",
   "language": "python",
   "name": "python3"
  },
  "language_info": {
   "codemirror_mode": {
    "name": "ipython",
    "version": 3
   },
   "file_extension": ".py",
   "mimetype": "text/x-python",
   "name": "python",
   "nbconvert_exporter": "python",
   "pygments_lexer": "ipython3",
   "version": "3.11.2"
  }
 },
 "nbformat": 4,
 "nbformat_minor": 2
}
