{
 "cells": [
  {
   "cell_type": "code",
   "execution_count": 1,
   "metadata": {},
   "outputs": [
    {
     "name": "stdout",
     "output_type": "stream",
     "text": [
      "('Java', 'Python', 'SQL', 'C') <class 'tuple'>\n"
     ]
    }
   ],
   "source": [
    "\"\"\"Q1.Write a python script to store multiple items in a single variable ( Items are “Java”\n",
    ",“Python”, “SQL”, “C” ) using tuple\"\"\"\n",
    "t=\"Java\",\"Python\",\"SQL\",\"C\",\n",
    "print(t,type(t))"
   ]
  },
  {
   "cell_type": "code",
   "execution_count": 3,
   "metadata": {},
   "outputs": [
    {
     "name": "stdout",
     "output_type": "stream",
     "text": [
      "('Arjun',) <class 'tuple'>\n"
     ]
    }
   ],
   "source": [
    "#Q2. Write a python program to store only one item using tuple.\n",
    "t=(\"Arjun\",)\n",
    "print(t,type(t))"
   ]
  },
  {
   "cell_type": "code",
   "execution_count": 5,
   "metadata": {},
   "outputs": [
    {
     "name": "stdout",
     "output_type": "stream",
     "text": [
      "Original tuple: ('A', 'r', 'j', 'u', 'n')\n",
      "Reversed Tuple: ('n', 'u', 'j', 'r', 'A')\n"
     ]
    }
   ],
   "source": [
    "#Q3.Write a python program to reverse the tuple.\n",
    "t=tuple(\"Arjun\")\n",
    "print(\"Original tuple:\",t)\n",
    "print(\"Reversed Tuple:\",t[::-1])"
   ]
  },
  {
   "cell_type": "code",
   "execution_count": 6,
   "metadata": {},
   "outputs": [
    {
     "name": "stdout",
     "output_type": "stream",
     "text": [
      "Before swipe:a=('A', 'r', 'j', 'u', 'n') and b=('G', 'a', 'u', 't', 'a', 'm')\n",
      "After swipe:a=('G', 'a', 'u', 't', 'a', 'm') and b=('A', 'r', 'j', 'u', 'n')\n"
     ]
    }
   ],
   "source": [
    "#Q4. Write a python program to Swap two tuples in Python.\n",
    "a=tuple(\"Arjun\")\n",
    "b=tuple(\"Gautam\")\n",
    "print(f\"Before swipe:a={a} and b={b}\")\n",
    "a,b=b,a\n",
    "print(f\"After swipe:a={a} and b={b}\")"
   ]
  },
  {
   "cell_type": "code",
   "execution_count": 9,
   "metadata": {},
   "outputs": [
    {
     "name": "stdout",
     "output_type": "stream",
     "text": [
      "All item are not same (1, 2, 3, 3, 'Arjun')\n"
     ]
    }
   ],
   "source": [
    "#Q5. Write a python program to check if all items in the tuple are the same.\n",
    "t=tuple([eval(x) for x in (input().split(','))])\n",
    "if len(set(t))==1:\n",
    "    print(\"All items in tuple are same\",t)\n",
    "else:\n",
    "    print(\"All item are not same\",t)"
   ]
  },
  {
   "cell_type": "code",
   "execution_count": 11,
   "metadata": {},
   "outputs": [
    {
     "name": "stdout",
     "output_type": "stream",
     "text": [
      "100\n",
      "200\n",
      "300\n",
      "400\n"
     ]
    }
   ],
   "source": [
    "\"\"\"Q6.Write a python program to divide the tuple into four variables.\n",
    "tuple1=(100, 200, 300, 400)\"\"\"\n",
    "t=(100,200,300,400)\n",
    "a,b,c,d=t\n",
    "print(a,b,c,d,sep='\\n')"
   ]
  },
  {
   "cell_type": "code",
   "execution_count": 13,
   "metadata": {},
   "outputs": [
    {
     "name": "stdout",
     "output_type": "stream",
     "text": [
      "(4, 5)\n"
     ]
    }
   ],
   "source": [
    "\"\"\"Q7.Write a python program to copy elements 4 and 5 from the following tuple into a new\n",
    "tuple. tuple1=(1,2,3,4,5,6)\"\"\"\n",
    "tuple1=(1,2,3,4,5,6)\n",
    "t2=tuple1[3:5:1]\n",
    "print(t2)"
   ]
  },
  {
   "cell_type": "code",
   "execution_count": 16,
   "metadata": {},
   "outputs": [
    {
     "name": "stdout",
     "output_type": "stream",
     "text": [
      "sorted tuple:(('c', 11), ('a', 21), ('d', 29), ('b', 37))\n"
     ]
    }
   ],
   "source": [
    "\"\"\"Q8.Write a python program to Sort a tuple of tuples by the second item.\n",
    "tuple1 = (('a', 21),('b', 37),('c', 11), ('d',29))\"\"\"\n",
    "tuple1 = (('a', 21),('b', 37),('c', 11), ('d',29))\n",
    "t2=tuple(sorted(tuple1, key=lambda x:x[1]))\n",
    "print(f\"sorted tuple:{t2}\")"
   ]
  },
  {
   "cell_type": "code",
   "execution_count": 19,
   "metadata": {},
   "outputs": [
    {
     "name": "stdout",
     "output_type": "stream",
     "text": [
      "20\n"
     ]
    }
   ],
   "source": [
    "\"\"\"Q9.Write a python program to print the value 20 from given nested tuple\n",
    "t3 = (\"Python\", [10, 20, 30], (2, 4, 16))\"\"\"\n",
    "t3 = (\"Python\", [10, 20, 30], (2, 4, 16))\n",
    "print(t3[1][1])"
   ]
  },
  {
   "cell_type": "code",
   "execution_count": 21,
   "metadata": {},
   "outputs": [
    {
     "name": "stdout",
     "output_type": "stream",
     "text": [
      "Updated tuple: (11, [222, 33], 44, 55)\n"
     ]
    }
   ],
   "source": [
    "\"\"\"Q10.Write a python program to change the first item (22) of a list within the following tuple\n",
    "to 222.tuple1 = (11, [22, 33], 44, 55)\"\"\"\n",
    "tuple1 = (11, [22, 33], 44, 55)\n",
    "tuple1[1][0]=222\n",
    "print(\"Updated tuple:\",tuple1)"
   ]
  }
 ],
 "metadata": {
  "kernelspec": {
   "display_name": "Python 3",
   "language": "python",
   "name": "python3"
  },
  "language_info": {
   "codemirror_mode": {
    "name": "ipython",
    "version": 3
   },
   "file_extension": ".py",
   "mimetype": "text/x-python",
   "name": "python",
   "nbconvert_exporter": "python",
   "pygments_lexer": "ipython3",
   "version": "3.11.2"
  }
 },
 "nbformat": 4,
 "nbformat_minor": 2
}
