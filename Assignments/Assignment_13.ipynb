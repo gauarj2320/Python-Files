{
 "cells": [
  {
   "cell_type": "code",
   "execution_count": 1,
   "metadata": {},
   "outputs": [
    {
     "name": "stdout",
     "output_type": "stream",
     "text": [
      "{'name': 'Ryan', 'age': 20, 'gender': 'male', 'DOB': '5/8/20'}\n"
     ]
    }
   ],
   "source": [
    "#Q1.Write a python program to create and print a dictionary which stores your information.(name, age, gender …..)\n",
    "di={\"name\":\"Ryan\",'age':20,\"gender\":\"male\",\"DOB\":\"5/8/20\"}\n",
    "print(di)"
   ]
  },
  {
   "cell_type": "code",
   "execution_count": 11,
   "metadata": {},
   "outputs": [
    {
     "name": "stdout",
     "output_type": "stream",
     "text": [
      "key of lowest value: Java\n",
      "M-2 min key according to value: Java\n",
      "{92: 'C', 66: 'Java', 85: 'Python'}\n",
      "M-3 min key: Java\n"
     ]
    }
   ],
   "source": [
    "\"\"\"Q2.Write a python program to get the key of lowest value from the dictionary.\n",
    "sample_dict = {'C': 92,'Java': 66,'Python': 85}\"\"\"\n",
    "d = {'C': 92,'Java': 66,'Python': 85}\n",
    "d2=d.items()\n",
    "d3=sorted(d2,key=lambda x:x[1])\n",
    "print(\"key of lowest value:\",d3[0][0])\n",
    "\n",
    "#M-2\n",
    "min_key=min(d,key=d.get)\n",
    "print(\"M-2 min key according to value:\",min_key)\n",
    "#M-3\n",
    "d4={v:k for k,v in d2}\n",
    "print(d4)\n",
    "mk=min(d4)\n",
    "print(\"M-3 min key:\",d4[mk])"
   ]
  },
  {
   "cell_type": "code",
   "execution_count": 12,
   "metadata": {},
   "outputs": [
    {
     "name": "stdout",
     "output_type": "stream",
     "text": [
      "92\n",
      "66\n",
      "85\n"
     ]
    }
   ],
   "source": [
    "#Q3.Write a python program to access the items of a dictionary by referring to its key name.\n",
    "d = {'C': 92,'Java': 66,'Python': 85}\n",
    "for k in d:\n",
    "    print(d[k])"
   ]
  },
  {
   "cell_type": "code",
   "execution_count": 13,
   "metadata": {},
   "outputs": [
    {
     "name": "stdout",
     "output_type": "stream",
     "text": [
      "List of values: [92, 66, 85]\n"
     ]
    }
   ],
   "source": [
    "#Q4.Write a python program to get a list of the values from a dictionary.\n",
    "d = {'C': 92,'Java': 66,'Python': 85}\n",
    "l=[d[k] for k in d]\n",
    "print(\"List of values:\",l)"
   ]
  },
  {
   "cell_type": "code",
   "execution_count": 14,
   "metadata": {},
   "outputs": [
    {
     "name": "stdout",
     "output_type": "stream",
     "text": [
      "{'C': 101, 'Java': 66, 'Python': 85}\n"
     ]
    }
   ],
   "source": [
    "# Q5.Write a python program to change the value of a specific item by referring to its key name.\n",
    "d = {'C': 92,'Java': 66,'Python': 85}\n",
    "d['C']=101\n",
    "print(d)"
   ]
  },
  {
   "cell_type": "code",
   "execution_count": 15,
   "metadata": {},
   "outputs": [
    {
     "name": "stdout",
     "output_type": "stream",
     "text": [
      "C\n",
      "Java\n",
      "Python\n"
     ]
    }
   ],
   "source": [
    "#Q6.Write a python program to print all key names in the dictionary, one by one.\n",
    "d = {'C': 92,'Java': 66,'Python': 85}\n",
    "for k in d:\n",
    "    print(k)"
   ]
  },
  {
   "cell_type": "code",
   "execution_count": 17,
   "metadata": {},
   "outputs": [
    {
     "name": "stdout",
     "output_type": "stream",
     "text": [
      "{'d1': {'name': 'Arjun', 'age': 18, 'gender': 'male'}, 'd2': {'name': 'Ashish', 'age': 19, 'gender': 'male'}, 'd3': {'name': 'Suhana', 'age': 18, 'gender': 'female'}}\n"
     ]
    }
   ],
   "source": [
    "#Q7. Write a python program to create a dictionary that contains three dictionaries.(nested)\n",
    "# Creating three individual dictionaries\n",
    "d1 = {'name': 'Arjun', 'age': 18, 'gender': 'male'}\n",
    "d2 = {'name': 'Ashish', 'age': 19, 'gender': 'male'}\n",
    "d3 = {'name': 'Suhana', 'age': 18, 'gender': 'female'}\n",
    "\n",
    "# Nesting the dictionaries within another dictionary\n",
    "nd = {'d1': d1, 'd2': d2, 'd3': d3}\n",
    "\n",
    "# Printing the nested dictionary\n",
    "print(nd)\n"
   ]
  },
  {
   "cell_type": "code",
   "execution_count": 18,
   "metadata": {},
   "outputs": [
    {
     "name": "stdout",
     "output_type": "stream",
     "text": [
      "{'d1': {'name': 'Arjun', 'age': 18, 'gender': 'male'}, 'd2': {'name': 'Ashish', 'age': 19, 'gender': 'male'}, 'd3': {'name': 'Suhana', 'age': 18, 'gender': 'female'}}\n"
     ]
    }
   ],
   "source": [
    "# Q8.Write a python program to create three dictionaries, then create one dictionary that Contain three individual dictionaries\n",
    "d1 = {'name': 'Arjun', 'age': 18, 'gender': 'male'}\n",
    "d2 = {'name': 'Ashish', 'age': 19, 'gender': 'male'}\n",
    "d3 = {'name': 'Suhana', 'age': 18, 'gender': 'female'}\n",
    "\n",
    "# Nesting the dictionaries within another dictionary\n",
    "nd = {'d1': d1, 'd2': d2, 'd3': d3}\n",
    "\n",
    "# Printing the nested dictionary\n",
    "print(nd)"
   ]
  },
  {
   "cell_type": "code",
   "execution_count": 22,
   "metadata": {},
   "outputs": [
    {
     "name": "stdout",
     "output_type": "stream",
     "text": [
      "{101: 'Arjun', 102: 'Karan', 103: 'Raj', 104: 'Sneha'}\n",
      "{101: 'Arjun', 102: 'Karan', 103: 'Raj', 104: 'Sneha'}\n"
     ]
    }
   ],
   "source": [
    "#Q9. Write a python program to convert two lists into a dictionary in a way that item from list1 is the key and item from list2 is the value\n",
    "#M-1\n",
    "l1 = [101, 102, 103, 104]\n",
    "l2 = [\"Arjun\", \"Karan\", \"Raj\", \"Sneha\"]\n",
    "\n",
    "# Initialize an empty dictionary\n",
    "d = {}\n",
    "\n",
    "# Iterate through both lists simultaneously using range and len\n",
    "for i in range(len(l1)):\n",
    "    d[l1[i]] = l2[i]\n",
    "\n",
    "print(d)\n",
    "\n",
    "#M-2\n",
    "l1 = [101, 102, 103, 104]\n",
    "l2 = [\"Arjun\", \"Karan\", \"Raj\", \"Sneha\"]\n",
    "\n",
    "# Using zip to pair the items from l1 and l2\n",
    "d = {k: v for k, v in zip(l1, l2)}\n",
    "\n",
    "print(d)\n"
   ]
  },
  {
   "cell_type": "code",
   "execution_count": 32,
   "metadata": {},
   "outputs": [
    {
     "name": "stdout",
     "output_type": "stream",
     "text": [
      "{101: 'Raj', 102: 'Arun', 103: 'Sneha', 104: 'Chelsi'}\n",
      "{'a': 1, 'b': 2, 'c': 3, 'd': 4, 'e': 5, 'f': 6}\n",
      "{'a': 1, 'b': 2, 'c': 3, 'd': 4, 'e': 5, 'f': 6}\n"
     ]
    }
   ],
   "source": [
    "#Q10.Write a python program to merge two python dictionaries into one dictionary\n",
    "#M-1\n",
    "d1={101:\"Raj\",102:\"Arun\"}\n",
    "d2={103:\"Sneha\",104:\"Chelsi\"}\n",
    "d3={}\n",
    "d3.update(d1)\n",
    "d3.update(d2)\n",
    "print(d3)\n",
    "#M-2\n",
    "# Example dictionaries\n",
    "d1 = {'a': 1, 'b': 2}\n",
    "d2 = {'c': 3, 'd': 4}\n",
    "d3 = {'e': 5, 'f': 6}\n",
    "\n",
    "# Combine dictionaries using dictionary unpacking\n",
    "combined_dict = {**d1, **d2, **d3}\n",
    "\n",
    "print(combined_dict)\n",
    "\n",
    "#m-3\n",
    "\n",
    "# Example dictionaries\n",
    "d1 = {'a': 1, 'b': 2}\n",
    "d2 = {'c': 3, 'd': 4}\n",
    "d3 = {'e': 5, 'f': 6}\n",
    "\n",
    "# Combine dictionaries using the | operator\n",
    "combined_dict = d1 | d2 | d3\n",
    "\n",
    "print(combined_dict)\n",
    "\n"
   ]
  }
 ],
 "metadata": {
  "kernelspec": {
   "display_name": "Python 3",
   "language": "python",
   "name": "python3"
  },
  "language_info": {
   "codemirror_mode": {
    "name": "ipython",
    "version": 3
   },
   "file_extension": ".py",
   "mimetype": "text/x-python",
   "name": "python",
   "nbconvert_exporter": "python",
   "pygments_lexer": "ipython3",
   "version": "3.11.2"
  }
 },
 "nbformat": 4,
 "nbformat_minor": 2
}
