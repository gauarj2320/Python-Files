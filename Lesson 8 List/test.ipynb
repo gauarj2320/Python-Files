{
 "cells": [
  {
   "cell_type": "code",
   "execution_count": 2,
   "metadata": {},
   "outputs": [
    {
     "name": "stdout",
     "output_type": "stream",
     "text": [
      "[1, 5.34, [1, 'arj', 21], (9+8j), (1, 'ashish', 20), {1: 'arj', 2: 'ashish'}, {24, 1, 2}],<class 'list'>\n",
      "1,<class 'int'>\n",
      "5.34,<class 'float'>\n",
      "[1, 'arj', 21],<class 'list'>\n",
      "(9+8j),<class 'complex'>\n",
      "(1, 'ashish', 20),<class 'tuple'>\n",
      "{1: 'arj', 2: 'ashish'},<class 'dict'>\n",
      "{24, 1, 2},<class 'set'>\n"
     ]
    }
   ],
   "source": [
    "# List definition\n",
    "l1=[1,5.34,[1,\"arj\",21],9+8j,(1,\"ashish\",20),{1:\"arj\",2:\"ashish\"},{1,24,2}]\n",
    "print(l1,type(l1),sep=\",\")\n",
    "for x in l1:\n",
    "    print(x,type(x),sep=\",\")"
   ]
  },
  {
   "cell_type": "code",
   "execution_count": 4,
   "metadata": {},
   "outputs": [
    {
     "name": "stdout",
     "output_type": "stream",
     "text": [
      "1,<class 'int'>\n",
      "(4+5j),<class 'complex'>\n",
      "(1, 2, 5),<class 'tuple'>\n",
      "[1, 23],<class 'list'>\n",
      "{'Gautam': 'Arjun', 'DOB': 1, 'Marks': 99},<class 'dict'>\n"
     ]
    }
   ],
   "source": [
    "# List can have heterogenous elements\n",
    "l2=[1,4+5j,(1,2,5),[1,23],{\"Gautam\":\"Arjun\",\"DOB\":1,\"Marks\":99}]\n",
    "for x in l2:\n",
    "    print(x,type(x),sep=\",\")"
   ]
  },
  {
   "cell_type": "code",
   "execution_count": 5,
   "metadata": {},
   "outputs": [
    {
     "name": "stdout",
     "output_type": "stream",
     "text": [
      "1572336710912\n",
      "1,140731781088168\n",
      "(4+5j),1572343065712\n",
      "(1, 2, 5),1572336735424\n",
      "[1, 23],1572336706944\n",
      "{'Gautam': 'Arjun', 'DOB': 1, 'Marks': 99},1572343369600\n",
      "(1, 2, 5)\n"
     ]
    }
   ],
   "source": [
    "# How to access list elements\n",
    "# can be accessed using index\n",
    "print(id(l2))\n",
    "for i in range(len(l2)):\n",
    "    print(l2[i],id(l2[i]),sep=\",\")\n",
    "print(l2[-3]) # negative index: len(list)+neg_index: pos_index of that element"
   ]
  },
  {
   "cell_type": "code",
   "execution_count": null,
   "metadata": {},
   "outputs": [],
   "source": [
    "l3=[1,3,5,33,53,19]\n",
    "for i in range(len(l2)):\n",
    "    print(l3[i],id(l3[i]),sep=\",\")\n",
    "input()\n",
    "del l3[3]\n",
    "for i in range(len(l2)):\n",
    "    print(l3[i],id(l3[i]),sep=\",\")"
   ]
  },
  {
   "cell_type": "code",
   "execution_count": null,
   "metadata": {},
   "outputs": [],
   "source": [
    "# How to insert elements in a list\n",
    "l4=[1,3,4,5]    \n",
    "l4.append(7)\n",
    "print(l4)\n",
    "l4.insert(2,2) # insert(index,value) if index_val>len(list) --> similar to append\n",
    "print(l4)"
   ]
  },
  {
   "cell_type": "code",
   "execution_count": null,
   "metadata": {},
   "outputs": [],
   "source": [
    "# Packing and Unpacking\n",
    "a=12\n",
    "b=\"Arjun\"\n",
    "c=4+5j\n",
    "d=True\n",
    "l=[a,b,c,d] # Packing\n",
    "print(l,type(l),sep=\",\")"
   ]
  },
  {
   "cell_type": "code",
   "execution_count": null,
   "metadata": {},
   "outputs": [],
   "source": [
    "l=[1,8+7j,True,\"arj\"]\n",
    "a,b,c,d=l # Unpacking   Precaution: The no. of variable in LHS=no. values inside list\n",
    "print(a,b,c,d,sep=\",\")"
   ]
  },
  {
   "cell_type": "code",
   "execution_count": null,
   "metadata": {},
   "outputs": [],
   "source": [
    "# Builtin Mehtods\n",
    "l=[1,3,32,38,193,3818]  \n",
    "print(min(l))\n",
    "print(max(l))\n",
    "print(sum(l))\n",
    "print(sorted(l))\n",
    "print(len(l))"
   ]
  },
  {
   "cell_type": "code",
   "execution_count": null,
   "metadata": {},
   "outputs": [],
   "source": [
    "l=[\"arjun\",\"brijesh\",\"aditya\",\"anshika\",\"anushka\",\"anuj\"]  # compare lexicographically \n",
    "print(max(l))\n",
    "print(min(l))\n",
    "print(sorted(l))"
   ]
  },
  {
   "cell_type": "code",
   "execution_count": null,
   "metadata": {},
   "outputs": [],
   "source": [
    "l=[[1,2],[1,2,3],[87,98,62],[0,1,32,421,82]]\n",
    "print(max(l))\n",
    "print(min(l))\n",
    "print(sorted(l))"
   ]
  },
  {
   "cell_type": "code",
   "execution_count": 42,
   "metadata": {},
   "outputs": [
    {
     "name": "stdout",
     "output_type": "stream",
     "text": [
      "<class 'str'>\t<class 'set'>\t<class 'tuple'>\t<class 'dict'>\tarjun:<class 'str'>\n",
      "{1, 2, 3}:<class 'set'>\n",
      "(1, 2, 3, 4):<class 'tuple'>\n",
      "{'a': 98, 'b': 82, 'c': 'arjun', 'd': True}:<class 'dict'>\n"
     ]
    }
   ],
   "source": [
    "# Typecasting: list() builtin function: convert the arg into list class object\n",
    "a=\"arjun\"\n",
    "b=1 # will generate error  list() can only take iterabales as argument\n",
    "c=(1,2,3,4)\n",
    "d={'a':98,'b':82,'c':\"arjun\",'d':True}\n",
    "l5=[a,b,c,d]\n",
    "for x in l5:\n",
    "    print(type(x),end=\"\\t\")\n",
    "for x in l5:\n",
    "    list(x)\n",
    "    print(f\"{x}:{type(x)}\")"
   ]
  },
  {
   "cell_type": "code",
   "execution_count": 52,
   "metadata": {},
   "outputs": [
    {
     "name": "stdout",
     "output_type": "stream",
     "text": [
      "True\n",
      "False\n",
      "True\n"
     ]
    }
   ],
   "source": [
    "# Comparison of lists\n",
    "\"\"\" --> two list can be compared if they containg elements at corresponding indexes comparable\n",
    "--> here comparison is done element by element and comparison when first difference occurs \"\"\"\n",
    "l1=[\"arjun\",23,743]\n",
    "l2=[\"arjun\",743,23]\n",
    "print(l2>l1)\n",
    "print(l2==l1) # `==` check both list have same elements at same index\n",
    "print(l2!=l1)\n"
   ]
  },
  {
   "cell_type": "code",
   "execution_count": 54,
   "metadata": {},
   "outputs": [
    {
     "name": "stdout",
     "output_type": "stream",
     "text": [
      "2768527313408\t2768527184320\n"
     ]
    }
   ],
   "source": [
    "l3=[\"arjun\",23,743]\n",
    "print(id(l1),id(l2),sep=\"\\t\")"
   ]
  },
  {
   "cell_type": "code",
   "execution_count": 57,
   "metadata": {},
   "outputs": [
    {
     "name": "stdout",
     "output_type": "stream",
     "text": [
      "['arjun', 23, 743, 'arjun', 743, 23]\n",
      "['arjun', 23, 743, 'arjun', 23, 743, 'arjun', 23, 743]\n"
     ]
    }
   ],
   "source": [
    "# Concatenation:l1+l2--> l2 gets appended to l1 and new modified list is created\n",
    "l4=l1+l2\n",
    "print(l4)\n",
    "l4=l1*3\n",
    "print(l4)\n"
   ]
  },
  {
   "cell_type": "code",
   "execution_count": 63,
   "metadata": {},
   "outputs": [
    {
     "name": "stdout",
     "output_type": "stream",
     "text": [
      "[[[1, 2, 3], [4, 5, 6]], [[7, 8, 9], [10, 11, 12]]]\n",
      "[[1, 2, 3], [4, 5, 6]]\n",
      "[4, 5, 6]\n",
      "6\n",
      "[7, 9]\n"
     ]
    }
   ],
   "source": [
    "# Nested List\n",
    "l=[[[1,2,3],[4,5,6]],[[7,8,9],[10,11,12]]]\n",
    "print(l)\n",
    "print(l[0])\n",
    "print(l[0][1])\n",
    "print(l[0][1][2])\n",
    "print(l[1][0][0:3:2])"
   ]
  },
  {
   "cell_type": "code",
   "execution_count": 13,
   "metadata": {},
   "outputs": [
    {
     "name": "stdout",
     "output_type": "stream",
     "text": [
      "[70, 50, 10]\n"
     ]
    }
   ],
   "source": [
    "# Slicing Operator:[start:stop:step] start:inclusive,stop:exclusive,step\n",
    "l=[10,40,50,60,70]\n",
    "l1=l[: :-2]\n",
    "print(l1)\n"
   ]
  },
  {
   "cell_type": "code",
   "execution_count": 5,
   "metadata": {},
   "outputs": [
    {
     "name": "stdout",
     "output_type": "stream",
     "text": [
      "['20', '10', '20']\n"
     ]
    }
   ],
   "source": [
    "n = int(input(\"Enter the number of elements: \"))  # Input: 3\n",
    "my_list = [input(f\"Enter element {i + 1}: \") for i in range(n)]\n",
    "print(my_list)"
   ]
  },
  {
   "cell_type": "code",
   "execution_count": 4,
   "metadata": {},
   "outputs": [
    {
     "name": "stdout",
     "output_type": "stream",
     "text": [
      "<class 'str'>\n",
      "<class 'str'>\n",
      "<class 'str'>\n",
      "<class 'str'>\n"
     ]
    }
   ],
   "source": [
    "for x in l:\n",
    "    print(type(x))"
   ]
  },
  {
   "cell_type": "code",
   "execution_count": 76,
   "metadata": {},
   "outputs": [
    {
     "name": "stdout",
     "output_type": "stream",
     "text": [
      "[482, 3891, 'arj', 3891, 2, 182, 'arj', 'ash', 1, 173, 1]\n",
      "2\n",
      "arj\n",
      "[482, 3891, 3891, 2, 182, 'arj', 'ash', 1, 173, 1]\n",
      "[1, 173, 1, 'ash', 'arj', 182, 2, 3891, 3891, 482]\n",
      "5\n",
      "[]\n"
     ]
    }
   ],
   "source": [
    "# List object methods\n",
    "l=[1,482,3891,\"arj\",3891,2,182,\"arj\",\"ash\",1,173,1]\n",
    "# 1. remove(arg): remove first occurence of arg\n",
    "l.remove(1) # return:None\n",
    "print(l)\n",
    "# 2. coutn(arg): count no. of occurences of arg\n",
    "print(l.count(\"arj\")) # return:int value\n",
    "# 3.pop(index): remove the value at index and return it's value  # default index: last index if not passed\n",
    "print(l.pop(2)) # return: value\n",
    "print(l)\n",
    "# 4.reverse():reversed list  \n",
    "l.reverse() # return:None\n",
    "print(l)\n",
    "# 5.sort(): sort the same list\n",
    "#l.sort() # only able sort if all elements can be compared with each other without TypeError\n",
    "# 6.index(value):return the index of first occurence of value\n",
    "print(l.index(182))\n",
    "# 7. clear(): clear the list completely and create an empty list\n",
    "l.clear() # return:None\n",
    "print(l)"
   ]
  },
  {
   "cell_type": "code",
   "execution_count": 79,
   "metadata": {},
   "outputs": [
    {
     "name": "stdout",
     "output_type": "stream",
     "text": [
      "[0, 1, 4, 9, 16, 25, 36, 49, 64, 81, 100]\n"
     ]
    }
   ],
   "source": [
    "# List Comprehension\n",
    "# Syntax:[expression for x in iterable]\n",
    "l=[x**2 for x in range(11)]\n",
    "print(l)"
   ]
  },
  {
   "cell_type": "code",
   "execution_count": 84,
   "metadata": {},
   "outputs": [
    {
     "name": "stdout",
     "output_type": "stream",
     "text": [
      "['1', '3', '4', 'a', 'r', 'j', 'u', 'n', '4']\n"
     ]
    }
   ],
   "source": [
    "# User Inpur\n",
    "# M1:\n",
    "inp=input(\"Enter a list\")\n",
    "l=list(inp) # consider every character of string as an element\n",
    "print(l)"
   ]
  },
  {
   "cell_type": "code",
   "execution_count": 87,
   "metadata": {},
   "outputs": [
    {
     "name": "stdout",
     "output_type": "stream",
     "text": [
      "[1, True, (1, 2, 3), 'arjun']\n"
     ]
    }
   ],
   "source": [
    "# M2\n",
    "l=[]\n",
    "n_inp=int(input(\"No. of inputs\"))\n",
    "for x in range(n_inp):\n",
    "    inp=eval(input(\"Enter the element:\"))\n",
    "    l.append(inp)\n",
    "\n",
    "print(l)\n"
   ]
  },
  {
   "cell_type": "code",
   "execution_count": null,
   "metadata": {},
   "outputs": [
    {
     "name": "stdout",
     "output_type": "stream",
     "text": [
      "[1, True, (3+4j), 'arju', (1, 2, 3), [1, 32]]\n",
      "1\t<class 'int'>\n",
      "True\t<class 'bool'>\n",
      "(3+4j)\t<class 'complex'>\n",
      "arju\t<class 'str'>\n",
      "(1, 2, 3)\t<class 'tuple'>\n",
      "[1, 32]\t<class 'list'>\n"
     ]
    }
   ],
   "source": [
    "# M3\n",
    "l=eval(input(\"Enter a list\")) #type input [elemen1,element2...]\n",
    "print(l)\n",
    "for x in l:\n",
    "    print(x,type(x),sep=\"\\t\")"
   ]
  },
  {
   "cell_type": "code",
   "execution_count": 91,
   "metadata": {},
   "outputs": [
    {
     "name": "stdout",
     "output_type": "stream",
     "text": [
      "64\n"
     ]
    }
   ],
   "source": [
    "a=64\n",
    "print(hash(a))"
   ]
  },
  {
   "cell_type": "code",
   "execution_count": null,
   "metadata": {},
   "outputs": [],
   "source": []
  }
 ],
 "metadata": {
  "kernelspec": {
   "display_name": "Python 3",
   "language": "python",
   "name": "python3"
  },
  "language_info": {
   "codemirror_mode": {
    "name": "ipython",
    "version": 3
   },
   "file_extension": ".py",
   "mimetype": "text/x-python",
   "name": "python",
   "nbconvert_exporter": "python",
   "pygments_lexer": "ipython3",
   "version": "3.13.2"
  }
 },
 "nbformat": 4,
 "nbformat_minor": 2
}
