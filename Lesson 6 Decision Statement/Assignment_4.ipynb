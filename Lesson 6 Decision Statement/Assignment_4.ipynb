{
 "cells": [
  {
   "cell_type": "markdown",
   "metadata": {},
   "source": [
    "# <span style=\"color:orange\">ASSIGNMENT-3 </span>\n",
    "---\n",
    "### Topic:Decision Control Statements"
   ]
  },
  {
   "cell_type": "code",
   "execution_count": 1,
   "metadata": {},
   "outputs": [
    {
     "name": "stdout",
     "output_type": "stream",
     "text": [
      "The number:6 is positive\n"
     ]
    }
   ],
   "source": [
    "#Q1.Write a program that checks if a number entered by the user is positive. If it is, print \"Positive number.\"\n",
    "num=int(input(\"Enter a number:\"))\n",
    "if num>0:\n",
    "    print(f\"The number:{num} is positive\")\n",
    "else:\n",
    "    print(f\"The number:{num} is negative\")"
   ]
  },
  {
   "cell_type": "code",
   "execution_count": 2,
   "metadata": {},
   "outputs": [
    {
     "name": "stdout",
     "output_type": "stream",
     "text": [
      "The number:5 is odd\n"
     ]
    }
   ],
   "source": [
    "#Q2.Create a program that checks whether an input number is even. If the number is even, print \"Even number.\"\n",
    "num=int(input(\"Enter a number:\"))\n",
    "if num%2==0:\n",
    "    print(f\"The number:{num} is even\")\n",
    "else:\n",
    "    print(f\"The number:{num} is odd\")"
   ]
  },
  {
   "cell_type": "code",
   "execution_count": 3,
   "metadata": {},
   "outputs": [
    {
     "name": "stdout",
     "output_type": "stream",
     "text": [
      "The number:18 is greater than 10\n"
     ]
    }
   ],
   "source": [
    "#Q3.Write a program that checks if the input number is greater than 10. If so, print \"Greater than 10.\"\n",
    "num=int(input(\"Enter a number:\"))\n",
    "if num>10:\n",
    "    print(f\"The number:{num} is greater than 10\")\n",
    "else:\n",
    "    print(f\"The number:{num} is less than 10\")\n"
   ]
  },
  {
   "cell_type": "code",
   "execution_count": 7,
   "metadata": {},
   "outputs": [
    {
     "name": "stdout",
     "output_type": "stream",
     "text": [
      "The temperature:49 It's is Hot!\n"
     ]
    }
   ],
   "source": [
    "#Q4.Ask the user to input a temperature. If the temperature is above 30, print \"It's hot.\" Otherwise, print \"It's cold.\"\n",
    "temp=int(input(\"Enter the temperatur:\"))\n",
    "if temp>30:\n",
    "    print(f\"The temperature:{temp} It's is Hot!\")\n",
    "else:\n",
    "    print(f\"The temperatur:{temp} It's is Cold!\")\n"
   ]
  },
  {
   "cell_type": "code",
   "execution_count": 8,
   "metadata": {},
   "outputs": [
    {
     "name": "stdout",
     "output_type": "stream",
     "text": [
      "Eligible to Vote\n"
     ]
    }
   ],
   "source": [
    "#Q5.Write a program that checks if the age entered by the user is 18 or older. If the user is 18 or older, print \"Eligible to vote,\" otherwise print \"Not eligible to vote.\"\n",
    "age=int(input(\"Enter the age:\"))\n",
    "if age>18:\n",
    "    print(f\"Eligible to Vote\")\n",
    "else:\n",
    "    print(f\"Not eligible to Vote\")\n"
   ]
  },
  {
   "cell_type": "code",
   "execution_count": 10,
   "metadata": {},
   "outputs": [
    {
     "name": "stdout",
     "output_type": "stream",
     "text": [
      "The difference of 5 and 2 is:3\n"
     ]
    }
   ],
   "source": [
    "#Q6.Ask the user for two numbers and a basic operation (add or subtract). Perform the operation and display the result using if-else\n",
    "option=int(input(\"Enter 1 for addition and 2 for subtraction:\"))\n",
    "if option==1:\n",
    "    num1=int(input(\"Enter a number:\"))\n",
    "    num2=int(input(\"Enter a number:\"))\n",
    "    print(f\"The sum of {num1} and {num2} is:{num1 +num2}\")\n",
    "else:\n",
    "    num1=int(input(\"Enter a number:\"))\n",
    "    num2=int(input(\"Enter a number:\"))\n",
    "    print(f\"The difference of {num1} and {num2} is:{num1 -num2}\")"
   ]
  },
  {
   "cell_type": "code",
   "execution_count": 11,
   "metadata": {},
   "outputs": [
    {
     "name": "stdout",
     "output_type": "stream",
     "text": [
      "Grade:C\n"
     ]
    }
   ],
   "source": [
    "#Q7.Write a program that asks for a score (0-100) and assigns a grade: A for 90 and above, B for 80 to 89, C for 70 to 79, D for 60 to 69, and F below 60\n",
    "score=int(input(\"Enter your score:\"))\n",
    "if score>=90:\n",
    "    print(\"Grade:A\")\n",
    "elif 80<=score<90:\n",
    "    print(\"Grade:B\")\n",
    "elif 70<=score<80:\n",
    "    print(\"Grade:C\")\n",
    "elif 60<=score<70:\n",
    "    print(\"Grade:D\")\n",
    "elif score<60:\n",
    "    print(\"Grade:F\")\n"
   ]
  },
  {
   "cell_type": "code",
   "execution_count": 15,
   "metadata": {},
   "outputs": [
    {
     "name": "stdout",
     "output_type": "stream",
     "text": [
      "Roots are Imaginary\n"
     ]
    }
   ],
   "source": [
    "#Q8.Given coefficients a, b, and c, determine the nature of roots using the discriminant.\n",
    "a=float(input(\"Enter value:\"))\n",
    "b=float(input(\"Enter value:\"))\n",
    "c=float(input(\"Enter value:\"))\n",
    "D=b**2 -4*a*c\n",
    "if D>0:\n",
    "    print(\"Roots are Real and Unequal\")\n",
    "elif D==0:\n",
    "    print(\"Roots are Real and Equal\")\n",
    "else:\n",
    "    print(\"Roots are Imaginary\")"
   ]
  },
  {
   "cell_type": "code",
   "execution_count": 16,
   "metadata": {},
   "outputs": [
    {
     "name": "stdout",
     "output_type": "stream",
     "text": [
      "The minimum number is:4\n"
     ]
    }
   ],
   "source": [
    "#Q9.Without using built-in functions, write a program that finds the minimum of three numbers entered by the user.\n",
    "num1=int(input(\"Enter a number:\"))\n",
    "num2=int(input(\"Enter a number:\"))\n",
    "num3=int(input(\"Enter a number:\"))\n",
    "min=0\n",
    "if num1>num2 and num3>num2:\n",
    "    min=num2\n",
    "elif num2>num1 and num3>num1:\n",
    "    min=num1\n",
    "else:\n",
    "    min=num3\n",
    "\n",
    "print(f\"The minimum number is:{min}\")\n",
    "\n"
   ]
  },
  {
   "cell_type": "code",
   "execution_count": 22,
   "metadata": {},
   "outputs": [
    {
     "name": "stdout",
     "output_type": "stream",
     "text": [
      "Year:2012 is a Leap Year\n"
     ]
    }
   ],
   "source": [
    "#Q10.Write a program to determine if a year entered by the user is a leap year or not. Consider all conditions that affect leap years.\n",
    "year=int(input(\"Enter a year:\"))\n",
    "if year%100==0:\n",
    "    if year%400==0:\n",
    "        print(f\"Year:{year} is a Leap Year\")\n",
    "    else:\n",
    "        print(f\"Year:{year} is  Not a Leap Year\")\n",
    "else:\n",
    "    if year%4==0:\n",
    "        print(f\"Year:{year} is a Leap Year\")\n",
    "    else:\n",
    "        print(f\"Year:{year} is  Not a Leap Year\")\n",
    "\n",
    "\n",
    "\n",
    "\n",
    "         "
   ]
  },
  {
   "cell_type": "code",
   "execution_count": 40,
   "metadata": {},
   "outputs": [
    {
     "name": "stdout",
     "output_type": "stream",
     "text": [
      "Compound interest yields more over 20 years.\n",
      "Total with simple interest: $3400000.00\n",
      "Total with compound interest: $9646293.09\n"
     ]
    }
   ],
   "source": [
    "#Q11.Calculate which type of interest (simple or compound) yields more after a given number of years, principal amount, and rate. Assume annual compounding.\n",
    "\n",
    "def compare_interest(principal, rate, years):\n",
    "    # Convert rate from percentage to decimal\n",
    "    rate_decimal = rate / 100\n",
    "\n",
    "    # Calculate simple interest\n",
    "    simple_interest = principal * rate_decimal * years\n",
    "\n",
    "    # Calculate compound interest (annual compounding)\n",
    "    compound_interest = principal * ((1 + rate_decimal) ** years - 1)\n",
    "\n",
    "    # Determine which interest type yields more\n",
    "    if simple_interest > compound_interest:\n",
    "        print(f\"Simple interest yields more over {years} years.\")\n",
    "        print(f\"Total with simple interest: ${principal + simple_interest:.2f}\")\n",
    "        print(f\"Total with compound interest: ${principal + compound_interest:.2f}\")\n",
    "    elif compound_interest > simple_interest:\n",
    "        print(f\"Compound interest yields more over {years} years.\")\n",
    "        print(f\"Total with simple interest: ${principal + simple_interest:.2f}\")\n",
    "        print(f\"Total with compound interest: ${principal + compound_interest:.2f}\")\n",
    "    else:\n",
    "        print(\"Both interests yield the same amount.\")\n",
    "        print(f\"Total interest earned: ${simple_interest:.2f} (Simple = Compound)\")\n",
    "\n",
    "# Example usage:\n",
    "compare_interest(1000000, 12,20)  # principal = $1000, rate = 5%, years = 10\n"
   ]
  },
  {
   "cell_type": "code",
   "execution_count": 43,
   "metadata": {},
   "outputs": [
    {
     "name": "stdout",
     "output_type": "stream",
     "text": [
      "Broke even! \n"
     ]
    }
   ],
   "source": [
    "#Q12.Ask for the cost price and selling price of a product. Determine if the seller made a profit, a loss, or broke even.\n",
    "cp=int(input(\"Enter the cost price:\"))\n",
    "sp=int(input(\"Enter the selling price:\"))\n",
    "net=sp-cp\n",
    "if sp-cp>0:\n",
    "    print(f'Profit of :{net}')\n",
    "elif sp-cp:\n",
    "    print(f\"Loss of :{-net} \")\n",
    "else:\n",
    "    print(f\"Broke even! \")"
   ]
  },
  {
   "cell_type": "code",
   "execution_count": 46,
   "metadata": {},
   "outputs": [
    {
     "name": "stdout",
     "output_type": "stream",
     "text": [
      "What I can help you with:\n"
     ]
    }
   ],
   "source": [
    "#Q13.Simulate a command line where a user can type \"start\", \"stop\", or \"help\". Use a match-case statement to respond to each command.\n",
    "option=input(\"Enter 'start' 'stop' or 'help':\")\n",
    "match option:\n",
    "    case 'start':\n",
    "        print(\"Command Line has started\")\n",
    "        x=input(\"Pls enter something\")\n",
    "        print(x)\n",
    "    case 'stop':\n",
    "        print('Command Line has stopped')\n",
    "    case 'help':\n",
    "        print(\"What I can help you with:\")\n",
    "        "
   ]
  },
  {
   "cell_type": "code",
   "execution_count": 52,
   "metadata": {},
   "outputs": [
    {
     "name": "stdout",
     "output_type": "stream",
     "text": [
      "The qoutient of 8 and 3 is:2.6666666666666665\n"
     ]
    }
   ],
   "source": [
    "#Q14.Extend the basic calculator to handle multiply and divide operations using match-case\n",
    "option=int(input(\"Enter 1:for Addition\\nEnter 2:for Subtraction\\nEnter 3:for multiplication\\nEnter 4:for Division\"))\n",
    "match option:\n",
    "    case 1:\n",
    "        num1=int(input(\"Enter a number:\"))\n",
    "        num2=int(input(\"Enter a number:\"))\n",
    "        print(f\"The sum of {num1} and {num2} is:{num1 +num2}\")\n",
    "    case 2:\n",
    "        num1=int(input(\"Enter a number:\"))\n",
    "        num2=int(input(\"Enter a number:\"))\n",
    "        print(f\"The difference of {num1} and {num2} is:{num1 - num2}\")\n",
    "    case 3:\n",
    "        num1=int(input(\"Enter a number:\"))\n",
    "        num2=int(input(\"Enter a number:\"))\n",
    "        print(f\"The product of {num1} and {num2} is:{num1 * num2}\")\n",
    "    case 4:\n",
    "        num1=int(input(\"Enter a number:\"))\n",
    "        num2=int(input(\"Enter a number:\"))\n",
    "        print(f\"The qoutient of {num1} and {num2} is:{num1 / num2:.2f}\")\n",
    "    case _:\n",
    "        print(\"Pls enter right option\")\n"
   ]
  },
  {
   "cell_type": "code",
   "execution_count": 55,
   "metadata": {},
   "outputs": [
    {
     "name": "stdout",
     "output_type": "stream",
     "text": [
      "monday is a weekday\n"
     ]
    }
   ],
   "source": [
    "#Q15.Given a day of the week, use a match statement to print whether it's a weekday or weekend.\n",
    "day=input(\"Enter day of the week:\")\n",
    "match day:\n",
    "    case \"monday\" | \"tuesday\" | \"wednesday\" | \"thursday\" | \"friday\":\n",
    "        print(f'{day} is a weekday')\n",
    "    case \"saturday\" | \"sunday\":\n",
    "        print(f\"{day} is a weekend\")\n",
    "    case _:\n",
    "        print(\"Wrong Day\")\n"
   ]
  },
  {
   "cell_type": "markdown",
   "metadata": {},
   "source": [
    "\n",
    "- In the context of Python's match statement, the `|` symbol acts as a **pattern matching operator** and not as a bitwise OR. \n",
    "- Its role is specific to **pattern matching**, where it **combines multiple patterns into one case**. This use is distinctly different from both logical and bitwise operations typically associated with the or and | operators in other contexts.\n",
    "\n",
    "### How the `|` Works in Pattern Matching\n",
    "- **Pattern Union:** In match cases, | is used to denote a union of patterns. When any of the patterns specified with `| `in a single case line matches the value being checked, that case block will execute. This is purely about matching values against multiple potential patterns, not about computing any kind of logical or bitwise result"
   ]
  },
  {
   "cell_type": "code",
   "execution_count": null,
   "metadata": {},
   "outputs": [],
   "source": []
  }
 ],
 "metadata": {
  "kernelspec": {
   "display_name": "Python 3",
   "language": "python",
   "name": "python3"
  },
  "language_info": {
   "codemirror_mode": {
    "name": "ipython",
    "version": 3
   },
   "file_extension": ".py",
   "mimetype": "text/x-python",
   "name": "python",
   "nbconvert_exporter": "python",
   "pygments_lexer": "ipython3",
   "version": "3.11.2"
  }
 },
 "nbformat": 4,
 "nbformat_minor": 2
}
