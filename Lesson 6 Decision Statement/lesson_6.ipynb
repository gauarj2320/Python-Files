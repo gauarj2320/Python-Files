{
 "cells": [
  {
   "cell_type": "markdown",
   "id": "02a8c818",
   "metadata": {},
   "source": [
    "# **<span style=\"color:orange\">Lesson-6</span>**\n"
   ]
  },
  {
   "cell_type": "markdown",
   "id": "a428d3f8",
   "metadata": {},
   "source": [
    "## Decision Control Statements in Python\n",
    "- This statement evaluate a Boolean Expression(Condition) and based the Boolean Evaluation It runs the lines or skip the lines\n",
    "- It helps the control flow of the Execution of code\n",
    "- By controlling the control flow we can perform decision making in inside code and able to provide hard logic instruction\n",
    "\n",
    "## Types of Control Statement available in Python\n",
    "- `if` statement\n",
    "- `if-else` statement\n",
    "- `if-elif-else` statement\n",
    "- `nested` statement\n",
    "- `sinlge-line if-else` statement\n",
    "- `match` statement\n",
    "\n",
    "1. `if` statement:\n",
    "    - Syntax:\n",
    "    ```python\n",
    "    if(condition):\n",
    "        #if block\n",
    "    print(\"Out of if block\")\n",
    "    ```\n",
    "    - Runs block if condition evaluated as True\n",
    "\n",
    "2. `if-else` statement:\n",
    "    - Used to run conditions which have implicit relation \n",
    "    - To handle if condition evaluated as False\n",
    "\n",
    "3. `if-elif-else` statement:\n",
    "    - Used to check multiple condition\n",
    "    - Used in matching problems\n",
    "\n",
    "4. `nested` statement:\n",
    "    - To implement complex logic\n",
    "\n",
    "5. `single if-else` statement:\n",
    "    - act as ternary operator in Python\n",
    "    - Can be assigned to a variable\n",
    "\n",
    "6. `match` statement:\n",
    "    - match and case are soft Keywords in Python\n",
    "    - Used for matching problems\n",
    "    - Runs the case where it's condition matches with match condition \n",
    "    - If two match cases have same condition the one above gets executed\n",
    "    - match condition should be value which gets matched with the case"
   ]
  },
  {
   "cell_type": "code",
   "execution_count": 2,
   "id": "994f0414",
   "metadata": {},
   "outputs": [
    {
     "name": "stdout",
     "output_type": "stream",
     "text": [
      "Out of if block normal flow\n"
     ]
    }
   ],
   "source": [
    "# if \n",
    "num=int(input(\"Enter a number:\"))\n",
    "if(num>0):\n",
    "    print(f\"{num} is positive\") # Run only if condition is evaluated as True\n",
    "\n",
    "print(\"Out of if block normal flow\")"
   ]
  },
  {
   "cell_type": "code",
   "execution_count": 3,
   "id": "4f370707",
   "metadata": {},
   "outputs": [
    {
     "name": "stdout",
     "output_type": "stream",
     "text": [
      "-83 is negative\n",
      "Normal flow\n"
     ]
    }
   ],
   "source": [
    "# if-else statement\n",
    "num=int(input(\"Enter a number:\"))\n",
    "if(num>0):\n",
    "    print(f\"{num} is positive\") # Run only if condition is evaluated as True\n",
    "else:\n",
    "    print(f\"{num} is negative\") # Runs only when if condition is evaluated as False\n",
    "\n",
    "print(\"Normal flow\")"
   ]
  },
  {
   "cell_type": "code",
   "execution_count": 7,
   "id": "af0de8fb",
   "metadata": {},
   "outputs": [
    {
     "name": "stdout",
     "output_type": "stream",
     "text": [
      "Failed!\n"
     ]
    }
   ],
   "source": [
    "# if-elif-else statement\n",
    "marks=int(input(\"Enter your marks:\"))\n",
    "if(marks>=90):\n",
    "    print(f\"Grades scored:A\")\n",
    "elif(90>marks>=80):\n",
    "    print(f\"Grades scored:B\")\n",
    "elif(80>marks>=70):\n",
    "    print(\"Grades scored:C\")\n",
    "elif(70>marks>=60):\n",
    "    print(\"Grades scored:D\")\n",
    "else:\n",
    "    print(\"Failed!\")"
   ]
  },
  {
   "cell_type": "code",
   "execution_count": 12,
   "id": "7c87af90",
   "metadata": {},
   "outputs": [
    {
     "name": "stdout",
     "output_type": "stream",
     "text": [
      "You're not eligible to vote\n"
     ]
    }
   ],
   "source": [
    "# Nested Statement\n",
    "nationality=input(\"Enter your nationality:\")\n",
    "if(nationality.lower()==\"india\"):\n",
    "    age=int(input(\"Enter your age:\"))\n",
    "    if(age>=18):\n",
    "        print(\"You're eligible to vote\")\n",
    "    else:\n",
    "        print(\"You're not eligible to vote\")\n",
    "else:\n",
    "    print(\"You're not Indian Citizen\")"
   ]
  },
  {
   "cell_type": "code",
   "execution_count": 13,
   "id": "8e28379a",
   "metadata": {},
   "outputs": [
    {
     "name": "stdout",
     "output_type": "stream",
     "text": [
      "Eligible to vote\n"
     ]
    }
   ],
   "source": [
    "# single line if-else statement\n",
    "age=int(input(\"Enter your age:\"))\n",
    "print(\"Eligible to vote\") if (age>=18) else print(\"Not eligible to Vote\")"
   ]
  },
  {
   "cell_type": "code",
   "execution_count": null,
   "id": "c1451f35",
   "metadata": {},
   "outputs": [
    {
     "name": "stdout",
     "output_type": "stream",
     "text": [
      "Value 89 Type:int\n"
     ]
    }
   ],
   "source": [
    "# match statement\n",
    "value=eval(input(\"Enter a option:\"))\n",
    "match value:\n",
    "    case int():\n",
    "        print(f\"Value {value} Type:int\")\n",
    "    case float():\n",
    "        print(f\"Value {value} Type:float\")\n",
    "    case str():\n",
    "        print(f\"Value {value} Type:str\")\n",
    "    case _: # default statement runs if no case matches\n",
    "        print(f\"Value {value} Type:not_mentioned\")\n",
    "\n",
    "\"\"\" \n",
    "case str():\n",
    "# ↪ if isinstance(value, str)\n",
    "\n",
    "case float():\n",
    "# ↪ if isinstance(value, float) \n",
    "\n",
    "\"\"\"\n"
   ]
  },
  {
   "cell_type": "code",
   "execution_count": 16,
   "id": "eee9df95",
   "metadata": {},
   "outputs": [
    {
     "name": "stdout",
     "output_type": "stream",
     "text": [
      "<class 'int'>\n"
     ]
    }
   ],
   "source": [
    "value=eval(input(\"Enter a option:\"))\n",
    "print(type(value))"
   ]
  },
  {
   "cell_type": "code",
   "execution_count": 21,
   "id": "ccacfc9a",
   "metadata": {},
   "outputs": [
    {
     "name": "stdout",
     "output_type": "stream",
     "text": [
      "0\n"
     ]
    }
   ],
   "source": [
    "print(int())"
   ]
  },
  {
   "cell_type": "markdown",
   "id": "069c2a4a",
   "metadata": {},
   "source": []
  }
 ],
 "metadata": {
  "kernelspec": {
   "display_name": "Python 3",
   "language": "python",
   "name": "python3"
  },
  "language_info": {
   "codemirror_mode": {
    "name": "ipython",
    "version": 3
   },
   "file_extension": ".py",
   "mimetype": "text/x-python",
   "name": "python",
   "nbconvert_exporter": "python",
   "pygments_lexer": "ipython3",
   "version": "3.13.2"
  }
 },
 "nbformat": 4,
 "nbformat_minor": 5
}
