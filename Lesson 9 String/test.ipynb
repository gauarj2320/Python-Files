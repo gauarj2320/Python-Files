{
 "cells": [
  {
   "cell_type": "code",
   "execution_count": 3,
   "metadata": {},
   "outputs": [
    {
     "name": "stdout",
     "output_type": "stream",
     "text": [
      "arjun\n",
      "arj\n",
      "arjun    \n",
      "gautam\n",
      "arjun's mother name is \"Sheetal Gautam\" \n",
      "[1, 2, 3, 4]\n"
     ]
    }
   ],
   "source": [
    "# How to declare strings\n",
    "str1=\"arjun\"\n",
    "str2='arj'\n",
    "str3='''arjun    \n",
    "gautam'''# ''' ''' \"\"\" \"\"\" allow multiline string initialisation and use of double qoutes\n",
    "str4=\"\"\"arjun's mother name is \"Sheetal Gautam\" \"\"\"\n",
    "str5=str() # empty string\n",
    "str6=str([1,2,3,4])\n",
    "print(str1,str2,str3,str4,str6,sep=\"\\n\")\n"
   ]
  },
  {
   "cell_type": "code",
   "execution_count": 11,
   "metadata": {},
   "outputs": [
    {
     "name": "stdout",
     "output_type": "stream",
     "text": [
      "1\n",
      "49,118\n",
      "v\n",
      "['1', '@', 'a', 'd', 'e', 'j', 'r', 'v']\n"
     ]
    }
   ],
   "source": [
    "# builtin methods\n",
    "str=\"arj@dev1\"\n",
    "# 1. min() : compares stirng characters by their ASCII values\n",
    "print(min(str))\n",
    "print(ord('1'),ord('v'),sep=\",\")\n",
    "print(max(str))\n",
    "print(sorted(str)) # return a list of sorted characters according to their ascii values"
   ]
  },
  {
   "cell_type": "code",
   "execution_count": 13,
   "metadata": {},
   "outputs": [
    {
     "name": "stdout",
     "output_type": "stream",
     "text": [
      "username:arj@dev1\n",
      "arj@dev1arj@dev1arj@dev1\n"
     ]
    }
   ],
   "source": [
    "# Concatenation and repeatition\n",
    "s1=\"username:\"\n",
    "print(s1+str)\n",
    "print(str*3)"
   ]
  },
  {
   "cell_type": "code",
   "execution_count": 19,
   "metadata": {},
   "outputs": [
    {
     "name": "stdout",
     "output_type": "stream",
     "text": [
      "82\t98\t66\n",
      "True\n",
      "False\n"
     ]
    }
   ],
   "source": [
    "# Comparison\n",
    "\"\"\" Strings are compare Lexicographically character by character using ASCII values until first difference \"\"\"\n",
    "s2=\"Ram\"\n",
    "s3=\"bharat\"\n",
    "s4=\"Bharat\"\n",
    "print(ord('R'),ord('b'),ord('B'),sep=\"\\t\")\n",
    "print(s3>s2) # ord('b')>ord('R')\n",
    "print(s4>s2) # ord('B')<ord('R')"
   ]
  },
  {
   "cell_type": "code",
   "execution_count": 32,
   "metadata": {},
   "outputs": [
    {
     "name": "stdout",
     "output_type": "stream",
     "text": [
      "3\n",
      "2\n",
      "True\n",
      "False\n",
      "False\n",
      "False\n",
      "False\n",
      "arjun_gautam\n",
      "ARJUN_GAUTAM\n",
      "False\n"
     ]
    }
   ],
   "source": [
    "# String Methods\n",
    "s=\"Arjun_Gautam\"\n",
    "#1. index(char):return index of first occurence of char\n",
    "print(s.index('u'))\n",
    "#2. count(char): no. of occurence in str\n",
    "print(s.count('u'))\n",
    "# remove(char):remove first occurence \n",
    "print(s.startswith(\"Arj\"))\n",
    "print(s.endswith(\"taM\"))\n",
    "print(s.isalnum())\n",
    "print(s.isalpha())\n",
    "print(s.isdecimal())\n",
    "print(s.lower())\n",
    "print(s.upper())\n",
    "print(s.isnumeric())\n",
    "\n"
   ]
  },
  {
   "cell_type": "code",
   "execution_count": 35,
   "metadata": {},
   "outputs": [
    {
     "name": "stdout",
     "output_type": "stream",
     "text": [
      "Arjun,is my name\n",
      "Gautam,is my last_name\n",
      "first_name:Arjun,last_name:Gautam\n"
     ]
    }
   ],
   "source": [
    "# format()\n",
    "s=\"{},is my name\"\n",
    "print(s.format(\"Arjun\"))\n",
    "s=\"{},is my last_name\".format(\"Gautam\")\n",
    "print(s)\n",
    "s=\"first_name:{1},last_name:{0}\"\n",
    "print(s.format(\"Gautam\",\"Arjun\"))"
   ]
  },
  {
   "cell_type": "code",
   "execution_count": 37,
   "metadata": {},
   "outputs": [
    {
     "name": "stdout",
     "output_type": "stream",
     "text": [
      "Arjun,Ashish,Bhoumik,Abhishek\n",
      "['Arjun', 'Ashish', 'Bhoumik', 'Abhishek']\n",
      "Arjun Gautam\n"
     ]
    }
   ],
   "source": [
    "# split and join\n",
    "s=\"Arjun,Ashish,Bhoumik,Abhishek\"\n",
    "print(s)\n",
    "print(s.split(\",\")) \n",
    "s1=\"Arjun\"\n",
    "s2=\"Gautam\"\n",
    "print(' '.join([s1,s2]))"
   ]
  },
  {
   "cell_type": "code",
   "execution_count": null,
   "metadata": {},
   "outputs": [],
   "source": []
  }
 ],
 "metadata": {
  "kernelspec": {
   "display_name": "Python 3",
   "language": "python",
   "name": "python3"
  },
  "language_info": {
   "codemirror_mode": {
    "name": "ipython",
    "version": 3
   },
   "file_extension": ".py",
   "mimetype": "text/x-python",
   "name": "python",
   "nbconvert_exporter": "python",
   "pygments_lexer": "ipython3",
   "version": "3.11.2"
  }
 },
 "nbformat": 4,
 "nbformat_minor": 2
}
