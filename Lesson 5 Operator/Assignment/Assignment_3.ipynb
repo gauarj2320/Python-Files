{
 "cells": [
  {
   "cell_type": "markdown",
   "metadata": {},
   "source": [
    "# <span style=\"color:orange\">ASSIGNMENT-3 </span>\n",
    "---\n",
    "### Topics:Relational,Logical,Membership,Bitwise,Identity Operators"
   ]
  },
  {
   "cell_type": "code",
   "execution_count": 2,
   "metadata": {},
   "outputs": [
    {
     "name": "stdout",
     "output_type": "stream",
     "text": [
      "num1:45 is greater than num2:23\n"
     ]
    }
   ],
   "source": [
    "#Q1.Write a program that asks for two numbers and prints True if the first number is greater than the second, otherwise it prints False.\n",
    "num1=int(input(\"Enter the first number:\"))\n",
    "num2=int(input(\"Enter the second number:\"))\n",
    "if num1>num2 :\n",
    "    print(f\"num1:{num1} is greater than num2:{num2}\")\n",
    "elif num1==num2:\n",
    "     print(f\"num1:{num1} is equal to num2:{num2}\")\n",
    "else:\n",
    "     print(f\"num2:{num2} is greater than num1:{num1}\")\n"
   ]
  },
  {
   "cell_type": "code",
   "execution_count": 5,
   "metadata": {},
   "outputs": [
    {
     "name": "stdout",
     "output_type": "stream",
     "text": [
      "The minimum number is: 4.0\n",
      "The middle number is: 5.0\n",
      "The maximum number is: 7.0\n"
     ]
    }
   ],
   "source": [
    "#Q2.Without using any sorting functions, write a program that takes three numbers and prints them in ascending order using relational operators.\n",
    "# Take three numbers from the user\n",
    "num1 = float(input(\"Enter the first number: \"))\n",
    "num2 = float(input(\"Enter the second number: \"))\n",
    "num3 = float(input(\"Enter the third number: \"))\n",
    "\n",
    "# Determine the minimum value\n",
    "if num1 <= num2 and num1 <= num3:\n",
    "    minimum = num1\n",
    "elif num2 <= num1 and num2 <= num3:\n",
    "    minimum = num2\n",
    "else:\n",
    "    minimum = num3\n",
    "\n",
    "# Determine the maximum value\n",
    "if num1 >= num2 and num1 >= num3:\n",
    "    maximum = num1\n",
    "elif num2 >= num1 and num2 >= num3:\n",
    "    maximum = num2\n",
    "else:\n",
    "    maximum = num3\n",
    "\n",
    "# Determine the middle value\n",
    "# Since we already know the min and max, the middle is what's left\n",
    "if (num1 != minimum and num1 != maximum):\n",
    "    middle = num1\n",
    "elif (num2 != minimum and num2 != maximum):\n",
    "    middle = num2\n",
    "else:\n",
    "    middle = num3\n",
    "\n",
    "# Print the minimum, middle, and maximum values\n",
    "print(f\"The minimum number is: {minimum}\")\n",
    "print(f\"The middle number is: {middle}\")\n",
    "print(f\"The maximum number is: {maximum}\")\n"
   ]
  },
  {
   "cell_type": "code",
   "execution_count": 6,
   "metadata": {},
   "outputs": [
    {
     "name": "stdout",
     "output_type": "stream",
     "text": [
      "The maximum number is 5.0\n"
     ]
    }
   ],
   "source": [
    "#Q3.Write a function that returns the maximum of four given numbers without using any built-in functions, only relational operators.\n",
    "num1 = float(input(\"Enter the first number: \"))\n",
    "num2 = float(input(\"Enter the second number: \"))\n",
    "num3 = float(input(\"Enter the third number: \"))\n",
    "num4 = float(input(\"Enter the fourth number number: \"))\n",
    "max=0\n",
    "if (num1>num2 and num1>num3 and num1>num4):\n",
    "    max=num1\n",
    "elif (num2>num1 and num2>num3 and num2>num4):\n",
    "    max=num2\n",
    "elif (num3>num2 and num3>num1 and num3>num4):\n",
    "    max=num3\n",
    "else:\n",
    "    max=num4\n",
    "print(f\"The maximum number is {max}\")\n"
   ]
  },
  {
   "cell_type": "code",
   "execution_count": 7,
   "metadata": {},
   "outputs": [
    {
     "name": "stdout",
     "output_type": "stream",
     "text": [
      "Before swapping:\n",
      "a = 4 b = 5\n",
      "After swapping:\n",
      "a = 5 b = 4\n"
     ]
    }
   ],
   "source": [
    "#Q4.Write a program that swaps two numbers using bitwise XOR operator and display the results before and after swapping.\n",
    "# Input two numbers\n",
    "a = int(input(\"Enter the first number (a): \"))\n",
    "b = int(input(\"Enter the second number (b): \"))\n",
    "\n",
    "# Display initial values\n",
    "print(\"Before swapping:\")\n",
    "print(\"a =\", a, \"b =\", b)\n",
    "\n",
    "# Swap numbers using XOR\n",
    "a = a ^ b\n",
    "b = a ^ b\n",
    "a = a ^ b\n",
    "\n",
    "# Display the results after swapping\n",
    "print(\"After swapping:\")\n",
    "print(\"a =\", a, \"b =\", b)\n"
   ]
  },
  {
   "cell_type": "markdown",
   "metadata": {},
   "source": [
    "### Explaination\n",
    "- Initial Setup\n",
    "    - Suppose a = X and b = Y.\n",
    "- Step 1: a = a ^ b\n",
    "    - After this step, a becomes X ^ Y.\n",
    "    - b is still Y.\n",
    "- Step 2: b = a ^ b\n",
    "    -   Here, b becomes (X ^ Y) ^ Y.\n",
    "    - Applying the XOR operation properties, Y cancels out because Y ^ Y = 0, leaving X alone.\n",
    "    - Now, b is X.\n",
    "    - a is still X ^ Y.\n",
    "- Step 3: a = a ^ b\n",
    "    - Now a becomes (X ^ Y) ^ X.\n",
    "    - Again, using the XOR properties, X cancels out because X ^ X = 0, leaving Y alone.\n",
    "    - Now, a is Y."
   ]
  },
  {
   "cell_type": "code",
   "execution_count": 11,
   "metadata": {},
   "outputs": [
    {
     "name": "stdout",
     "output_type": "stream",
     "text": [
      "The number 7 is odd\n"
     ]
    }
   ],
   "source": [
    "#Q5.Use a bitwise operator to determine if a number is odd or even.\n",
    "num=int(input(\"Enter a number:\"))\n",
    "if (num & 1==1):\n",
    "    print(f\"The number {num} is odd\")\n",
    "else:\n",
    "    print(f\"The number {num} is even\")"
   ]
  },
  {
   "cell_type": "code",
   "execution_count": 15,
   "metadata": {},
   "outputs": [
    {
     "name": "stdout",
     "output_type": "stream",
     "text": [
      "Number after turning off the lowest set bit is: 56\n"
     ]
    }
   ],
   "source": [
    "#Q6.Write a program that takes an integer and turns off the lowest set bit using bitwise operators, then prints the new number.\n",
    "num=int(input(\"Enter the number\"))\n",
    "count=0\n",
    "new_num=num\n",
    "while (new_num & 1==0):\n",
    "        new_num>>=1\n",
    "        count+=1\n",
    "\n",
    "\n",
    "result=(new_num^1)<<count\n",
    "print(f\"Number after turning off the lowest set bit is: {result}\")\n"
   ]
  },
  {
   "cell_type": "code",
   "execution_count": 29,
   "metadata": {},
   "outputs": [
    {
     "name": "stdout",
     "output_type": "stream",
     "text": [
      " 'True' because at least two values are true\n"
     ]
    }
   ],
   "source": [
    "#Q7.Ask for three boolean values (x, y, z) from the user. Print True if at least two of the three booleans are True.\n",
    "x=bool(int(input(\"Enter a non zero value for True else enter 0:\")))\n",
    "y=bool(int(input(\"Enter a non zero value for True else enter 0:\")))\n",
    "z=bool(int(input(\"Enter a non zero value for True else enter 0:\")))\n",
    "\n",
    "if((x or y) and (x or z) and (y or z)== True):\n",
    "    print(f\" 'True' because at least two values are true\")\n",
    "else:\n",
    "    print(\"Atleast two values are not True\")\n"
   ]
  },
  {
   "cell_type": "code",
   "execution_count": 33,
   "metadata": {},
   "outputs": [
    {
     "name": "stdout",
     "output_type": "stream",
     "text": [
      "x&y:False\n"
     ]
    }
   ],
   "source": [
    "#Q8. Given two boolean inputs, print the result of their conjunction (and) only if both are not True. Use logical operators\n",
    "x=bool(int(input(\"Enter a non zero value for True else enter 0:\")))\n",
    "y=bool(int(input(\"Enter a non zero value for True else enter 0:\")))\n",
    "if x+y!=2:\n",
    "    print(f\"x&y:{x&y}\")\n"
   ]
  },
  {
   "cell_type": "code",
   "execution_count": 36,
   "metadata": {},
   "outputs": [
    {
     "name": "stdout",
     "output_type": "stream",
     "text": [
      "The number 34 is not within the range (e.g., 100 to 500) and is not a multiple of 7\n"
     ]
    }
   ],
   "source": [
    "#Q9.Write a program that checks if a number is within a range (e.g., 100 to 500) or is a multiple of 7 using logical operators.\n",
    "num=int(input(\"Enter a number:\"))\n",
    "if ((100<num<500) or (num%7==0)):\n",
    "    print(f\"The  number {num} is within a range (e.g., 100 to 500) or is a multiple of 7\")\n",
    "else:\n",
    "    print(f\"The number {num} is not within the range (e.g., 100 to 500) and is not a multiple of 7\")\n"
   ]
  },
  {
   "cell_type": "code",
   "execution_count": 38,
   "metadata": {},
   "outputs": [
    {
     "name": "stdout",
     "output_type": "stream",
     "text": [
      "The entered character: l is a consonant\n"
     ]
    }
   ],
   "source": [
    "#Q10. Write a program that checks if an entered character is a vowel ('a', 'e', 'i', 'o', 'u') using the in operator\n",
    "char=input(\"Enter a character:\")\n",
    "vowel=['a','e','i','o','u']\n",
    "if char in vowel:\n",
    "    print(f\"The entered character: {char} is a vowel\")\n",
    "else:\n",
    "    print(f\"The entered character: {char} is a consonant\")"
   ]
  },
  {
   "cell_type": "code",
   "execution_count": 40,
   "metadata": {},
   "outputs": [
    {
     "name": "stdout",
     "output_type": "stream",
     "text": [
      "The entered number: 3 is in tuple\n"
     ]
    }
   ],
   "source": [
    "#Q11.Given the tuple (1, 2, 3, 4, 5), write a function that checks if a user-given number is part of this tuple.\n",
    "num=int(input(\"Enter a character:\"))\n",
    "t=(1,2,3,4,5)\n",
    "if num in t:\n",
    "    print(f\"The entered number: {num} is in tuple\")\n",
    "else:\n",
    "    print(f\"The entered number: {num} is not in tuple\")"
   ]
  },
  {
   "cell_type": "code",
   "execution_count": 56,
   "metadata": {},
   "outputs": [
    {
     "name": "stdout",
     "output_type": "stream",
     "text": [
      "False\n"
     ]
    }
   ],
   "source": [
    "#Q12.Write a program that takes a string and prints True if it does not contain 'x' or 'y'.\n",
    "st=input(\"Enter a string:\")\n",
    "if (('x'  not in st) or ('y'  not in st)):\n",
    "    print(\"True\")\n",
    "else:\n",
    "    print(\"False\")\n"
   ]
  },
  {
   "cell_type": "code",
   "execution_count": 57,
   "metadata": {},
   "outputs": [
    {
     "name": "stdout",
     "output_type": "stream",
     "text": [
      "id of x:2360176359488 and id of y:2360176359488 is same and the refer same object\n"
     ]
    }
   ],
   "source": [
    "#Q13.Create two variables assigned to the same list. Use identity operators to check if they refer to the same object and print the result\n",
    "x=y=[1,3,4]\n",
    "if x is y:\n",
    "    print(f\"id of x:{id(x)} and id of y:{id(y)} is same and the refer same object\")"
   ]
  },
  {
   "cell_type": "code",
   "execution_count": 2,
   "metadata": {},
   "outputs": [
    {
     "name": "stdout",
     "output_type": "stream",
     "text": [
      "The input is 'None'\n"
     ]
    }
   ],
   "source": [
    "#Q14.Write a function that takes any input and prints whether the input is None using an identity operator.\n",
    "Input=eval(input(\"Enter anything:\"))\n",
    "x=None\n",
    "if Input is x:\n",
    "    print(\"The input is 'None'\")"
   ]
  },
  {
   "cell_type": "code",
   "execution_count": 67,
   "metadata": {},
   "outputs": [
    {
     "name": "stdout",
     "output_type": "stream",
     "text": [
      "l1 is equal to l2\n",
      "l1 and l2 not referring same object\n"
     ]
    }
   ],
   "source": [
    "#Q15.Write a code example that clearly illustrates the difference between == and is.\n",
    "l1=[1,2,3]\n",
    "l2=[1,2,3]\n",
    "if l1==l2:\n",
    "    print(\"l1 is equal to l2\")\n",
    "if l1 is l2:\n",
    "    print(\"l1 and l2 referring same object\")\n",
    "else:\n",
    "    print(\"l1 and l2 not referring same object\")"
   ]
  }
 ],
 "metadata": {
  "kernelspec": {
   "display_name": "Python 3",
   "language": "python",
   "name": "python3"
  },
  "language_info": {
   "codemirror_mode": {
    "name": "ipython",
    "version": 3
   },
   "file_extension": ".py",
   "mimetype": "text/x-python",
   "name": "python",
   "nbconvert_exporter": "python",
   "pygments_lexer": "ipython3",
   "version": "3.11.2"
  }
 },
 "nbformat": 4,
 "nbformat_minor": 2
}
