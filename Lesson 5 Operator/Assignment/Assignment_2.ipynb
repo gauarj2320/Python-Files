{
 "cells": [
  {
   "cell_type": "markdown",
   "metadata": {},
   "source": [
    "# <span style=\"color:orange\">ASSIGNMENT-2 </span>\n",
    "---\n",
    "## Topics:Arithmatic Operator"
   ]
  },
  {
   "cell_type": "code",
   "execution_count": 2,
   "metadata": {},
   "outputs": [
    {
     "name": "stdout",
     "output_type": "stream",
     "text": [
      "The sum of 23 and 12 is 35\n",
      "The difference of 23 and 12 is 11\n",
      "The product of 23 and 12 is 276\n",
      "The qoutient of 23 and 12 is 1.92\n"
     ]
    }
   ],
   "source": [
    "#Q1.Write a Python script that asks the user for two numbers and then prints their sum, difference, product, and quotient.\n",
    "num1=int(input(\"Enter the first number:\"))\n",
    "num2=int(input(\"Enter the second number:\"))\n",
    "print(f\"The sum of {num1} and {num2} is {num1+num2}\")\n",
    "print(f\"The difference of {num1} and {num2} is {num1-num2}\")\n",
    "print(f\"The product of {num1} and {num2} is {num1*num2}\")\n",
    "print(f\"The qoutient of {num1} and {num2} is {num1/num2:.2f}\")"
   ]
  },
  {
   "cell_type": "code",
   "execution_count": 3,
   "metadata": {},
   "outputs": [
    {
     "name": "stdout",
     "output_type": "stream",
     "text": [
      "The remaider of 23%12 is: 11\n"
     ]
    }
   ],
   "source": [
    "#Q2.Ask the user to input two numbers. Print the remainder when the first number is divided by the second number using the modulus operator.\n",
    "num1=int(input(\"Enter the first number:\"))\n",
    "num2=int(input(\"Enter the second number:\"))\n",
    "print(f\"The remaider of {num1}%{num2} is: {num1%num2}\")"
   ]
  },
  {
   "cell_type": "code",
   "execution_count": 4,
   "metadata": {},
   "outputs": [
    {
     "name": "stdout",
     "output_type": "stream",
     "text": [
      "The incremented number is 10\n"
     ]
    }
   ],
   "source": [
    "#Q3.Write a program that starts with a variable x with an initial value of 10. Increment x by 5 using the += operator and print the result.\n",
    "num=int(input(\"Enter the number:\"))\n",
    "num+=5\n",
    "print(f\"The incremented number is {num}\")"
   ]
  },
  {
   "cell_type": "code",
   "execution_count": 5,
   "metadata": {},
   "outputs": [
    {
     "name": "stdout",
     "output_type": "stream",
     "text": [
      "Decremented value is 97\n",
      "Decremented value is 94\n",
      "Decremented value is 91\n"
     ]
    }
   ],
   "source": [
    "#Q4.Start with a variable y set to 100. Using the -= operator, decrease y by 10 and print the result. Repeat this operation three times within the program.\n",
    "y=100\n",
    "for i in range(1,4):\n",
    "    y-=3\n",
    "    print(\"Decremented value is %d\"%y)\n",
    "\n"
   ]
  },
  {
   "cell_type": "code",
   "execution_count": 6,
   "metadata": {},
   "outputs": [
    {
     "name": "stdout",
     "output_type": "stream",
     "text": [
      "The product of 45 and 7 is 315\n"
     ]
    }
   ],
   "source": [
    "#Q5.Write a Python function that multiplies two numbers using only the + operator inside a loop.\n",
    "product=0\n",
    "num1=int(input(\"Enter the first number:\"))\n",
    "num2=int(input(\"Enter the second number:\"))\n",
    "if num1<num2:\n",
    "    min=num1\n",
    "    max=num2\n",
    "else:\n",
    "    min=num2\n",
    "    max=num1\n",
    "for i in range(1,min+1):\n",
    "    product+=max\n",
    "print(\"The product of %d and %d is %d\"%(num1,num2,product))"
   ]
  },
  {
   "cell_type": "code",
   "execution_count": 8,
   "metadata": {},
   "outputs": [
    {
     "name": "stdout",
     "output_type": "stream",
     "text": [
      "Quotient:3.25\n",
      "Floor Division:3.0\n",
      "Remainde:3.0\n"
     ]
    }
   ],
   "source": [
    "#Q6.Write a program that asks the user for a dividend and divisor, and prints the quotient and remainder. Also, use floor division to show how it differs from regular division.\n",
    "dividend=float(input(\"Enter a number:\"))\n",
    "divisor=float(input(\"Enter a number:\"))\n",
    "print(f\"Quotient:{dividend/divisor:.2f}\")\n",
    "print(f\"Floor Division:{dividend//divisor}\")\n",
    "print(f\"Remainder:{dividend%divisor}\")\n"
   ]
  },
  {
   "cell_type": "code",
   "execution_count": 9,
   "metadata": {},
   "outputs": [
    {
     "name": "stdout",
     "output_type": "stream",
     "text": [
      "Area:2324.00\n"
     ]
    }
   ],
   "source": [
    "#Q7.Write a program that asks the user for the length and width of a rectangle and then prints the area. Use the multiplication operator.\n",
    "length=float(input(\"Enter length:\"))\n",
    "breadth=float(input(\"Enter breadth:\"))\n",
    "print(f\"Area:{length*breadth:.2f}\")"
   ]
  },
  {
   "cell_type": "code",
   "execution_count": 10,
   "metadata": {},
   "outputs": [
    {
     "name": "stdout",
     "output_type": "stream",
     "text": [
      "RHS:28.0 and LHS:28.0 and Distrubitive property is verified\n"
     ]
    }
   ],
   "source": [
    "#Q8.Ask the user for three numbers, a, b, and c. Verify the distributive property (a + b) * c = a*c + b*c by printing both sides of the equation.\n",
    "a=float(input(\"Enter a number:\"))\n",
    "b=float(input(\"Enter a number:\"))\n",
    "c=float(input(\"Enter a number:\"))\n",
    "RHS=(a + b) * c\n",
    "LHS=a*c + b*c\n",
    "print(f\"RHS:{RHS} and LHS:{LHS} and Distrubitive property is verified\")"
   ]
  },
  {
   "cell_type": "code",
   "execution_count": 11,
   "metadata": {},
   "outputs": [
    {
     "name": "stdout",
     "output_type": "stream",
     "text": [
      "2.0**3.0:8.0\n"
     ]
    }
   ],
   "source": [
    "#Q9.Write a program that takes a base and an exponent from the user and prints the result using the ** operator.\n",
    "base=float(input(\"Enter a number:\"))\n",
    "exponent=float(input(\"Enter a number:\"))\n",
    "print(F\"{base}**{exponent}:{base**exponent}\")\n"
   ]
  },
  {
   "cell_type": "code",
   "execution_count": 12,
   "metadata": {},
   "outputs": [
    {
     "name": "stdout",
     "output_type": "stream",
     "text": [
      "The square root of 9.0 is:3.0\n"
     ]
    }
   ],
   "source": [
    "#Q10.Ask the user to input a number and calculate its square root using the exponentiation operator\n",
    "base=float(input(\"Enter a number:\"))\n",
    "exponent=0.5\n",
    "print(f\"The square root of {base} is:{base**exponent}\")"
   ]
  },
  {
   "cell_type": "code",
   "execution_count": 16,
   "metadata": {},
   "outputs": [
    {
     "name": "stdout",
     "output_type": "stream",
     "text": [
      "The COmpound Interest is:1160.7545177229981\n"
     ]
    }
   ],
   "source": [
    "#Q11.Write a program that calculates compound interest using the formula A = P(1 + r/n)**(n*t) where P is the principal amount, r is the annual interest rate, n is the number of times interest is compounded per year, and t is the time the money is invested for in years. Get all necessary values from the user.\n",
    "P=float(input(\"Enter the principal amount:\"))\n",
    "r=float(input(\"Enter the annual interest:\"))\n",
    "n=int(input(\"Enter the number of times interest is compounded per year\"))\n",
    "t=int(input(\"Enter the duration of investment\"))\n",
    "CI= P*(1 + (r/100)/n)**(n*t)\n",
    "print(f\"The Compound Interest is:{CI}\")"
   ]
  },
  {
   "cell_type": "code",
   "execution_count": 1,
   "metadata": {},
   "outputs": [
    {
     "name": "stdout",
     "output_type": "stream",
     "text": [
      "The distance 1.0km in miles is:0.621\n"
     ]
    }
   ],
   "source": [
    "#Q12.Create a program that converts kilometers to miles, given that one kilometer is approximately 0.621371 miles. Use multiplication for the conversion and ensure the result is displayed to three decimal places.\n",
    "k=float(input(\"Enter the distance in kilometers:\"))\n",
    "miles=k*0.621371\n",
    "print(f'The distance {k}km in miles is:{miles:.3f}')"
   ]
  },
  {
   "cell_type": "code",
   "execution_count": 20,
   "metadata": {},
   "outputs": [
    {
     "name": "stdout",
     "output_type": "stream",
     "text": [
      "Items per group:3\n",
      "Items left:1\n"
     ]
    }
   ],
   "source": [
    "#Q13.Write a program where the user inputs the number of items and the number of groups. Print out how many items each group should get and how many items are left over.\n",
    "items=int(input(\"Enter the number of items:\"))\n",
    "groups=int(input(\"Enter the number of groups:\"))\n",
    "item_left=items%groups\n",
    "items_grp=items//groups\n",
    "print(f\"Items per group:{items_grp}\")\n",
    "print(f\"Items left:{item_left}\")"
   ]
  },
  {
   "cell_type": "code",
   "execution_count": 21,
   "metadata": {},
   "outputs": [
    {
     "name": "stdout",
     "output_type": "stream",
     "text": [
      "The amount after tax:1100.0\n"
     ]
    }
   ],
   "source": [
    "#Q14.Write a program that calculates the total price of a product after tax. Ask the user for the price of the product and the tax rate. Use multiplication and addition to calculate the total, and format the result to two decimal places\n",
    "price=float(input(\"enter the amount of all goods before tax:\"))\n",
    "tax=float(input(\"Enter the tax rate in %:\"))\n",
    "print(f\"The amount after tax:{price+(price*(tax/100))}\")"
   ]
  },
  {
   "cell_type": "code",
   "execution_count": 22,
   "metadata": {},
   "outputs": [
    {
     "name": "stdout",
     "output_type": "stream",
     "text": [
      "The value of hypotenuse is:5.0\n"
     ]
    }
   ],
   "source": [
    "#Q15.Write a program that asks the user for the lengths of two sides of a right triangle (not the hypotenuse). Calculate the length of the hypotenuse and print it. Use the Pythagorean theorem (a**2 + b**2 = c**2) and the square root calculation discussed earlier.\n",
    "a=float(input(\"Enter a number:\"))\n",
    "b=float(input(\"Enter a number:\"))\n",
    "print(f\"The value of hypotenuse is:{(a**2 + b**2)**0.5}\")"
   ]
  }
 ],
 "metadata": {
  "kernelspec": {
   "display_name": "Python 3",
   "language": "python",
   "name": "python3"
  },
  "language_info": {
   "codemirror_mode": {
    "name": "ipython",
    "version": 3
   },
   "file_extension": ".py",
   "mimetype": "text/x-python",
   "name": "python",
   "nbconvert_exporter": "python",
   "pygments_lexer": "ipython3",
   "version": "3.11.2"
  }
 },
 "nbformat": 4,
 "nbformat_minor": 2
}
