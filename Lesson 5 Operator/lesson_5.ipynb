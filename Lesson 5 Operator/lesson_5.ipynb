{
 "cells": [
  {
   "cell_type": "markdown",
   "metadata": {},
   "source": [
    "## Operators in Python\n",
    "- Operators are tokens which are used to modify and manipulate data in Python\n",
    "- Depending upon number of data they operate on Operator can be unary or binary\n"
   ]
  },
  {
   "cell_type": "markdown",
   "metadata": {},
   "source": [
    "### <span style=\"color:orange\"> Arithmatic Operator</span>\n",
    "- Arithmatic Operator perform arithmatic operations on data\n",
    "- These are binary operator and require two operands\n",
    "- Arithmatic operator in python: `+,-,%,/,//,*,**`\n",
    "- Operand Type:int,float,complex,string(+,*)\n",
    "\n",
    "#### pow()\n",
    "- builtin function to calculate power,exponents\n",
    "- Syntax:`pow(base,exponent,modulo)`"
   ]
  },
  {
   "cell_type": "markdown",
   "metadata": {},
   "source": [
    "### <span style=\"color:orange\"> Relational Operator</span>\n",
    "- Perform comparison on operands\n",
    "- return: True or False (boolean values)\n",
    "- operands:int,float,str\n",
    "- comparison is done between similar types\n",
    "    - Exception: int&float can be compared here int is promoted to float\n",
    "- In strings lexicographical comparison takes place\n",
    "- `== and !=`: does not throw error even if type error is present\n",
    "- `<,>,<=,>=`: throw type error if two different types compared"
   ]
  },
  {
   "cell_type": "code",
   "execution_count": 1,
   "metadata": {},
   "outputs": [
    {
     "name": "stdout",
     "output_type": "stream",
     "text": [
      "False\n",
      "False\n"
     ]
    }
   ],
   "source": [
    "print(\"Ram\"<\"Raj\")\n",
    "print(\"Run \"==45)"
   ]
  },
  {
   "cell_type": "markdown",
   "metadata": {},
   "source": [
    "### <span style=\"color:orange\">Logical Operator</span>\n",
    "- operation"
   ]
  },
  {
   "cell_type": "code",
   "execution_count": 2,
   "metadata": {},
   "outputs": [
    {
     "name": "stdout",
     "output_type": "stream",
     "text": [
      "3\n",
      "2\n",
      "0\n",
      "2\n"
     ]
    }
   ],
   "source": [
    "print(2 and 3)\n",
    "print(2 or 3)\n",
    "print(0 and 3/0)\n",
    "print(2 or 4/0)"
   ]
  },
  {
   "cell_type": "markdown",
   "metadata": {},
   "source": [
    "### **How to Know How an Operator Works in Python?** 🚀  \n",
    "\n",
    "Python provides multiple ways to **understand how an operator works**:  \n",
    "\n",
    "---\n",
    "\n",
    "## **1️⃣ Using `help()` Function**\n",
    "- **Purpose:** Get documentation about an operator or function.  \n",
    "- **Usage:**\n",
    "  ```python\n",
    "  help(\"+\")\n",
    "  help(\"-\")\n",
    "  ```\n",
    "- **Output:**  \n",
    "  ```\n",
    "  No Python documentation found for '+'.\n",
    "  ```\n",
    "- **Reason:** `help()` does **not** directly work with operators.\n",
    "\n",
    "✅ **Solution:** Use `help` with **operator module**:\n",
    "  ```python\n",
    "  import operator\n",
    "  help(operator.add)  # Works for '+'\n",
    "  help(operator.sub)  # Works for '-'\n",
    "  ```\n",
    "  - This shows how `+`, `-`, `*`, `/`, etc., function internally.\n",
    "\n",
    "---\n",
    "\n",
    "## **2️⃣ Using `__doc__` Attribute**\n",
    "- **Purpose:** Get operator documentation.  \n",
    "- **Usage:**\n",
    "  ```python\n",
    "  import operator\n",
    "  print(operator.add.__doc__)\n",
    "  ```\n",
    "- **Output:**  \n",
    "  ```\n",
    "  add(a, b) -- Same as a + b.\n",
    "  ```\n",
    "- **Explanation:**  \n",
    "  - `operator.add.__doc__` shows the meaning of `+`.  \n",
    "  - Works similarly for `operator.sub`, `operator.mul`, etc.\n",
    "\n",
    "---\n",
    "\n",
    "## **3️⃣ Using `dis` (Disassembly) to See Internal Bytecode**\n",
    "- **Purpose:** See how Python **internally executes** an operator.\n",
    "- **Usage:**\n",
    "  ```python\n",
    "  import dis\n",
    "  dis.dis(\"a + b\")\n",
    "  ```\n",
    "- **Output:**\n",
    "  ```\n",
    "    1           0 LOAD_NAME                0 (a)\n",
    "                2 LOAD_NAME                1 (b)\n",
    "                4 BINARY_ADD\n",
    "                6 RETURN_VALUE\n",
    "  ```\n",
    "- **Explanation:**  \n",
    "  - `BINARY_ADD` → Python calls the `+` operator.\n",
    "\n",
    "---\n",
    "\n",
    "## **4️⃣ Using `type()` to Check Operator Output Type**\n",
    "- **Purpose:** Check **what type** an operator returns.\n",
    "- **Usage:**\n",
    "  ```python\n",
    "  print(type(5 + 3))   # Output: <class 'int'>\n",
    "  print(type(5 / 2))   # Output: <class 'float'>\n",
    "  print(type(\"Hello\" + \" World\"))  # Output: <class 'str'>\n",
    "  ```\n",
    "- **Explanation:**  \n",
    "  - Helps verify how Python handles **different operand types**.\n",
    "\n",
    "---\n",
    "\n",
    "## **5️⃣ Using `dir()` to Find Operator Methods**\n",
    "- **Purpose:** Find magic methods (`__add__`, `__mul__`) that define operators.\n",
    "- **Usage:**\n",
    "  ```python\n",
    "  print(dir(int))  # List all methods of int\n",
    "  ```\n",
    "- **Output (partial):**\n",
    "  ```\n",
    "  ['__add__', '__sub__', '__mul__', '__truediv__', ...]\n",
    "  ```\n",
    "- **Explanation:**  \n",
    "  - `+` internally calls `__add__()`  \n",
    "  - `-` calls `__sub__()`, etc.\n",
    "  - Example:\n",
    "    ```python\n",
    "    print((5).__add__(3))  # Same as 5 + 3\n",
    "    ```\n",
    "\n",
    "---\n",
    "\n",
    "## **6️⃣ Using `operator` Module**\n",
    "- **Purpose:** Get function equivalents of operators.\n",
    "- **Usage:**\n",
    "  ```python\n",
    "  import operator\n",
    "  print(operator.add(5, 3))   # Same as 5 + 3\n",
    "  print(operator.mul(4, 2))   # Same as 4 * 2\n",
    "  ```\n",
    "- **Output:**\n",
    "  ```\n",
    "  8\n",
    "  8\n",
    "  ```\n",
    "\n",
    "---\n",
    "\n",
    "### **📌 Summary**\n",
    "| **Method**  | **Use Case**  | **Example** |\n",
    "|------------|-------------|------------|\n",
    "| `help()` | Get documentation | `help(operator.add)` |\n",
    "| `__doc__` | Get operator explanation | `operator.add.__doc__` |\n",
    "| `dis` | See internal execution | `dis.dis(\"a + b\")` |\n",
    "| `type()` | Check output type | `type(5 + 3)` |\n",
    "| `dir()` | Find operator magic methods | `dir(int)` |\n",
    "| `operator` module | Use functions instead of symbols | `operator.add(5, 3)` |\n",
    "\n",
    "---\n",
    "\n",
    "Would you like a **deep dive into operator overloading** too? 🚀"
   ]
  },
  {
   "cell_type": "code",
   "execution_count": 2,
   "metadata": {},
   "outputs": [
    {
     "name": "stdout",
     "output_type": "stream",
     "text": [
      "Help on built-in function add in module _operator:\n",
      "\n",
      "add(a, b, /)\n",
      "    Same as a + b.\n",
      "\n",
      "Help on built-in function sub in module _operator:\n",
      "\n",
      "sub(a, b, /)\n",
      "    Same as a - b.\n",
      "\n"
     ]
    }
   ],
   "source": [
    "import operator\n",
    "help(operator.add)  # Works for '+'\n",
    "help(operator.sub)  # Works for '-'"
   ]
  },
  {
   "cell_type": "code",
   "execution_count": 3,
   "metadata": {},
   "outputs": [
    {
     "name": "stdout",
     "output_type": "stream",
     "text": [
      "  0           RESUME                   0\n",
      "\n",
      "  1           LOAD_NAME                0 (a)\n",
      "              LOAD_NAME                1 (b)\n",
      "              BINARY_OP                0 (+)\n",
      "              RETURN_VALUE\n"
     ]
    }
   ],
   "source": [
    "import dis\n",
    "dis.dis(\"a + b\")"
   ]
  },
  {
   "cell_type": "code",
   "execution_count": 9,
   "metadata": {},
   "outputs": [
    {
     "name": "stdout",
     "output_type": "stream",
     "text": [
      "  0           RESUME                   0\n",
      "\n",
      "  1           LOAD_NAME                0 (a)\n",
      "              LOAD_NAME                1 (b)\n",
      "              BINARY_OP                5 (*)\n",
      "              RETURN_VALUE\n"
     ]
    }
   ],
   "source": [
    "import dis\n",
    "a=9\n",
    "b=10\n",
    "dis.dis(\"a*b\")\n"
   ]
  },
  {
   "cell_type": "markdown",
   "metadata": {},
   "source": [
    "# **<span style=\"color:orange\">Lesson-5</span>**"
   ]
  },
  {
   "cell_type": "markdown",
   "metadata": {},
   "source": [
    "## Operators in Python\n",
    "- Operators  are tokens which perform computational operations in python and involve the use of ALU\n",
    "- They help to manipulate,update,store data during program execution\n",
    "- Python being a high-level programming language provide various in built operators\n",
    "\n",
    "## Terms Related to operators\n",
    "- Operands: This are data on which operator operates\n",
    "- Operation: The behavior of the operator is hot encoded and changes according to the data-type of operands\n",
    "\n",
    "## Classification of Operators \n",
    "- Based on number of operands an operator operates on operator can be classified into:\n",
    "    1. Unary Operators: Single Operand\n",
    "    2. Binary Operators: Two Operand\n",
    "    3. Ternary Operator: Three Operand\n",
    "\n",
    "### Unary Operators in Python:\n",
    "1. `+ -`: Used to determine the sign of numeric literals\n",
    "2. `~` : Bitwise not --> Complement all bit of binary representation of a number\n",
    "3. `not`: Logical not --> not True ==> False\n",
    "\n",
    "### Binary Operators in Python\n",
    "1. Arithmatic Operator:\n",
    "- Operators which perform arithmatic operation\n",
    "- Operands Type: numeric --> `int,float,complex`\n",
    "- `+ and *`:Also operate on str operands\n",
    "    - `+`: Perform Addition\n",
    "        - int +int -->int\n",
    "        - float + int/float --> float (Coercion)\n",
    "        - int/float + complex --> complex (Coercion)\n",
    "        - str1 + str2 --> concatenates the string\n",
    "    - `-`: Perform Subtraction\n",
    "        - int - int ->int\n",
    "        - float - int/float --> float (Coercion)\n",
    "        - int/float - complex--> complex(Coercion)\n",
    "    - `*`:Perform Multiplication\n",
    "        - int*int -->int\n",
    "        - float * int/float --> float (Coercion)\n",
    "        - int/float * complex --> complex (Coercion)\n",
    "        - str * int(n) --> repeats the string n times and return a single string\n",
    "        - str*str --> Invalid\n",
    "    - `/`: Perform division\n",
    "        - Always return float\n",
    "        - int/int -->float\n",
    "        - float/int -->float\n",
    "        - complex/complex,int,float ---> complex\n",
    "    - `//`: Perform floor division --> ans [a/b] []:GIF Function\n",
    "        - int // int --> int\n",
    "        - float // int/float --> int\n",
    "        - complex // int,float,complex --> TypeError\n",
    "    - `%`: Perform Modulo Operation\n",
    "        - return: Remainder\n",
    "        - Operates on float args unlike C\n",
    "        \n",
    "    - `**`: Perform Exponentiation operation\n",
    "        - Associativity : Right to Left\n",
    "    - `pow(base,exponent,modulo)`: Inbuilt function perform exponentiation\n",
    "\n",
    "2. Relational Operator:\n",
    "- Used to Comparison Between similar types\n",
    "- Compare Strings Lexicographically\n",
    "- Compare Sequence Type like list,tuple element by element until 1st difference\n",
    "- Return:Boolean Value (True,False) \n",
    "\n",
    "    - `<,>,<=,>=`( comparison operators)\n",
    "     - int and int \n",
    "     - int and float : Coercion then comparison\n",
    "     - complex and complex : TypeError\n",
    "     - numeric and str: TypeError\n",
    "     - Raise TypeError when used between different types\n",
    "    - `==,!=` (Equality Operator)\n",
    "        - Don't Raise TypeError when used between different types\n",
    "- Operator Chaining in Python\n",
    "    - `10<8>7`: Evaluated as `(10<8) and (8>7)`\n",
    "    - This behavior compare to C\n",
    "\n",
    "3. Logical Operators\n",
    "- Operands: Expression which return Boolean Value/Non-Boolean\n",
    "- Used to Perform Boolean Algebra\n",
    "- Return:Boolean Value/Non-Boolean when operands are Non-Boolean\n",
    "    - `and`: \n",
    "\n",
    "    |Expression-A|Expression-B|Output|\n",
    "    |------------|------------|------|\n",
    "    |True|True|True|\n",
    "    |True|False|False|\n",
    "    |False|Error,T,F|False(Short Circuit Evaluation)|\n",
    "    \n",
    "    - Non-Boolean Operands-->Return Non-Boolean Value\n",
    "        - Truthy Values: \n",
    "            - Non-zero numeric values,Non empty sequence and string\n",
    "        - Falsy Values\n",
    "            - Zero,Empty sequence and string\n",
    "        - Return:\n",
    "            - Truthy and Falsy/Truthy ---> Second Operand\n",
    "            - Falsy and Truthy  ---> First Operand\n",
    "    \n",
    "    - `or`: \n",
    "\n",
    "    |Expression-A|Expression-B|Output|\n",
    "    |------------|------------|------|\n",
    "    |False|True|True|\n",
    "    |False|False|False|\n",
    "    |True|Error,T,F|True(Short Circuit Evaluation)|\n",
    "    \n",
    "    - Non-Boolean Operands-->Return Non-Boolean Value\n",
    "        - Truthy Values: \n",
    "            - Non-zero numeric values,Non empty sequence and string\n",
    "        - Falsy Values\n",
    "            - Zero,Empty sequence and string\n",
    "        - Return:\n",
    "            - Truthy or Falsy/Truthy ---> First Operand\n",
    "            - Falsy or Falsy/Truthy  ---> Second Operand\n",
    "    - `not`: \n",
    "\n",
    "    |Expression-A|Output|\n",
    "    |------------|------|\n",
    "    |True|False|\n",
    "    |False|True|\n",
    "   \n",
    "   - Unary Operator\n",
    "    - Always return Boolean value wether operand are Boolean or Non-Boolean\n",
    "    - For Non-Boolean evaluate them on the basis of their Truthiness and Falsinees(Coercioin Evaluation)\n",
    "\n",
    "4. Bitwise Operators\n",
    "- Operate on the bits of the Binary literal of Integers(Internal Evaluation)\n",
    "- Operands:int type only\n",
    "- Return: int value after bitwise operation\n",
    "    - `~` Bitwise Not\n",
    "        - Unary Operator\n",
    "        - Return: ~n=-(n+1)\n",
    "            - ~5=-(5+1)=-6\n",
    "            - ~(-4)= -(-4+1)=3\n",
    "    - `^` Bitwise XOR\n",
    "    \n",
    "    |Bit-1|Bit-2|Output|\n",
    "    |------------|------------|------|\n",
    "    |0|0|0|\n",
    "    |0|1|1|\n",
    "    |1|0|1|\n",
    "    |1|1|0|\n",
    "\n",
    "    - `&` Bitwise AND\n",
    "\n",
    "    |Bit-1|Bit-2|Output|\n",
    "    |------------|------------|------|\n",
    "    |0|0|0|\n",
    "    |0|1|0|\n",
    "    |1|0|0|\n",
    "    |1|1|1|\n",
    "    \n",
    "    - `|` Bitwise OR\n",
    "\n",
    "    |Bit-1|Bit-2|Output|\n",
    "    |------------|------------|------|\n",
    "    |0|0|0|\n",
    "    |0|1|1|\n",
    "    |1|0|1|\n",
    "    |1|1|1|\n",
    "         \n",
    "    - `>> and <<` Bitwise Right and left shift\n",
    "        - left_operand>>Digits_two\n",
    "        - a>>n ==> a//(2^n) \n",
    "        - a<< n ==> a*(2^n)\n",
    "\n",
    "5. Identity Operator:\n",
    "- Operators: `is  and  is not`\n",
    "- Argument: Reference to Object\n",
    "- Compare addresses pointed by the reference if but point to same address return True or else False\n",
    "\n",
    "6. Membership Operator\n",
    "- Operators: `in and not in`\n",
    "- Argument: Sequence Data-types which have more than one element\n",
    "- Operand: Object of any type\n",
    "- Check whether the object is present in Datastructure\n",
    "- Dict: Check whether the key is present in it \n",
    "\n",
    "7. Assignment Operator\n",
    "- Operator: `=` and compound `*=,/=,//=,~=,&=,^= etc.`\n",
    "- Used to assign Object-value to a reference variable\n",
    "- After assignment the object assigned is pointed by the reference\n",
    "             \n",
    "         "
   ]
  },
  {
   "cell_type": "code",
   "execution_count": 14,
   "metadata": {},
   "outputs": [
    {
     "name": "stdout",
     "output_type": "stream",
     "text": [
      "-0b101\n",
      "4\n",
      "False\n"
     ]
    },
    {
     "ename": "TypeError",
     "evalue": "bad operand type for unary ~: 'bytes'",
     "output_type": "error",
     "traceback": [
      "\u001b[1;31m---------------------------------------------------------------------------\u001b[0m",
      "\u001b[1;31mTypeError\u001b[0m                                 Traceback (most recent call last)",
      "Cell \u001b[1;32mIn[14], line 7\u001b[0m\n\u001b[0;32m      5\u001b[0m \u001b[38;5;28mprint\u001b[39m(\u001b[38;5;129;01mnot\u001b[39;00m \u001b[38;5;28;01mTrue\u001b[39;00m)\n\u001b[0;32m      6\u001b[0m c\u001b[38;5;241m=\u001b[39m\u001b[38;5;124mb\u001b[39m\u001b[38;5;124m'\u001b[39m\u001b[38;5;124mHello\u001b[39m\u001b[38;5;124m'\u001b[39m \u001b[38;5;66;03m# Error: Due to sequence of bytes\u001b[39;00m\n\u001b[1;32m----> 7\u001b[0m \u001b[38;5;28mprint\u001b[39m(\u001b[38;5;241;43m~\u001b[39;49m\u001b[43mc\u001b[49m)\n",
      "\u001b[1;31mTypeError\u001b[0m: bad operand type for unary ~: 'bytes'"
     ]
    }
   ],
   "source": [
    "a=+5 # +: indicates positive integer 5\n",
    "a=-5\n",
    "print(bin(a))\n",
    "print(~a)\n",
    "print(not True)\n",
    "c=b'Hello' # Error: Due to sequence of bytes\n",
    "print(~c)"
   ]
  },
  {
   "cell_type": "code",
   "execution_count": null,
   "metadata": {},
   "outputs": [
    {
     "name": "stdout",
     "output_type": "stream",
     "text": [
      "10\n",
      "13.83\n",
      "(14+8j)\n",
      "(9.283000000000001+2j)\n",
      "Arjun Gautam\n"
     ]
    }
   ],
   "source": [
    "print(5+5)\n",
    "print(4+9.83)\n",
    "print(5+ 9+8j)\n",
    "print(4.283 +complex(5,2))\n",
    "\n",
    "# + on string\n",
    "print(\"Arjun \"+\"Gautam\") # concatenation"
   ]
  },
  {
   "cell_type": "code",
   "execution_count": 17,
   "metadata": {},
   "outputs": [
    {
     "name": "stdout",
     "output_type": "stream",
     "text": [
      "5\n",
      "6.382999999999999\n",
      "(3.83-4j)\n",
      "(-2.3200000000000003-24.24j)\n"
     ]
    }
   ],
   "source": [
    "print(8-3)\n",
    "print(9.383-3)\n",
    "print(5.83-complex(2,4))\n",
    "print(5-complex(7.32,24.24))"
   ]
  },
  {
   "cell_type": "code",
   "execution_count": 18,
   "metadata": {},
   "outputs": [
    {
     "name": "stdout",
     "output_type": "stream",
     "text": [
      "40\n",
      "22.599999999999998\n",
      "(21.92+36.92j)\n",
      "arjarjarj\n"
     ]
    }
   ],
   "source": [
    "print(5*8)\n",
    "print(5*4.52)\n",
    "print(5*complex(4.384,7.384))\n",
    "print(\"arj\"*3)"
   ]
  },
  {
   "cell_type": "code",
   "execution_count": 19,
   "metadata": {},
   "outputs": [
    {
     "name": "stdout",
     "output_type": "stream",
     "text": [
      "0.625\n",
      "3.15\n",
      "(0.8+0.1j)\n"
     ]
    }
   ],
   "source": [
    "print(5/8)\n",
    "print(6.3/2)\n",
    "print(complex(3,2)/complex(4,2))"
   ]
  },
  {
   "cell_type": "code",
   "execution_count": 23,
   "metadata": {},
   "outputs": [
    {
     "name": "stdout",
     "output_type": "stream",
     "text": [
      "4\n",
      "3.0\n"
     ]
    },
    {
     "ename": "TypeError",
     "evalue": "unsupported operand type(s) for //: 'complex' and 'int'",
     "output_type": "error",
     "traceback": [
      "\u001b[1;31m---------------------------------------------------------------------------\u001b[0m",
      "\u001b[1;31mTypeError\u001b[0m                                 Traceback (most recent call last)",
      "Cell \u001b[1;32mIn[23], line 3\u001b[0m\n\u001b[0;32m      1\u001b[0m \u001b[38;5;28mprint\u001b[39m(\u001b[38;5;241m9\u001b[39m\u001b[38;5;241m/\u001b[39m\u001b[38;5;241m/\u001b[39m\u001b[38;5;241m2\u001b[39m)\n\u001b[0;32m      2\u001b[0m \u001b[38;5;28mprint\u001b[39m(\u001b[38;5;241m5.383\u001b[39m\u001b[38;5;241m/\u001b[39m\u001b[38;5;241m/\u001b[39m\u001b[38;5;241m1.353\u001b[39m)\n\u001b[1;32m----> 3\u001b[0m \u001b[38;5;28mprint\u001b[39m(\u001b[38;5;28;43mcomplex\u001b[39;49m\u001b[43m(\u001b[49m\u001b[38;5;241;43m2\u001b[39;49m\u001b[43m,\u001b[49m\u001b[38;5;241;43m4\u001b[39;49m\u001b[43m)\u001b[49m\u001b[38;5;241;43m/\u001b[39;49m\u001b[38;5;241;43m/\u001b[39;49m\u001b[38;5;241;43m9\u001b[39;49m)\n",
      "\u001b[1;31mTypeError\u001b[0m: unsupported operand type(s) for //: 'complex' and 'int'"
     ]
    }
   ],
   "source": [
    "print(9//2)\n",
    "print(5.383//1.353)\n",
    "print(complex(2,4)//9)"
   ]
  },
  {
   "cell_type": "code",
   "execution_count": null,
   "metadata": {},
   "outputs": [
    {
     "name": "stdout",
     "output_type": "stream",
     "text": [
      "512\n",
      "-16\n",
      "0.25\n",
      "16\n",
      "1\n"
     ]
    }
   ],
   "source": [
    "print(2**3**2)\n",
    "print(-2**4)\n",
    "print(2**-2)\n",
    "print(pow(2,4))\n",
    "print(pow(2,4,3)) # (2^4)%3"
   ]
  },
  {
   "cell_type": "code",
   "execution_count": 27,
   "metadata": {},
   "outputs": [
    {
     "name": "stdout",
     "output_type": "stream",
     "text": [
      "2\n",
      "1.25\n",
      "0.30100000000000016\n"
     ]
    }
   ],
   "source": [
    "print(8%3)\n",
    "print(8%2.25)\n",
    "print(8.83%2.843)"
   ]
  },
  {
   "cell_type": "code",
   "execution_count": 28,
   "metadata": {},
   "outputs": [
    {
     "ename": "TypeError",
     "evalue": "'>' not supported between instances of 'complex' and 'complex'",
     "output_type": "error",
     "traceback": [
      "\u001b[1;31m---------------------------------------------------------------------------\u001b[0m",
      "\u001b[1;31mTypeError\u001b[0m                                 Traceback (most recent call last)",
      "Cell \u001b[1;32mIn[28], line 1\u001b[0m\n\u001b[1;32m----> 1\u001b[0m \u001b[38;5;28mprint\u001b[39m(\u001b[38;5;28;43mcomplex\u001b[39;49m\u001b[43m(\u001b[49m\u001b[38;5;241;43m3\u001b[39;49m\u001b[43m,\u001b[49m\u001b[38;5;241;43m2\u001b[39;49m\u001b[43m)\u001b[49m\u001b[38;5;241;43m>\u001b[39;49m\u001b[38;5;28;43mcomplex\u001b[39;49m\u001b[43m(\u001b[49m\u001b[38;5;241;43m7\u001b[39;49m\u001b[43m,\u001b[49m\u001b[38;5;241;43m3\u001b[39;49m\u001b[43m)\u001b[49m)\n",
      "\u001b[1;31mTypeError\u001b[0m: '>' not supported between instances of 'complex' and 'complex'"
     ]
    }
   ],
   "source": [
    "print(complex(3,2)>complex(7,3))"
   ]
  },
  {
   "cell_type": "code",
   "execution_count": 29,
   "metadata": {},
   "outputs": [
    {
     "name": "stdout",
     "output_type": "stream",
     "text": [
      "False\n",
      "True\n",
      "False\n",
      "False\n",
      "True\n"
     ]
    },
    {
     "ename": "ZeroDivisionError",
     "evalue": "division by zero",
     "output_type": "error",
     "traceback": [
      "\u001b[1;31m---------------------------------------------------------------------------\u001b[0m",
      "\u001b[1;31mZeroDivisionError\u001b[0m                         Traceback (most recent call last)",
      "Cell \u001b[1;32mIn[29], line 6\u001b[0m\n\u001b[0;32m      4\u001b[0m \u001b[38;5;28mprint\u001b[39m(\u001b[38;5;241m7.38\u001b[39m\u001b[38;5;241m==\u001b[39m\u001b[38;5;124m\"\u001b[39m\u001b[38;5;124marj\u001b[39m\u001b[38;5;124m\"\u001b[39m)\n\u001b[0;32m      5\u001b[0m \u001b[38;5;28mprint\u001b[39m(\u001b[38;5;241m7.384\u001b[39m\u001b[38;5;241m!=\u001b[39m[\u001b[38;5;241m1\u001b[39m,\u001b[38;5;241m3\u001b[39m])\n\u001b[1;32m----> 6\u001b[0m \u001b[38;5;28mprint\u001b[39m(\u001b[38;5;241m3\u001b[39m\u001b[38;5;241m==\u001b[39m\u001b[38;5;241;43m9\u001b[39;49m\u001b[38;5;241;43m/\u001b[39;49m\u001b[38;5;241;43m0\u001b[39;49m)\n",
      "\u001b[1;31mZeroDivisionError\u001b[0m: division by zero"
     ]
    }
   ],
   "source": [
    "print(5>6)\n",
    "print(\"Ram\">\"Bharat\")\n",
    "print([1,4,\"Ram\"]<[1,4,\"Bharat\"])\n",
    "print(7.38==\"arj\")\n",
    "print(7.384!=[1,3])\n",
    "print(3==9/0)"
   ]
  },
  {
   "cell_type": "code",
   "execution_count": 30,
   "metadata": {},
   "outputs": [
    {
     "name": "stdout",
     "output_type": "stream",
     "text": [
      "False\n"
     ]
    }
   ],
   "source": [
    "print(10>8<7)"
   ]
  },
  {
   "cell_type": "code",
   "execution_count": 4,
   "metadata": {},
   "outputs": [
    {
     "name": "stdout",
     "output_type": "stream",
     "text": [
      "False\n",
      "True\n",
      "False\n",
      "True\n",
      "sita\n",
      "arj\n",
      "[]\n",
      "gita\n",
      "[]\n",
      "{}\n"
     ]
    }
   ],
   "source": [
    "print(not(\"Arjun\"))\n",
    "print(not \"\")\n",
    "print((3<2)and 5/0)\n",
    "print((3>2) or 5/0)\n",
    "print(\"sita\" or \"gita\")\n",
    "print(\"\" or \"arj\")\n",
    "print(\"\" or [])\n",
    "print(\"sita\" and \"gita\")\n",
    "print(\"sita\" and [])\n",
    "print({} and [])"
   ]
  },
  {
   "cell_type": "code",
   "execution_count": 6,
   "metadata": {},
   "outputs": [
    {
     "name": "stdout",
     "output_type": "stream",
     "text": [
      "-6\n",
      "3\n",
      "4\n",
      "3\n",
      "7\n",
      "1\n",
      "20\n"
     ]
    }
   ],
   "source": [
    "print(~5)\n",
    "print(~-4)\n",
    "print(5&6)\n",
    "print(5^6)\n",
    "print(5|6)\n",
    "print(5>>2)\n",
    "print(5<<2)"
   ]
  },
  {
   "cell_type": "code",
   "execution_count": 7,
   "metadata": {},
   "outputs": [
    {
     "name": "stdout",
     "output_type": "stream",
     "text": [
      "True\n",
      "False\n"
     ]
    }
   ],
   "source": [
    "a=9\n",
    "b=9\n",
    "print(a is b) # Interning of int (-5,256)\n",
    "a=938\n",
    "b=938\n",
    "print(a is b)"
   ]
  },
  {
   "cell_type": "code",
   "execution_count": 18,
   "metadata": {},
   "outputs": [
    {
     "name": "stdout",
     "output_type": "stream",
     "text": [
      "True\n",
      "False\n",
      "True\n",
      "False\n"
     ]
    },
    {
     "ename": "TypeError",
     "evalue": "a bytes-like object is required, not 'str'",
     "output_type": "error",
     "traceback": [
      "\u001b[1;31m---------------------------------------------------------------------------\u001b[0m",
      "\u001b[1;31mTypeError\u001b[0m                                 Traceback (most recent call last)",
      "Cell \u001b[1;32mIn[18], line 8\u001b[0m\n\u001b[0;32m      6\u001b[0m \u001b[38;5;28mprint\u001b[39m(\u001b[38;5;241m2\u001b[39m \u001b[38;5;129;01min\u001b[39;00m s2)\n\u001b[0;32m      7\u001b[0m \u001b[38;5;28mprint\u001b[39m((\u001b[38;5;28mord\u001b[39m(\u001b[38;5;124m'\u001b[39m\u001b[38;5;124mH\u001b[39m\u001b[38;5;124m'\u001b[39m)) \u001b[38;5;129;01min\u001b[39;00m s2)\n\u001b[1;32m----> 8\u001b[0m \u001b[38;5;28mprint\u001b[39m(\u001b[38;5;124;43m'\u001b[39;49m\u001b[38;5;124;43mH\u001b[39;49m\u001b[38;5;124;43m'\u001b[39;49m\u001b[43m \u001b[49m\u001b[38;5;129;43;01min\u001b[39;49;00m\u001b[43m \u001b[49m\u001b[43mb\u001b[49m) \n",
      "\u001b[1;31mTypeError\u001b[0m: a bytes-like object is required, not 'str'"
     ]
    }
   ],
   "source": [
    "s={1,2,3}\n",
    "s2={1:\"Arj\",2:\"Ashish\"}\n",
    "b=b'Hello'\n",
    "print(1 in s)\n",
    "print(\"Arj\" in s2) # Dict check only the values of Keys\n",
    "print(2 in s2)\n",
    "print((ord('H')) in s2)\n",
    "print('H' in b) \n",
    "\n"
   ]
  },
  {
   "cell_type": "code",
   "execution_count": 22,
   "metadata": {},
   "outputs": [
    {
     "name": "stdout",
     "output_type": "stream",
     "text": [
      "140715247763952\n",
      "140715247763952\n",
      "140715247763952\n",
      "True\n"
     ]
    }
   ],
   "source": [
    "x = None\n",
    "y = None\n",
    "print(id(x))\n",
    "print(id(y))\n",
    "print(id(None))\n",
    "print(x is None)"
   ]
  },
  {
   "cell_type": "code",
   "execution_count": 17,
   "metadata": {},
   "outputs": [
    {
     "name": "stdout",
     "output_type": "stream",
     "text": [
      "<class 'int'>\n"
     ]
    }
   ],
   "source": [
    "print(type(ord('H')))"
   ]
  },
  {
   "cell_type": "markdown",
   "metadata": {},
   "source": [
    "Question:\n",
    "- What are byte-like object in python"
   ]
  }
 ],
 "metadata": {
  "kernelspec": {
   "display_name": "Python 3",
   "language": "python",
   "name": "python3"
  },
  "language_info": {
   "codemirror_mode": {
    "name": "ipython",
    "version": 3
   },
   "file_extension": ".py",
   "mimetype": "text/x-python",
   "name": "python",
   "nbconvert_exporter": "python",
   "pygments_lexer": "ipython3",
   "version": "3.13.2"
  }
 },
 "nbformat": 4,
 "nbformat_minor": 2
}
