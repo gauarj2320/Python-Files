{
 "cells": [
  {
   "cell_type": "markdown",
   "metadata": {},
   "source": []
  },
  {
   "cell_type": "code",
   "execution_count": 1,
   "metadata": {},
   "outputs": [
    {
     "name": "stdout",
     "output_type": "stream",
     "text": [
      "(1, 'arjun', (4+5j), [1, 'ajr'])\n",
      "(1,)\n",
      "(1, 'arj', [1, 'arj', (8+7j)])\n"
     ]
    }
   ],
   "source": [
    "# Declaration of a tuple\n",
    "t1=(1,\"arjun\",4+5j,[1,\"ajr\"])\n",
    "t2=(1,)# tuple with single element\n",
    "t3=()#empty tuple\n",
    "t4=1,\"arj\",[1,'arj',8+7j]\n",
    "print(t1,t2,t4,sep=\"\\n\")"
   ]
  },
  {
   "cell_type": "code",
   "execution_count": 2,
   "metadata": {},
   "outputs": [
    {
     "name": "stdout",
     "output_type": "stream",
     "text": [
      "1 2\n",
      "4 5\n"
     ]
    }
   ],
   "source": [
    "# Rest everything same as list\n",
    "t=[(1,2),(4,5)]\n",
    "for k,v in t:\n",
    "    print(k,v)"
   ]
  },
  {
   "cell_type": "code",
   "execution_count": 3,
   "metadata": {},
   "outputs": [
    {
     "name": "stdout",
     "output_type": "stream",
     "text": [
      "(1, 2)\n",
      "(4, 5)\n"
     ]
    }
   ],
   "source": [
    "for k in t:\n",
    "    print(k)"
   ]
  },
  {
   "cell_type": "code",
   "execution_count": 5,
   "metadata": {},
   "outputs": [
    {
     "name": "stdout",
     "output_type": "stream",
     "text": [
      "([1, 3, 4], 5) <class 'tuple'>\n"
     ]
    }
   ],
   "source": [
    "t=([1,3,4],5)\n",
    "print(t,type(t))"
   ]
  },
  {
   "cell_type": "code",
   "execution_count": null,
   "metadata": {},
   "outputs": [],
   "source": []
  }
 ],
 "metadata": {
  "kernelspec": {
   "display_name": "Python 3",
   "language": "python",
   "name": "python3"
  },
  "language_info": {
   "codemirror_mode": {
    "name": "ipython",
    "version": 3
   },
   "file_extension": ".py",
   "mimetype": "text/x-python",
   "name": "python",
   "nbconvert_exporter": "python",
   "pygments_lexer": "ipython3",
   "version": "3.13.2"
  }
 },
 "nbformat": 4,
 "nbformat_minor": 2
}
