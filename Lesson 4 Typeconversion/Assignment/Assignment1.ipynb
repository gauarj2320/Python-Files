{
 "cells": [
  {
   "cell_type": "markdown",
   "metadata": {},
   "source": [
    "# <span style=\"color:orange\">ASSIGNMENT-1 </span>\n",
    "---\n",
    "## Topics: input/output functions,type conversion,data types and variables,number systems and ASCII conversion"
   ]
  },
  {
   "cell_type": "code",
   "execution_count": 5,
   "metadata": {},
   "outputs": [
    {
     "name": "stdout",
     "output_type": "stream",
     "text": [
      "Hello Alice\n"
     ]
    }
   ],
   "source": [
    "#Q1.Write a Python program that asks the user for their name and greets them with their name. For example, if the user types \"Alice\", the program should print \"Hello, Alice!\"\n",
    "name=input(\"Enter your name:\")\n",
    "print(\"Hello %s\"%name)"
   ]
  },
  {
   "cell_type": "code",
   "execution_count": 6,
   "metadata": {},
   "outputs": [
    {
     "name": "stdout",
     "output_type": "stream",
     "text": [
      "The sum of 23 and 34 is 57\n"
     ]
    }
   ],
   "source": [
    "#Q2.Write a Python program to take two integers as input from the user and print their sum.\n",
    "\n",
    "num1=int(input(\"Enter the first number:\"))  \n",
    "num2=int(input(\"Enter the second number:\"))\n",
    "print(\"The sum of %d and %d is %d\"%(num1,num2,(num1+num2)))"
   ]
  },
  {
   "cell_type": "code",
   "execution_count": 7,
   "metadata": {},
   "outputs": [
    {
     "name": "stdout",
     "output_type": "stream",
     "text": [
      "Hello Arjun,you are 18 years old! \n"
     ]
    }
   ],
   "source": [
    "#Q3.Ask the user for their first name and their age. Print a message saying \"Hello [first name], you are [age] years old!\" using formatted output.\n",
    "name=input(\"Enter your first name:\")\n",
    "age=int(input(\"Enter your age:\"))\n",
    "print(f\"Hello {name},you are {age} years old! \")"
   ]
  },
  {
   "cell_type": "markdown",
   "metadata": {},
   "source": [
    "## Formatted Strings\n",
    "  Syntax:\n",
    "  ``` python \n",
    "variable = 10\n",
    "print(f\"The value of the variable is {variable}\")\n",
    "```\n",
    "\n",
    "- An f-string is created by prefixing a string literal with the letter 'f' or 'F'. Inside the string, you can include expressions wrapped in curly braces {}, which will be replaced with their values when the string is evaluated\n",
    "- **Expression within curly braces:** Inside the f-string, you can include any valid Python expression wrapped in curly braces. Python will evaluate this expression and insert its result into the string.\n",
    "Eg.\n",
    " ``` python\n",
    "x = 5\n",
    "y = 7\n",
    "print(f\"The sum of {x} and {y} is {x + y}\")\n",
    "```\n",
    "\n",
    "\n"
   ]
  },
  {
   "cell_type": "code",
   "execution_count": 16,
   "metadata": {},
   "outputs": [
    {
     "name": "stdout",
     "output_type": "stream",
     "text": [
      "The data type of (4+5j) is <class 'complex'>\n"
     ]
    }
   ],
   "source": [
    "#Q4.Write a program that asks the user to input something, and then prints the type of what they input.\n",
    "user_input=eval(input(\"Enter anything you wish\"))\n",
    "print(f\"The data type of {user_input} is {type(user_input)}\")"
   ]
  },
  {
   "cell_type": "code",
   "execution_count": 17,
   "metadata": {},
   "outputs": [
    {
     "name": "stdout",
     "output_type": "stream",
     "text": [
      "The Simple Interest is 600.0\n"
     ]
    }
   ],
   "source": [
    "#Q5.Write a program to input principal, rate of interest, and time from the user and print the simple interest calculated using the formula SI = (P * R * T) / 100.\n",
    "principal=float(input(\"Enter the principal value:\"))\n",
    "rate_int=float(input(\"Enter the rate of interest:\"))    \n",
    "time=float(input(\"Enter the duration:\"))\n",
    "print(f\"The Simple Interest is {(principal * rate_int* time) / 100}\")"
   ]
  },
  {
   "cell_type": "code",
   "execution_count": 26,
   "metadata": {},
   "outputs": [
    {
     "name": "stdout",
     "output_type": "stream",
     "text": [
      "the number is 123\n"
     ]
    }
   ],
   "source": [
    "#Q6.Explain why the following code causes an error: print(\"The number is \" + 123). Modify the code so that it works.\n",
    "print(\"the number is\" + \" 123\")\n",
    "# The error is because we cannot directly concatenate a string with an integer"
   ]
  },
  {
   "cell_type": "code",
   "execution_count": 28,
   "metadata": {},
   "outputs": [
    {
     "name": "stdout",
     "output_type": "stream",
     "text": [
      "Temperature in celsiuse scale is 38.89 degree celsius\n"
     ]
    }
   ],
   "source": [
    "#Q7.Write a program that converts temperature from Fahrenheit to Celsius. Take the Fahrenheit temperature from the user and print the Celsius temperature.\n",
    "fahrenheit=float(input(\"Enter the temp in fahrenheit\"))\n",
    "celsius_temp=(5/9)*(fahrenheit-32)\n",
    "print(f\"Temperature in celsiuse scale is {celsius_temp:.2f} degree celsius\")\n"
   ]
  },
  {
   "cell_type": "code",
   "execution_count": 29,
   "metadata": {},
   "outputs": [
    {
     "name": "stdout",
     "output_type": "stream",
     "text": [
      "The sum of 45 and 29 is 74\n"
     ]
    }
   ],
   "source": [
    "#Q8.Given the input of two numbers as strings (e.g., \"13\" and \"24\"), convert them to integers and print their sum.\n",
    "num1=input(\"Enter first number:\")\n",
    "num2=input(\"Enter second number:\")\n",
    "print(f\"The sum of {num1} and {num2} is {int(num1)+int(num2)}\")"
   ]
  },
  {
   "cell_type": "code",
   "execution_count": 30,
   "metadata": {},
   "outputs": [
    {
     "name": "stdout",
     "output_type": "stream",
     "text": [
      "Floating point number is 3.1382\n",
      " Integer number is 3\n"
     ]
    }
   ],
   "source": [
    "#Q9.Ask the user to input a floating-point number and convert it to an integer. Display both the original floating-point number and the converted integer.\n",
    "num=float(input(\"Enter a number:\"))\n",
    "num_int=int(num)\n",
    "print(f\"Floating point number is {num}\\n Integer number is {num_int}\")"
   ]
  },
  {
   "cell_type": "code",
   "execution_count": 31,
   "metadata": {},
   "outputs": [
    {
     "name": "stdout",
     "output_type": "stream",
     "text": [
      "Numbers before swapping is num1:23 and num2:34\n",
      "Numbers after swapping is num1:34 and num2:23\n"
     ]
    }
   ],
   "source": [
    "#Q10.Write a Python program to swap the values of two variables without using a third variable.\n",
    "num1=int(input(\"Enter the first number:\"))\n",
    "num2=int(input(\"Enter the second number:\"))\n",
    "print(f\"Numbers before swapping is num1:{num1} and num2:{num2}\")\n",
    "num1,num2=num2,num1\n",
    "print(f\"Numbers after swapping is num1:{num1} and num2:{num2}\")"
   ]
  },
  {
   "cell_type": "markdown",
   "metadata": {},
   "source": [
    "> The above method of swapping is called <span style=\"color:red\">tuple unpacking</span>"
   ]
  },
  {
   "cell_type": "code",
   "execution_count": 2,
   "metadata": {},
   "outputs": [
    {
     "name": "stdout",
     "output_type": "stream",
     "text": [
      "5x1 is equal to 5\n",
      "5x2 is equal to 10\n",
      "5x3 is equal to 15\n",
      "5x4 is equal to 20\n",
      "5x5 is equal to 25\n",
      "5x6 is equal to 30\n",
      "5x7 is equal to 35\n",
      "5x8 is equal to 40\n",
      "5x9 is equal to 45\n",
      "5x10 is equal to 50\n"
     ]
    }
   ],
   "source": [
    "#Q11.Ask the user to input a number, and print the multiplication table for that number from 1 to 10.\n",
    "\n",
    "num=int(input(\"Enter a number:\"))\n",
    "for i in range(1,11):\n",
    "    print(f\"{num}x{i} is equal to {num*i}\")\n",
    "\n"
   ]
  },
  {
   "cell_type": "code",
   "execution_count": 3,
   "metadata": {},
   "outputs": [
    {
     "name": "stdout",
     "output_type": "stream",
     "text": [
      "Value of x: 10\n",
      "Type of x: <class 'int'> 140726120936520\n",
      "Value of x: Hello, world!\n",
      "Type of x: <class 'str'> 2401006654128\n"
     ]
    }
   ],
   "source": [
    "#Q12.Demonstrate with a simple example how Python’s dynamic typing works (use comments in your code to explain).\n",
    "# Assign an integer value to the variable 'x'\n",
    "x = 10\n",
    "print(\"Value of x:\", x)  # Output: Value of x: 10\n",
    "print(\"Type of x:\", type(x),id(x))  # Output: Type of x: <class 'int'>\n",
    "\n",
    "# Now assign a string value to the same variable 'x'\n",
    "x = \"Hello, world!\"\n",
    "print(\"Value of x:\", x)  # Output: Value of x: Hello, world!\n",
    "print(\"Type of x:\", type(x),id(x))  # Output: Type of x: <class 'str'>\n"
   ]
  },
  {
   "cell_type": "code",
   "execution_count": 6,
   "metadata": {},
   "outputs": [
    {
     "name": "stdout",
     "output_type": "stream",
     "text": [
      "The decimal equivalent of binary number:1011 is 11\n"
     ]
    }
   ],
   "source": [
    "#Q13.Write a program that takes a binary number (e.g., 1011) as input and converts it to a decimal number.\n",
    "num=input(\"Enter a binary number:\")\n",
    "print(f\"The decimal equivalent of binary number:{num} is {int(num,2)}\")"
   ]
  },
  {
   "cell_type": "markdown",
   "metadata": {},
   "source": [
    "## int(arg,base)\n",
    "\n",
    "- If arg is an integer, int(arg, base) simply returns arg itself if base is not provided or if base is 10. If base is provided, it interprets arg as a string in that base and converts it to an integer.\n",
    "\n",
    "- If arg is a string, int(arg, base) interprets arg as a string representation of a number in the specified base and converts it to an integer in base 10.\n",
    "\n",
    "Here's an example:\n",
    "\n",
    "```python\n",
    "# Convert binary number '1010' to decimal\n",
    "decimal = int('1010', 2)\n",
    "print(decimal)  # Output: 10\n",
    "\n",
    "# Convert hexadecimal number '1A' to decimal\n",
    "decimal = int('1A', 16)\n",
    "print(decimal)  # Output: 26\n",
    "```\n",
    ">In the first example, int('1010', 2) interprets the string '1010' as a binary number and converts it to decimal, resulting in 10. In the second example, int('1A', 16) interprets the string '1A' as a hexadecimal number and converts it to decimal, resulting in 26."
   ]
  },
  {
   "cell_type": "code",
   "execution_count": 7,
   "metadata": {},
   "outputs": [
    {
     "name": "stdout",
     "output_type": "stream",
     "text": [
      "The hexadecimal equivalent of decimal no.:11 is 0xb\n"
     ]
    }
   ],
   "source": [
    "#Q14.Write a program that converts a decimal number entered by the user to its hexadecimal equivalent.\n",
    "num=int(input(\"Enter a number:\"))\n",
    "print(f\"The hexadecimal equivalent of decimal no.:{num} is {hex(num)}\")"
   ]
  },
  {
   "cell_type": "code",
   "execution_count": 9,
   "metadata": {},
   "outputs": [
    {
     "name": "stdout",
     "output_type": "stream",
     "text": [
      "Binary equvalent:0b11000\n",
      "Hexadecimal Equivalent:0x18\n",
      "Octal Equivalent:0o30\n"
     ]
    }
   ],
   "source": [
    "#Q15.Ask the user for a number in decimal and print its value in binary, octal, and hexadecimal format.\n",
    "num=int(input(\"Enter a number:\"))\n",
    "bin_num=bin(num)\n",
    "hex_num=hex(num)\n",
    "oct_num=oct(num)\n",
    "print(f\"Binary equvalent:{bin_num}\\nHexadecimal Equivalent:{hex_num}\\nOctal Equivalent:{oct_num}\")"
   ]
  },
  {
   "cell_type": "code",
   "execution_count": 11,
   "metadata": {},
   "outputs": [
    {
     "name": "stdout",
     "output_type": "stream",
     "text": [
      "The ASCII code of A is 65\n"
     ]
    }
   ],
   "source": [
    "#Q16.Write a program that takes a character as input and displays its ASCII value.\n",
    "char=input(\"Enter a character:\")\n",
    "print(f\"The ASCII code of {char} is {ord(char)}\")\n"
   ]
  },
  {
   "cell_type": "code",
   "execution_count": 13,
   "metadata": {},
   "outputs": [
    {
     "name": "stdout",
     "output_type": "stream",
     "text": [
      "The character represented by ASCII code 65 is A\n"
     ]
    }
   ],
   "source": [
    "#Q17.Write a program that takes an ASCII value (like 65) and shows its corresponding character.\n",
    "unicode=int(input(\"Enter the ASCII code of the character:\"))\n",
    "print(f\"The character represented by ASCII code {unicode} is {chr(unicode)}\")\n"
   ]
  },
  {
   "cell_type": "code",
   "execution_count": 14,
   "metadata": {},
   "outputs": [
    {
     "name": "stdout",
     "output_type": "stream",
     "text": [
      "The list of unicode of each character of string is:[65, 114, 106, 117, 110]\n"
     ]
    }
   ],
   "source": [
    "#Q18.Write a program that converts a string input by the user into a list of ASCII values corresponding to each character in the string.\n",
    "\n",
    "uni_list=list()\n",
    "string=input(\"Enter a string:\")\n",
    "for i in string:\n",
    "    uni_list.append(ord(i))\n",
    "\n",
    "print(f\"The list of unicode of each character of string is:{uni_list}\")"
   ]
  },
  {
   "cell_type": "code",
   "execution_count": 16,
   "metadata": {},
   "outputs": [
    {
     "name": "stdout",
     "output_type": "stream",
     "text": [
      "Entered value:arj\n",
      "Entered value:ashish\n",
      "Entered value:bhoumik\n",
      "Entered value:bhoumik\n"
     ]
    }
   ],
   "source": [
    "#Q19.Write a program that continuously asks the user for input and prints that input back to the user, until they type \"exit\"\n",
    "while True:\n",
    "    string=input(\"Enter anything to exit type exit\")\n",
    "    if (string=='exit'):\n",
    "        break\n",
    "    print(f\"Entered value:{string}\")\n",
    "    "
   ]
  },
  {
   "cell_type": "code",
   "execution_count": 18,
   "metadata": {},
   "outputs": [
    {
     "name": "stdout",
     "output_type": "stream",
     "text": [
      "The sum of the digits of the number 123456 is:21\n"
     ]
    }
   ],
   "source": [
    "#Q20.Write a program that asks the user to input a long number (e.g., \"123456\") and then prints the sum of the digits of that number.\n",
    "sum=0\n",
    "num=input(\"Enter a number:\")\n",
    "for i in num:\n",
    "    sum=sum+int(i)\n",
    "print(f\"The sum of the digits of the number {num} is:{sum}\")"
   ]
  }
 ],
 "metadata": {
  "kernelspec": {
   "display_name": "Python 3",
   "language": "python",
   "name": "python3"
  },
  "language_info": {
   "codemirror_mode": {
    "name": "ipython",
    "version": 3
   },
   "file_extension": ".py",
   "mimetype": "text/x-python",
   "name": "python",
   "nbconvert_exporter": "python",
   "pygments_lexer": "ipython3",
   "version": "3.11.2"
  }
 },
 "nbformat": 4,
 "nbformat_minor": 2
}
