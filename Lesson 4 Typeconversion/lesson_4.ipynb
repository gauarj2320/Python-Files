{
 "cells": [
  {
   "cell_type": "markdown",
   "metadata": {},
   "source": [
    "# **<span style=\"color:orange\">Lesson-4</span>**"
   ]
  },
  {
   "cell_type": "markdown",
   "metadata": {},
   "source": [
    "## Type Conversion\n",
    "\n",
    "### Builtin Type Conversion Functions\n",
    "- int()\n",
    "- float()\n",
    "- str()\n",
    "- bool()\n",
    "- list()\n",
    "- tuple()\n",
    "- set()\n",
    "- hex(): int literal in any base to hex\n",
    "- bin()\n",
    "- oct()\n",
    "- ord(): return ASCII unicode of Character\n",
    "- chr(): return character of ASCII Unicode\n"
   ]
  },
  {
   "cell_type": "code",
   "execution_count": 1,
   "metadata": {},
   "outputs": [
    {
     "name": "stdout",
     "output_type": "stream",
     "text": [
      "ASCII code of H is:72\n",
      "ASCII code of e is:101\n",
      "ASCII code of l is:108\n",
      "ASCII code of l is:108\n",
      "ASCII code of o is:111\n"
     ]
    }
   ],
   "source": [
    "c=\"Hello\"\n",
    "for x in c:\n",
    "    print(f\"ASCII code of {x} is:{ord(x)}\")\n"
   ]
  },
  {
   "cell_type": "code",
   "execution_count": 2,
   "metadata": {},
   "outputs": [
    {
     "name": "stdout",
     "output_type": "stream",
     "text": [
      "Character represented by ASCII value 72 is:H\n",
      "Character represented by ASCII value 101 is:e\n",
      "Character represented by ASCII value 108 is:l\n",
      "Character represented by ASCII value 108 is:l\n",
      "Character represented by ASCII value 111 is:o\n"
     ]
    }
   ],
   "source": [
    "b=[72,101,108,108,111]\n",
    "for x in b:\n",
    "    print(f\"Character represented by ASCII value {x} is:{chr(x)}\")"
   ]
  },
  {
   "cell_type": "markdown",
   "metadata": {},
   "source": [
    "`*` : Not able to directly recall\n",
    "# Things Studied till now\n",
    "- Python History\n",
    "- Features\n",
    "- Dynmaic Typing\n",
    "- Object Model\n",
    "- Memory Management\n",
    "    - Stack(Namespace)\n",
    "    - Private Heap Space\n",
    "    - dir()\n",
    "    - `dir(__buitins__)`\n",
    "    - locals()\n",
    "    - globals()\n",
    "- Python Syntax and Language Components\n",
    "    - Idetifiers:\n",
    "        - Keywords\n",
    "        - Punctuations\n",
    "        - Variables,Function,Classes,data-structure\n",
    "        - Operators\n",
    "        - Delimiters * \n",
    "        - Indentation *\n",
    "        - Literals *\n",
    "- Data-types in Python\n",
    "1. Numeric\n",
    "    - int\n",
    "    - complex\n",
    "    - float IEEE 754 format\n",
    "    - Storage Mechanism\n",
    "    - sys\n",
    "    - sys.getsizeof()\n",
    "2. Boolean\n",
    "    - True/False\n",
    "3. Sequence\n",
    "    - string\n",
    "    - list\n",
    "    - tuple\n",
    "4. Set\n",
    "    - set\n",
    "    - frozenset\n",
    "5. Mapping\n",
    "    - dictionary\n",
    "6. Bytes\n",
    "    - bytes\n",
    "    - bytearray\n",
    "    - mirrorview\n",
    "\n",
    "7. None Type\n",
    "- Concept Interning(Caching)\n",
    "- Object Model\n",
    "- Object Elements\n",
    "    - virtual address id() \n",
    "    - type type()\n",
    "    - name\n",
    "    - scope\n",
    "    - reference count*\n",
    "- Dynamic Typing:\n",
    "    - Stack and PHS\n",
    "- Scope Resolution Rule\n",
    "    - LEGB: Local,Enclosing,Global,Builtin\n",
    "- Circular Referencing\n",
    "- Object Attributes:dir(obj_name)\n",
    "\n",
    "- Modules,Package,Library\n",
    "- import Keyword\n",
    "- Name Aliasing of modules\n",
    "- Type Conversion:\n",
    "    - Inplicit(Coercion)\n",
    "    - Explicit\n",
    "        - int()\n",
    "        - float()\n",
    "        - complex()\n",
    "        - str()\n",
    "        - list()\n",
    "        - tuple()\n",
    "        - set()\n",
    "        - frozenset()\n",
    "        - dict()\n",
    "- Int 'literal' base conversion:\n",
    "    - hex()\n",
    "    - oct()\n",
    "    - bin()\n",
    "- Unicode Conversion\n",
    "    - ord()\n",
    "    - chr()\n"
   ]
  },
  {
   "cell_type": "code",
   "execution_count": null,
   "metadata": {},
   "outputs": [],
   "source": []
  }
 ],
 "metadata": {
  "kernelspec": {
   "display_name": "Python 3",
   "language": "python",
   "name": "python3"
  },
  "language_info": {
   "codemirror_mode": {
    "name": "ipython",
    "version": 3
   },
   "file_extension": ".py",
   "mimetype": "text/x-python",
   "name": "python",
   "nbconvert_exporter": "python",
   "pygments_lexer": "ipython3",
   "version": "3.13.2"
  }
 },
 "nbformat": 4,
 "nbformat_minor": 2
}
